{
  "nbformat": 4,
  "nbformat_minor": 0,
  "metadata": {
    "colab": {
      "name": "Copy of [New] Machine Learning Basics - Completed.ipynb",
      "provenance": [],
      "collapsed_sections": [
        "OnnQZqXrZDMy"
      ],
      "include_colab_link": true
    },
    "kernelspec": {
      "name": "python3",
      "display_name": "Python 3"
    }
  },
  "cells": [
    {
      "cell_type": "markdown",
      "metadata": {
        "id": "view-in-github",
        "colab_type": "text"
      },
      "source": [
        "<a href=\"https://colab.research.google.com/github/yebiFesseha/hello-world/blob/master/Machine_Learning_movies_Completed.ipynb\" target=\"_parent\"><img src=\"https://colab.research.google.com/assets/colab-badge.svg\" alt=\"Open In Colab\"/></a>"
      ]
    },
    {
      "cell_type": "markdown",
      "metadata": {
        "id": "dQde2o3Ftx_v",
        "colab_type": "text"
      },
      "source": [
        "# Machine Learning Basics\n",
        "## Box Office Data\n",
        "\n",
        "Today, we will be exploring fundamental concepts of machine learning.\n",
        "\n",
        "__Question:__ How much gross revenue will a new movie make?\n",
        "\n",
        "__Data Set:__ Information from past movies and their gross revenue, including:\n",
        "- Actor and director information\n",
        "- Movie length \n",
        "- Budget\n",
        "\n",
        "__Goal:__ Use the data from the past to build a predictive model to help us predict how much revenue a movie will make\n",
        "\n",
        "\n",
        "You will need to add some code to complete this notebook.  Follow along with the instructor to find what code to add.  You will add that where the code says \"\\*\\*\\* ADD CODE HERE\\*\\*\\*\"\n",
        "\n",
        "Have fun and good luck coding!"
      ]
    },
    {
      "cell_type": "markdown",
      "metadata": {
        "id": "4VSyLiB2jkXy",
        "colab_type": "text"
      },
      "source": [
        "## Importing the packages that we'll need\n",
        "\n",
        "One of the things that makes Python **great** for data science is all of the different libraries that exist so we don't have to code them from scratch. Tonight we'll be taking advantage of:\n",
        "- [Numpy](https://numpy.org/) for scientific and mathematical computing\n",
        "- [Pandas](https://pandas.pydata.org/) for data wrangling and analysis"
      ]
    },
    {
      "cell_type": "code",
      "metadata": {
        "id": "XkkokDMOt221",
        "colab_type": "code",
        "colab": {
          "base_uri": "https://localhost:8080/",
          "height": 71
        },
        "outputId": "950cd380-96d5-43d8-b86b-a3f3d90be70f"
      },
      "source": [
        "# data analysis packages\n",
        "import numpy as np\n",
        "import pandas as pd\n",
        "\n",
        "# plotting package\n",
        "import matplotlib.pyplot as plt\n",
        "import seaborn as sns\n",
        "\n",
        "# machine learning\n",
        "from sklearn.model_selection import train_test_split\n",
        "from sklearn.metrics import mean_squared_error"
      ],
      "execution_count": 1,
      "outputs": [
        {
          "output_type": "stream",
          "text": [
            "/usr/local/lib/python3.6/dist-packages/statsmodels/tools/_testing.py:19: FutureWarning: pandas.util.testing is deprecated. Use the functions in the public API at pandas.testing instead.\n",
            "  import pandas.util.testing as tm\n"
          ],
          "name": "stderr"
        }
      ]
    },
    {
      "cell_type": "markdown",
      "metadata": {
        "id": "hL8FF6AExTtt",
        "colab_type": "text"
      },
      "source": [
        "## Import the data\n",
        "Pandas can work with information from all kinds of data sources. Below, we'll import the data we need from a GitHub URL and read it into a Pandas Dataframe using the Pandas [`read_csv`](https://pandas.pydata.org/pandas-docs/stable/reference/api/pandas.read_csv.html) function."
      ]
    },
    {
      "cell_type": "code",
      "metadata": {
        "id": "KQusb-oRuC8I",
        "colab_type": "code",
        "colab": {}
      },
      "source": [
        "# import data from github\n",
        "data = pd.read_csv(\"https://github.com/autumntoney/predict_the_box_office/raw/master/movie_metadata.csv\")"
      ],
      "execution_count": null,
      "outputs": []
    },
    {
      "cell_type": "markdown",
      "metadata": {
        "id": "mI9J_ZlDHezH",
        "colab_type": "text"
      },
      "source": [
        "## Data Cleaning and Feature Engineering\n",
        "\n",
        "The data we just imported is not ready for modeling, so we will clean the data by removing duplicates and imputing or dropping missing values.  \n",
        "\n",
        "Then, using the cleaned data, we will engineer some features to hopefully improve our predictions.\n",
        "\n",
        "*Note: We won't get into this code in depth, but we wanted to provide the original data so you can go back to it if you wanted to clean it and/or engineer more features.* "
      ]
    },
    {
      "cell_type": "code",
      "metadata": {
        "id": "A8jknTusBVcY",
        "colab_type": "code",
        "colab": {
          "base_uri": "https://localhost:8080/",
          "height": 232
        },
        "outputId": "e05a9438-c7a9-4b33-d7a9-de71c6b6454e"
      },
      "source": [
        "# DATA CLEANING\n",
        "# Rename columns to include units\n",
        "data.rename(columns={'duration': 'duration_mins',\n",
        "                    'budget': 'budget_usd',\n",
        "                    'gross': 'gross_usd'}, inplace=True)\n",
        "\n",
        "# Drop all duplicate movie titles that were released in the same year\n",
        "data = data.drop_duplicates(subset=['movie_title', 'title_year'], keep='first').copy()\n",
        "\n",
        "# Drop the aspect ratio column,  axis=1 means drop the column\n",
        "data.drop('aspect_ratio', axis=1, inplace=True)\n",
        "\n",
        "# Drop all null values of gross\n",
        "# You will be predicting this value\n",
        "# so don't want to impute these values (skew the analysis)\n",
        "data.dropna(subset=['gross_usd'], how='all', inplace=True)\n",
        "\n",
        "# Drop movies where the year is missing\n",
        "data.dropna(subset=['title_year'], how='all', inplace=True)\n",
        "# Convert all years to integers\n",
        "data['title_year'] = data['title_year'].astype(int)\n",
        "\n",
        "# Calculate median budgets per year\n",
        "# Impute the median budgets per year for missing budget data\n",
        "data['budget_usd'] = data['budget_usd'].fillna(data.groupby('title_year')['budget_usd'].transform('median'))\n",
        "\n",
        "# Drop the remaining row that is missing budget\n",
        "# (no other movies from 1942 in the dataset)\n",
        "data.dropna(subset=['budget_usd'], axis=0, inplace=True)\n",
        "\n",
        "# Find how many movies are in each country in the data\n",
        "counts = data['country'].value_counts()\n",
        "# Select the data from only the top 3 countries\n",
        "data = data[data['country'].isin(counts.nlargest(3).index)].copy()\n",
        "\n",
        "# Dropping all remaining rows that have null values\n",
        "data.dropna(axis=0, inplace=True)\n",
        "\n",
        "# FEATURE ENGINEERING\n",
        "# Identify all movie counts, select all star actors\n",
        "lead_movie_counts = data['actor_1_name'].value_counts()\n",
        "star_actors = lead_movie_counts[lead_movie_counts >= 20].index\n",
        "# Set `lead_star` = 1 if actor is in star_actors, otherwise 0\n",
        "data['lead_star'] = [1 if x in star_actors else 0 for x in data['actor_1_name']]\n",
        "\n",
        "# Encoding ratings as dummy variables\n",
        "content_ratings = pd.get_dummies(data['content_rating'])\n",
        "# Merge the encoded data back on to the original data\n",
        "data = data.join(content_ratings)\n",
        "\n",
        "# Select columns by data type - number\n",
        "numerical_data = data.select_dtypes(include='number')\n",
        "numerical_data.head()"
      ],
      "execution_count": null,
      "outputs": [
        {
          "output_type": "execute_result",
          "data": {
            "text/html": [
              "<div>\n",
              "<style scoped>\n",
              "    .dataframe tbody tr th:only-of-type {\n",
              "        vertical-align: middle;\n",
              "    }\n",
              "\n",
              "    .dataframe tbody tr th {\n",
              "        vertical-align: top;\n",
              "    }\n",
              "\n",
              "    .dataframe thead th {\n",
              "        text-align: right;\n",
              "    }\n",
              "</style>\n",
              "<table border=\"1\" class=\"dataframe\">\n",
              "  <thead>\n",
              "    <tr style=\"text-align: right;\">\n",
              "      <th></th>\n",
              "      <th>num_critic_for_reviews</th>\n",
              "      <th>duration_mins</th>\n",
              "      <th>director_facebook_likes</th>\n",
              "      <th>actor_3_facebook_likes</th>\n",
              "      <th>actor_1_facebook_likes</th>\n",
              "      <th>gross_usd</th>\n",
              "      <th>num_voted_users</th>\n",
              "      <th>cast_total_facebook_likes</th>\n",
              "      <th>facenumber_in_poster</th>\n",
              "      <th>num_user_for_reviews</th>\n",
              "      <th>budget_usd</th>\n",
              "      <th>title_year</th>\n",
              "      <th>actor_2_facebook_likes</th>\n",
              "      <th>imdb_score</th>\n",
              "      <th>movie_facebook_likes</th>\n",
              "      <th>lead_star</th>\n",
              "      <th>Approved</th>\n",
              "      <th>G</th>\n",
              "      <th>GP</th>\n",
              "      <th>M</th>\n",
              "      <th>NC-17</th>\n",
              "      <th>Not Rated</th>\n",
              "      <th>PG</th>\n",
              "      <th>PG-13</th>\n",
              "      <th>Passed</th>\n",
              "      <th>R</th>\n",
              "      <th>Unrated</th>\n",
              "      <th>X</th>\n",
              "    </tr>\n",
              "  </thead>\n",
              "  <tbody>\n",
              "    <tr>\n",
              "      <th>0</th>\n",
              "      <td>723.0</td>\n",
              "      <td>178.0</td>\n",
              "      <td>0.0</td>\n",
              "      <td>855.0</td>\n",
              "      <td>1000.0</td>\n",
              "      <td>760505847.0</td>\n",
              "      <td>886204</td>\n",
              "      <td>4834</td>\n",
              "      <td>0.0</td>\n",
              "      <td>3054.0</td>\n",
              "      <td>237000000.0</td>\n",
              "      <td>2009</td>\n",
              "      <td>936.0</td>\n",
              "      <td>7.9</td>\n",
              "      <td>33000</td>\n",
              "      <td>0</td>\n",
              "      <td>0</td>\n",
              "      <td>0</td>\n",
              "      <td>0</td>\n",
              "      <td>0</td>\n",
              "      <td>0</td>\n",
              "      <td>0</td>\n",
              "      <td>0</td>\n",
              "      <td>1</td>\n",
              "      <td>0</td>\n",
              "      <td>0</td>\n",
              "      <td>0</td>\n",
              "      <td>0</td>\n",
              "    </tr>\n",
              "    <tr>\n",
              "      <th>1</th>\n",
              "      <td>302.0</td>\n",
              "      <td>169.0</td>\n",
              "      <td>563.0</td>\n",
              "      <td>1000.0</td>\n",
              "      <td>40000.0</td>\n",
              "      <td>309404152.0</td>\n",
              "      <td>471220</td>\n",
              "      <td>48350</td>\n",
              "      <td>0.0</td>\n",
              "      <td>1238.0</td>\n",
              "      <td>300000000.0</td>\n",
              "      <td>2007</td>\n",
              "      <td>5000.0</td>\n",
              "      <td>7.1</td>\n",
              "      <td>0</td>\n",
              "      <td>1</td>\n",
              "      <td>0</td>\n",
              "      <td>0</td>\n",
              "      <td>0</td>\n",
              "      <td>0</td>\n",
              "      <td>0</td>\n",
              "      <td>0</td>\n",
              "      <td>0</td>\n",
              "      <td>1</td>\n",
              "      <td>0</td>\n",
              "      <td>0</td>\n",
              "      <td>0</td>\n",
              "      <td>0</td>\n",
              "    </tr>\n",
              "    <tr>\n",
              "      <th>2</th>\n",
              "      <td>602.0</td>\n",
              "      <td>148.0</td>\n",
              "      <td>0.0</td>\n",
              "      <td>161.0</td>\n",
              "      <td>11000.0</td>\n",
              "      <td>200074175.0</td>\n",
              "      <td>275868</td>\n",
              "      <td>11700</td>\n",
              "      <td>1.0</td>\n",
              "      <td>994.0</td>\n",
              "      <td>245000000.0</td>\n",
              "      <td>2015</td>\n",
              "      <td>393.0</td>\n",
              "      <td>6.8</td>\n",
              "      <td>85000</td>\n",
              "      <td>0</td>\n",
              "      <td>0</td>\n",
              "      <td>0</td>\n",
              "      <td>0</td>\n",
              "      <td>0</td>\n",
              "      <td>0</td>\n",
              "      <td>0</td>\n",
              "      <td>0</td>\n",
              "      <td>1</td>\n",
              "      <td>0</td>\n",
              "      <td>0</td>\n",
              "      <td>0</td>\n",
              "      <td>0</td>\n",
              "    </tr>\n",
              "    <tr>\n",
              "      <th>3</th>\n",
              "      <td>813.0</td>\n",
              "      <td>164.0</td>\n",
              "      <td>22000.0</td>\n",
              "      <td>23000.0</td>\n",
              "      <td>27000.0</td>\n",
              "      <td>448130642.0</td>\n",
              "      <td>1144337</td>\n",
              "      <td>106759</td>\n",
              "      <td>0.0</td>\n",
              "      <td>2701.0</td>\n",
              "      <td>250000000.0</td>\n",
              "      <td>2012</td>\n",
              "      <td>23000.0</td>\n",
              "      <td>8.5</td>\n",
              "      <td>164000</td>\n",
              "      <td>0</td>\n",
              "      <td>0</td>\n",
              "      <td>0</td>\n",
              "      <td>0</td>\n",
              "      <td>0</td>\n",
              "      <td>0</td>\n",
              "      <td>0</td>\n",
              "      <td>0</td>\n",
              "      <td>1</td>\n",
              "      <td>0</td>\n",
              "      <td>0</td>\n",
              "      <td>0</td>\n",
              "      <td>0</td>\n",
              "    </tr>\n",
              "    <tr>\n",
              "      <th>5</th>\n",
              "      <td>462.0</td>\n",
              "      <td>132.0</td>\n",
              "      <td>475.0</td>\n",
              "      <td>530.0</td>\n",
              "      <td>640.0</td>\n",
              "      <td>73058679.0</td>\n",
              "      <td>212204</td>\n",
              "      <td>1873</td>\n",
              "      <td>1.0</td>\n",
              "      <td>738.0</td>\n",
              "      <td>263700000.0</td>\n",
              "      <td>2012</td>\n",
              "      <td>632.0</td>\n",
              "      <td>6.6</td>\n",
              "      <td>24000</td>\n",
              "      <td>0</td>\n",
              "      <td>0</td>\n",
              "      <td>0</td>\n",
              "      <td>0</td>\n",
              "      <td>0</td>\n",
              "      <td>0</td>\n",
              "      <td>0</td>\n",
              "      <td>0</td>\n",
              "      <td>1</td>\n",
              "      <td>0</td>\n",
              "      <td>0</td>\n",
              "      <td>0</td>\n",
              "      <td>0</td>\n",
              "    </tr>\n",
              "  </tbody>\n",
              "</table>\n",
              "</div>"
            ],
            "text/plain": [
              "   num_critic_for_reviews  duration_mins  ...  Unrated  X\n",
              "0                   723.0          178.0  ...        0  0\n",
              "1                   302.0          169.0  ...        0  0\n",
              "2                   602.0          148.0  ...        0  0\n",
              "3                   813.0          164.0  ...        0  0\n",
              "5                   462.0          132.0  ...        0  0\n",
              "\n",
              "[5 rows x 28 columns]"
            ]
          },
          "metadata": {
            "tags": []
          },
          "execution_count": 3
        }
      ]
    },
    {
      "cell_type": "markdown",
      "metadata": {
        "id": "pEyc_snwHPlt",
        "colab_type": "text"
      },
      "source": [
        "## Selecting Features and Output\n",
        "We're just about ready for the machine learning phase of our project, but first we'll want to identify 2 different things:\n",
        "1. **Feature matrix**: this is the group of columns (features/variables/attributes) that will be used to determine our outcome.\n",
        "2. **Target array**: this is the series (target/label/outcome) that contains the information that we're ultimately trying to predict.\n",
        "\n",
        "So in this case, we're using the numerical data columns to predict the `gross_usd` revenue of the movies!"
      ]
    },
    {
      "cell_type": "code",
      "metadata": {
        "id": "_zvD-A3rWaxa",
        "colab_type": "code",
        "colab": {}
      },
      "source": [
        "# Identifying our Feature set (X) and target (y) variables for modeling\n",
        "X = numerical_data.drop(['gross_usd'], axis=1)\n",
        "y = numerical_data['gross_usd']"
      ],
      "execution_count": null,
      "outputs": []
    },
    {
      "cell_type": "markdown",
      "metadata": {
        "id": "9ci7tGtolzas",
        "colab_type": "text"
      },
      "source": [
        "Now that we have our data cleaned and features engineered, the final step before we can model is splitting the data into training sets and testing sets so we can evaluate the models.  We'll use the sklearn [`train_test_split`](https://scikit-learn.org/stable/modules/generated/sklearn.model_selection.train_test_split.html) function to do this, keeping 20% of the data in the test set, so we can train the model with 80% of the data. "
      ]
    },
    {
      "cell_type": "code",
      "metadata": {
        "id": "b1IIba5Mly0u",
        "colab_type": "code",
        "colab": {}
      },
      "source": [
        "X_train, X_test, y_train, y_test = train_test_split(X, y, test_size=0.2, random_state=42)"
      ],
      "execution_count": null,
      "outputs": []
    },
    {
      "cell_type": "markdown",
      "metadata": {
        "id": "z6gBiaVjnSVU",
        "colab_type": "text"
      },
      "source": [
        "## Machine Learning Steps\n",
        "We always do 4 things when modeling:\n",
        "1. Instantiate the model (start it up)\n",
        "2. Fit the model using the `.fit()` function\n",
        "3. Make predictions using the `.predict()` function\n",
        "4. Evaluate the model using our chosen evaluation metrics\n",
        "\n",
        "We will do all of these steps for each model we've chosen to use today, linear regression, decision tree, and random forest."
      ]
    },
    {
      "cell_type": "markdown",
      "metadata": {
        "id": "jktE61oFnCeC",
        "colab_type": "text"
      },
      "source": [
        "## Linear Regression\n",
        "\n",
        "A [linear regression](https://www.youtube.com/user/joshstarmer/search?query=linear+regression) model finds the line of best fit for the data.  \n",
        "\n",
        "This line of best fit has an equation similar to `y = mx+b`.  \n",
        "The line found by the model has a pre-determined `m` (slope), and `b` (intercept), so when you have a new input (`x`), your `y` is your prediction.\n",
        "\n",
        "Note that in this example, there is only one feature (`x`), but most models will use more features and therefore have more terms in the equation.\n",
        "\n",
        "[Linear Regression](https://scikit-learn.org/stable/modules/generated/sklearn.linear_model.LinearRegression.html) models are good for simple data sets and where a linear relationship exists.\n",
        "\n",
        "\n",
        "*Note: Detail on [how much math is needed for Data Science](https://www.thinkful.com/blog/math-needed-for-data-science/)*\n"
      ]
    },
    {
      "cell_type": "markdown",
      "metadata": {
        "id": "MTZ61kl5I70q",
        "colab_type": "text"
      },
      "source": [
        "<div>\n",
        "<img src=\"https://mlfromscratch.com/content/images/2020/01/linearRegression2-3.png\" width=\"500\"/>\n",
        "</div>"
      ]
    },
    {
      "cell_type": "code",
      "metadata": {
        "id": "eKWhluI3Waki",
        "colab_type": "code",
        "colab": {
          "base_uri": "https://localhost:8080/",
          "height": 34
        },
        "outputId": "00acadf0-8d3d-446f-e3f4-3acd1e7a1b58"
      },
      "source": [
        "from sklearn.linear_model import LinearRegression\n",
        "\n",
        "# Step 1: Instantiating the model\n",
        "lr = LinearRegression()\n",
        "\n",
        "# Step 2: Fit the model (note, we use the train set here)\n",
        "lr.fit(X_train, y_train)"
      ],
      "execution_count": null,
      "outputs": [
        {
          "output_type": "execute_result",
          "data": {
            "text/plain": [
              "LinearRegression(copy_X=True, fit_intercept=True, n_jobs=None, normalize=False)"
            ]
          },
          "metadata": {
            "tags": []
          },
          "execution_count": 6
        }
      ]
    },
    {
      "cell_type": "markdown",
      "metadata": {
        "id": "FwMXXH01pZ5O",
        "colab_type": "text"
      },
      "source": [
        "Now that we've trained the model, we can make predictions.  We will predict the `y`-values of the test set using the `.predict()` function and plot the predictions against the actuals to determine how well the model predicted the gross revenue of the movie.  \n",
        "\n",
        "Note: If the model was perfect at predicting the gross revenue of movies, the points would follow the red line (`y=x`)"
      ]
    },
    {
      "cell_type": "code",
      "metadata": {
        "id": "D7Fzyo5FY4p_",
        "colab_type": "code",
        "colab": {
          "base_uri": "https://localhost:8080/",
          "height": 295
        },
        "outputId": "0b6f5883-1037-4f6c-feba-dcd2f28bf6fb"
      },
      "source": [
        "# Step 3: Make predictions (note, we use the test set here)\n",
        "y_pred_lr = lr.predict(X_test)\n",
        "\n",
        "# Plot predicted values versus actual values\n",
        "plt.scatter(y_test, y_pred_lr)\n",
        "plt.plot([0,8e8], [0,8e8], linestyle='-', color='red')\n",
        "plt.xlabel('Actual')\n",
        "plt.ylabel('Predicted')\n",
        "plt.title('Predicted and Actual Gross Revenue - Linear Regression');"
      ],
      "execution_count": null,
      "outputs": [
        {
          "output_type": "display_data",
          "data": {
            "image/png": "[encoded data removed]",
            "text/plain": [
              "<Figure size 432x288 with 1 Axes>"
            ]
          },
          "metadata": {
            "tags": [],
            "needs_background": "light"
          }
        }
      ]
    },
    {
      "cell_type": "markdown",
      "metadata": {
        "id": "ZPQZp2mOqFJv",
        "colab_type": "text"
      },
      "source": [
        "We can see that the model did an okay job of predicting the gross revenues of movies that had a lower revenue, but it wasn't able to predict the output of the higher grossing movies.\n",
        "\n",
        "Let's evaluate our model using both R-squared ($R^2$) and [`Root`](https://numpy.org/doc/1.18/reference/generated/numpy.sqrt.html) [`Mean Squared Error`](https://scikit-learn.org/stable/modules/generated/sklearn.metrics.mean_squared_error.html) (RMSE).  As a reminder, models that can explain more variance in the data have $R^2$ values closer to 1, and lower RMSE means that the data is concentrated more closely around the line of best fit."
      ]
    },
    {
      "cell_type": "code",
      "metadata": {
        "id": "kbXTYHHdWaCA",
        "colab_type": "code",
        "colab": {
          "base_uri": "https://localhost:8080/",
          "height": 67
        },
        "outputId": "fc27b4ce-e7b3-4bd6-cd50-b67c3f2c41f7"
      },
      "source": [
        "# Step 4: Evaluate the model (note, we use the test set here)\n",
        "print('Evaluating the Linear Regression Model')\n",
        "lr_r2 = lr.score(X_test, y_test)\n",
        "print('R Squared: \\t\\t\\t', lr_r2)\n",
        "\n",
        "lr_rmse = np.sqrt(mean_squared_error(y_test, y_pred_lr))\n",
        "print('Root Mean Squared Error: \\t', lr_rmse)\n"
      ],
      "execution_count": null,
      "outputs": [
        {
          "output_type": "stream",
          "text": [
            "Evaluating the Linear Regression Model\n",
            "R Squared: \t\t\t 0.646624714708111\n",
            "Root Mean Squared Error: \t 44495480.23955882\n"
          ],
          "name": "stdout"
        }
      ]
    },
    {
      "cell_type": "markdown",
      "metadata": {
        "id": "LYm0-7LLNkiv",
        "colab_type": "text"
      },
      "source": [
        "Great - we'll compare these evaluation metrics to the other models we are going to try. \n",
        "\n",
        "To help us understand how the model is making predictions, we can check out the Linear Regression's intercept and coefficients."
      ]
    },
    {
      "cell_type": "code",
      "metadata": {
        "id": "2c8cCYwHooOB",
        "colab_type": "code",
        "colab": {
          "base_uri": "https://localhost:8080/",
          "height": 863
        },
        "outputId": "f92e4377-aa60-4d31-cfca-94fff5a38676"
      },
      "source": [
        "# Interpreting how the model is making predictions\n",
        "# Linear regression models give the coefficients (m), and intercept (b)\n",
        "coefs = pd.DataFrame(zip(X.columns, lr.coef_), \n",
        "                     columns=['Feature Names', 'Coefficients'])\n",
        "print('Intercept: ', lr.intercept_)\n",
        "coefs.sort_values('Coefficients', ascending=False)"
      ],
      "execution_count": null,
      "outputs": [
        {
          "output_type": "stream",
          "text": [
            "Intercept:  1493305776.6120522\n"
          ],
          "name": "stdout"
        },
        {
          "output_type": "execute_result",
          "data": {
            "text/html": [
              "<div>\n",
              "<style scoped>\n",
              "    .dataframe tbody tr th:only-of-type {\n",
              "        vertical-align: middle;\n",
              "    }\n",
              "\n",
              "    .dataframe tbody tr th {\n",
              "        vertical-align: top;\n",
              "    }\n",
              "\n",
              "    .dataframe thead th {\n",
              "        text-align: right;\n",
              "    }\n",
              "</style>\n",
              "<table border=\"1\" class=\"dataframe\">\n",
              "  <thead>\n",
              "    <tr style=\"text-align: right;\">\n",
              "      <th></th>\n",
              "      <th>Feature Names</th>\n",
              "      <th>Coefficients</th>\n",
              "    </tr>\n",
              "  </thead>\n",
              "  <tbody>\n",
              "    <tr>\n",
              "      <th>16</th>\n",
              "      <td>G</td>\n",
              "      <td>3.425091e+07</td>\n",
              "    </tr>\n",
              "    <tr>\n",
              "      <th>21</th>\n",
              "      <td>PG</td>\n",
              "      <td>2.620286e+07</td>\n",
              "    </tr>\n",
              "    <tr>\n",
              "      <th>18</th>\n",
              "      <td>M</td>\n",
              "      <td>1.531109e+07</td>\n",
              "    </tr>\n",
              "    <tr>\n",
              "      <th>22</th>\n",
              "      <td>PG-13</td>\n",
              "      <td>1.185229e+07</td>\n",
              "    </tr>\n",
              "    <tr>\n",
              "      <th>14</th>\n",
              "      <td>lead_star</td>\n",
              "      <td>4.444894e+06</td>\n",
              "    </tr>\n",
              "    <tr>\n",
              "      <th>17</th>\n",
              "      <td>GP</td>\n",
              "      <td>4.281497e+06</td>\n",
              "    </tr>\n",
              "    <tr>\n",
              "      <th>15</th>\n",
              "      <td>Approved</td>\n",
              "      <td>6.817379e+05</td>\n",
              "    </tr>\n",
              "    <tr>\n",
              "      <th>12</th>\n",
              "      <td>imdb_score</td>\n",
              "      <td>4.639117e+05</td>\n",
              "    </tr>\n",
              "    <tr>\n",
              "      <th>0</th>\n",
              "      <td>num_critic_for_reviews</td>\n",
              "      <td>5.402148e+04</td>\n",
              "    </tr>\n",
              "    <tr>\n",
              "      <th>6</th>\n",
              "      <td>cast_total_facebook_likes</td>\n",
              "      <td>7.081828e+03</td>\n",
              "    </tr>\n",
              "    <tr>\n",
              "      <th>8</th>\n",
              "      <td>num_user_for_reviews</td>\n",
              "      <td>3.572969e+03</td>\n",
              "    </tr>\n",
              "    <tr>\n",
              "      <th>5</th>\n",
              "      <td>num_voted_users</td>\n",
              "      <td>1.881286e+02</td>\n",
              "    </tr>\n",
              "    <tr>\n",
              "      <th>9</th>\n",
              "      <td>budget_usd</td>\n",
              "      <td>6.123515e-01</td>\n",
              "    </tr>\n",
              "    <tr>\n",
              "      <th>13</th>\n",
              "      <td>movie_facebook_likes</td>\n",
              "      <td>-5.502567e+01</td>\n",
              "    </tr>\n",
              "    <tr>\n",
              "      <th>2</th>\n",
              "      <td>director_facebook_likes</td>\n",
              "      <td>-1.015833e+03</td>\n",
              "    </tr>\n",
              "    <tr>\n",
              "      <th>7</th>\n",
              "      <td>facenumber_in_poster</td>\n",
              "      <td>-2.614978e+03</td>\n",
              "    </tr>\n",
              "    <tr>\n",
              "      <th>11</th>\n",
              "      <td>actor_2_facebook_likes</td>\n",
              "      <td>-6.524557e+03</td>\n",
              "    </tr>\n",
              "    <tr>\n",
              "      <th>4</th>\n",
              "      <td>actor_1_facebook_likes</td>\n",
              "      <td>-7.250688e+03</td>\n",
              "    </tr>\n",
              "    <tr>\n",
              "      <th>3</th>\n",
              "      <td>actor_3_facebook_likes</td>\n",
              "      <td>-9.252120e+03</td>\n",
              "    </tr>\n",
              "    <tr>\n",
              "      <th>1</th>\n",
              "      <td>duration_mins</td>\n",
              "      <td>-8.814866e+04</td>\n",
              "    </tr>\n",
              "    <tr>\n",
              "      <th>10</th>\n",
              "      <td>title_year</td>\n",
              "      <td>-7.485324e+05</td>\n",
              "    </tr>\n",
              "    <tr>\n",
              "      <th>24</th>\n",
              "      <td>R</td>\n",
              "      <td>-3.024978e+06</td>\n",
              "    </tr>\n",
              "    <tr>\n",
              "      <th>20</th>\n",
              "      <td>Not Rated</td>\n",
              "      <td>-3.788610e+06</td>\n",
              "    </tr>\n",
              "    <tr>\n",
              "      <th>25</th>\n",
              "      <td>Unrated</td>\n",
              "      <td>-4.466370e+06</td>\n",
              "    </tr>\n",
              "    <tr>\n",
              "      <th>19</th>\n",
              "      <td>NC-17</td>\n",
              "      <td>-1.237022e+07</td>\n",
              "    </tr>\n",
              "    <tr>\n",
              "      <th>26</th>\n",
              "      <td>X</td>\n",
              "      <td>-1.600214e+07</td>\n",
              "    </tr>\n",
              "    <tr>\n",
              "      <th>23</th>\n",
              "      <td>Passed</td>\n",
              "      <td>-5.292809e+07</td>\n",
              "    </tr>\n",
              "  </tbody>\n",
              "</table>\n",
              "</div>"
            ],
            "text/plain": [
              "                Feature Names  Coefficients\n",
              "16                          G  3.425091e+07\n",
              "21                         PG  2.620286e+07\n",
              "18                          M  1.531109e+07\n",
              "22                      PG-13  1.185229e+07\n",
              "14                  lead_star  4.444894e+06\n",
              "17                         GP  4.281497e+06\n",
              "15                   Approved  6.817379e+05\n",
              "12                 imdb_score  4.639117e+05\n",
              "0      num_critic_for_reviews  5.402148e+04\n",
              "6   cast_total_facebook_likes  7.081828e+03\n",
              "8        num_user_for_reviews  3.572969e+03\n",
              "5             num_voted_users  1.881286e+02\n",
              "9                  budget_usd  6.123515e-01\n",
              "13       movie_facebook_likes -5.502567e+01\n",
              "2     director_facebook_likes -1.015833e+03\n",
              "7        facenumber_in_poster -2.614978e+03\n",
              "11     actor_2_facebook_likes -6.524557e+03\n",
              "4      actor_1_facebook_likes -7.250688e+03\n",
              "3      actor_3_facebook_likes -9.252120e+03\n",
              "1               duration_mins -8.814866e+04\n",
              "10                 title_year -7.485324e+05\n",
              "24                          R -3.024978e+06\n",
              "20                  Not Rated -3.788610e+06\n",
              "25                    Unrated -4.466370e+06\n",
              "19                      NC-17 -1.237022e+07\n",
              "26                          X -1.600214e+07\n",
              "23                     Passed -5.292809e+07"
            ]
          },
          "metadata": {
            "tags": []
          },
          "execution_count": 9
        }
      ]
    },
    {
      "cell_type": "markdown",
      "metadata": {
        "id": "MvwArAu6s-tl",
        "colab_type": "text"
      },
      "source": [
        "So what does this mean?\n",
        "\n",
        "The `intercept` is the gross revenue of a movie before you take into account any of the features of the movie.  Then each `coefficient` represents the amount of change in the gross revenue for each feature.  \n",
        "\n",
        "Linear Regression models are great for being able to explain exactly how the model made its predictions. "
      ]
    },
    {
      "cell_type": "markdown",
      "metadata": {
        "id": "lnWZMxwAqOSU",
        "colab_type": "text"
      },
      "source": [
        "## Decision Tree\n",
        "Decision Trees in classification problems are like flow charts where the model takes the data from the past to figure out the best split points to predict what category the data is in.  \n",
        "\n",
        "In regression, the model does the same, but instead of predicting the category, the numerical values at the end of the flow chart (leaves) are averaged to determine the predicted value.  \n",
        "\n",
        "In the example below, the `Windy = FALSE` number of hours played are all averaged to get the prediction value of 47.7 hours.\n",
        "And the `Windy = TRUE` hours played are averaged to get the prediction value of 26.5 hours.\n",
        "\n",
        "[Decision trees](https://scikit-learn.org/stable/modules/generated/sklearn.tree.DecisionTreeRegressor.html) are good for non-linear relationships, but can be prone to overfitting (the model predicts too closely to the training set).\n"
      ]
    },
    {
      "cell_type": "markdown",
      "metadata": {
        "id": "iBFj_pMtSDED",
        "colab_type": "text"
      },
      "source": [
        "<div>\n",
        "<img src=\"https://www.saedsayad.com/images/Decision_tree_r8.png\" width=\"700\"/>\n",
        "</div>"
      ]
    },
    {
      "cell_type": "code",
      "metadata": {
        "id": "PjxZWzotqRWT",
        "colab_type": "code",
        "colab": {
          "base_uri": "https://localhost:8080/",
          "height": 118
        },
        "outputId": "642e7ec5-f760-4afa-bd80-8251659a4076"
      },
      "source": [
        "from sklearn.tree import DecisionTreeRegressor\n",
        "\n",
        "# Step 1: Instantiating the model\n",
        "dt = DecisionTreeRegressor(random_state=42)\n",
        "\n",
        "# Step 2: Fit the model (note, we use the train set here)\n",
        "dt.fit(X_train, y_train)"
      ],
      "execution_count": null,
      "outputs": [
        {
          "output_type": "execute_result",
          "data": {
            "text/plain": [
              "DecisionTreeRegressor(ccp_alpha=0.0, criterion='mse', max_depth=None,\n",
              "                      max_features=None, max_leaf_nodes=None,\n",
              "                      min_impurity_decrease=0.0, min_impurity_split=None,\n",
              "                      min_samples_leaf=1, min_samples_split=2,\n",
              "                      min_weight_fraction_leaf=0.0, presort='deprecated',\n",
              "                      random_state=42, splitter='best')"
            ]
          },
          "metadata": {
            "tags": []
          },
          "execution_count": 10
        }
      ]
    },
    {
      "cell_type": "code",
      "metadata": {
        "id": "LikAuCDVqRJe",
        "colab_type": "code",
        "colab": {
          "base_uri": "https://localhost:8080/",
          "height": 295
        },
        "outputId": "c4997639-87b7-4adb-fc17-03ffa1cbf642"
      },
      "source": [
        "# Step 3: Make predictions (note, we use the test set here)\n",
        "y_pred_dt = dt.predict(X_test)\n",
        "\n",
        "# Plot predicted values versus actual values\n",
        "plt.scatter(y_test, y_pred_dt)\n",
        "plt.plot([0,8e8], [0,8e8], linestyle='-', color='red')\n",
        "plt.xlabel('Actual')\n",
        "plt.ylabel('Predicted')\n",
        "plt.title('Predicted and Actual Gross Revenue - Decision Tree');"
      ],
      "execution_count": null,
      "outputs": [
        {
          "output_type": "display_data",
          "data": {
            "image/png": "[encoded data removed]",
            "text/plain": [
              "<Figure size 432x288 with 1 Axes>"
            ]
          },
          "metadata": {
            "tags": [],
            "needs_background": "light"
          }
        }
      ]
    },
    {
      "cell_type": "markdown",
      "metadata": {
        "id": "Op9HX54cT4KB",
        "colab_type": "text"
      },
      "source": [
        "Visually, this model was a little better at predicting the higher grossing movies than the linear regression model, but is worse at predicting the lower grossing movies.  Let's check out the evaluation metrics."
      ]
    },
    {
      "cell_type": "code",
      "metadata": {
        "id": "67x3bCzmqRQI",
        "colab_type": "code",
        "colab": {
          "base_uri": "https://localhost:8080/",
          "height": 67
        },
        "outputId": "4d64162c-78d5-4975-b6e8-03747318dbea"
      },
      "source": [
        "# Step 4: Evaluate the model (note, we use the test set here)\n",
        "print('Evaluating the Decision Tree Model')\n",
        "dt_r2 = dt.score(X_test, y_test)\n",
        "print('R Squared: \\t\\t\\t', dt_r2)\n",
        "dt_rmse = np.sqrt(mean_squared_error(y_test, y_pred_dt))\n",
        "print('Root Mean Squared Error: \\t', dt_rmse)\n"
      ],
      "execution_count": null,
      "outputs": [
        {
          "output_type": "stream",
          "text": [
            "Evaluating the Decision Tree Model\n",
            "R Squared: \t\t\t 0.39720785586230845\n",
            "Root Mean Squared Error: \t 58114111.76458808\n"
          ],
          "name": "stdout"
        }
      ]
    },
    {
      "cell_type": "markdown",
      "metadata": {
        "id": "H2TZWYGVVSXh",
        "colab_type": "text"
      },
      "source": [
        "This Decision Tree has a lower $R^2$ and a higher RMSE than the linear regression, so our visual representation of the predictions matches with the evaluation metrics.\n",
        "\n",
        "Now for tree-based models, there aren't coefficients to explain the predictions, but they **do** have feature importances, which represent how much each feature (column/variable) impacts the predition.  Feature importances are values between 0 and 1, with higher values representing features that are more valuable in making predictions.  However, this does NOT represent if the feature is important in increasing or decreasing the predicted value."
      ]
    },
    {
      "cell_type": "code",
      "metadata": {
        "id": "hEDGHSd8qRUe",
        "colab_type": "code",
        "colab": {
          "base_uri": "https://localhost:8080/",
          "height": 846
        },
        "outputId": "0d09420d-6172-4227-9b4e-512074c00918"
      },
      "source": [
        "# Interpreting how the model is making predictions\n",
        "# Decision trees calculate the importance of features \n",
        "#(doesn't speak to directionality)\n",
        "import_dt = pd.DataFrame(zip(X.columns, dt.feature_importances_, ),\n",
        "                         columns=['Feature Names', 'Feature Importances'])\n",
        "import_dt.sort_values('Feature Importances', ascending=False)"
      ],
      "execution_count": null,
      "outputs": [
        {
          "output_type": "execute_result",
          "data": {
            "text/html": [
              "<div>\n",
              "<style scoped>\n",
              "    .dataframe tbody tr th:only-of-type {\n",
              "        vertical-align: middle;\n",
              "    }\n",
              "\n",
              "    .dataframe tbody tr th {\n",
              "        vertical-align: top;\n",
              "    }\n",
              "\n",
              "    .dataframe thead th {\n",
              "        text-align: right;\n",
              "    }\n",
              "</style>\n",
              "<table border=\"1\" class=\"dataframe\">\n",
              "  <thead>\n",
              "    <tr style=\"text-align: right;\">\n",
              "      <th></th>\n",
              "      <th>Feature Names</th>\n",
              "      <th>Feature Importances</th>\n",
              "    </tr>\n",
              "  </thead>\n",
              "  <tbody>\n",
              "    <tr>\n",
              "      <th>5</th>\n",
              "      <td>num_voted_users</td>\n",
              "      <td>4.853524e-01</td>\n",
              "    </tr>\n",
              "    <tr>\n",
              "      <th>9</th>\n",
              "      <td>budget_usd</td>\n",
              "      <td>1.794965e-01</td>\n",
              "    </tr>\n",
              "    <tr>\n",
              "      <th>0</th>\n",
              "      <td>num_critic_for_reviews</td>\n",
              "      <td>3.243242e-02</td>\n",
              "    </tr>\n",
              "    <tr>\n",
              "      <th>12</th>\n",
              "      <td>imdb_score</td>\n",
              "      <td>3.157500e-02</td>\n",
              "    </tr>\n",
              "    <tr>\n",
              "      <th>21</th>\n",
              "      <td>PG</td>\n",
              "      <td>3.149019e-02</td>\n",
              "    </tr>\n",
              "    <tr>\n",
              "      <th>8</th>\n",
              "      <td>num_user_for_reviews</td>\n",
              "      <td>3.138577e-02</td>\n",
              "    </tr>\n",
              "    <tr>\n",
              "      <th>10</th>\n",
              "      <td>title_year</td>\n",
              "      <td>2.896788e-02</td>\n",
              "    </tr>\n",
              "    <tr>\n",
              "      <th>6</th>\n",
              "      <td>cast_total_facebook_likes</td>\n",
              "      <td>2.692085e-02</td>\n",
              "    </tr>\n",
              "    <tr>\n",
              "      <th>1</th>\n",
              "      <td>duration_mins</td>\n",
              "      <td>2.684478e-02</td>\n",
              "    </tr>\n",
              "    <tr>\n",
              "      <th>4</th>\n",
              "      <td>actor_1_facebook_likes</td>\n",
              "      <td>2.309274e-02</td>\n",
              "    </tr>\n",
              "    <tr>\n",
              "      <th>24</th>\n",
              "      <td>R</td>\n",
              "      <td>2.241151e-02</td>\n",
              "    </tr>\n",
              "    <tr>\n",
              "      <th>11</th>\n",
              "      <td>actor_2_facebook_likes</td>\n",
              "      <td>1.652858e-02</td>\n",
              "    </tr>\n",
              "    <tr>\n",
              "      <th>2</th>\n",
              "      <td>director_facebook_likes</td>\n",
              "      <td>1.621016e-02</td>\n",
              "    </tr>\n",
              "    <tr>\n",
              "      <th>13</th>\n",
              "      <td>movie_facebook_likes</td>\n",
              "      <td>1.481782e-02</td>\n",
              "    </tr>\n",
              "    <tr>\n",
              "      <th>3</th>\n",
              "      <td>actor_3_facebook_likes</td>\n",
              "      <td>1.393494e-02</td>\n",
              "    </tr>\n",
              "    <tr>\n",
              "      <th>7</th>\n",
              "      <td>facenumber_in_poster</td>\n",
              "      <td>1.027509e-02</td>\n",
              "    </tr>\n",
              "    <tr>\n",
              "      <th>22</th>\n",
              "      <td>PG-13</td>\n",
              "      <td>3.951019e-03</td>\n",
              "    </tr>\n",
              "    <tr>\n",
              "      <th>14</th>\n",
              "      <td>lead_star</td>\n",
              "      <td>2.617672e-03</td>\n",
              "    </tr>\n",
              "    <tr>\n",
              "      <th>16</th>\n",
              "      <td>G</td>\n",
              "      <td>1.598613e-03</td>\n",
              "    </tr>\n",
              "    <tr>\n",
              "      <th>15</th>\n",
              "      <td>Approved</td>\n",
              "      <td>7.060713e-05</td>\n",
              "    </tr>\n",
              "    <tr>\n",
              "      <th>26</th>\n",
              "      <td>X</td>\n",
              "      <td>2.440826e-05</td>\n",
              "    </tr>\n",
              "    <tr>\n",
              "      <th>25</th>\n",
              "      <td>Unrated</td>\n",
              "      <td>9.261024e-07</td>\n",
              "    </tr>\n",
              "    <tr>\n",
              "      <th>20</th>\n",
              "      <td>Not Rated</td>\n",
              "      <td>9.655109e-08</td>\n",
              "    </tr>\n",
              "    <tr>\n",
              "      <th>17</th>\n",
              "      <td>GP</td>\n",
              "      <td>0.000000e+00</td>\n",
              "    </tr>\n",
              "    <tr>\n",
              "      <th>18</th>\n",
              "      <td>M</td>\n",
              "      <td>0.000000e+00</td>\n",
              "    </tr>\n",
              "    <tr>\n",
              "      <th>19</th>\n",
              "      <td>NC-17</td>\n",
              "      <td>0.000000e+00</td>\n",
              "    </tr>\n",
              "    <tr>\n",
              "      <th>23</th>\n",
              "      <td>Passed</td>\n",
              "      <td>0.000000e+00</td>\n",
              "    </tr>\n",
              "  </tbody>\n",
              "</table>\n",
              "</div>"
            ],
            "text/plain": [
              "                Feature Names  Feature Importances\n",
              "5             num_voted_users         4.853524e-01\n",
              "9                  budget_usd         1.794965e-01\n",
              "0      num_critic_for_reviews         3.243242e-02\n",
              "12                 imdb_score         3.157500e-02\n",
              "21                         PG         3.149019e-02\n",
              "8        num_user_for_reviews         3.138577e-02\n",
              "10                 title_year         2.896788e-02\n",
              "6   cast_total_facebook_likes         2.692085e-02\n",
              "1               duration_mins         2.684478e-02\n",
              "4      actor_1_facebook_likes         2.309274e-02\n",
              "24                          R         2.241151e-02\n",
              "11     actor_2_facebook_likes         1.652858e-02\n",
              "2     director_facebook_likes         1.621016e-02\n",
              "13       movie_facebook_likes         1.481782e-02\n",
              "3      actor_3_facebook_likes         1.393494e-02\n",
              "7        facenumber_in_poster         1.027509e-02\n",
              "22                      PG-13         3.951019e-03\n",
              "14                  lead_star         2.617672e-03\n",
              "16                          G         1.598613e-03\n",
              "15                   Approved         7.060713e-05\n",
              "26                          X         2.440826e-05\n",
              "25                    Unrated         9.261024e-07\n",
              "20                  Not Rated         9.655109e-08\n",
              "17                         GP         0.000000e+00\n",
              "18                          M         0.000000e+00\n",
              "19                      NC-17         0.000000e+00\n",
              "23                     Passed         0.000000e+00"
            ]
          },
          "metadata": {
            "tags": []
          },
          "execution_count": 13
        }
      ]
    },
    {
      "cell_type": "markdown",
      "metadata": {
        "id": "H8pr8-JktPep",
        "colab_type": "text"
      },
      "source": [
        "This means that for this Decision Tree model the feature `num_voted_users` is the most important in predicting `gross_usd` revenue. And all of the features that have feature importances of 0 are not used to generate predictions for this model."
      ]
    },
    {
      "cell_type": "markdown",
      "metadata": {
        "id": "is4Gn9lXrJm8",
        "colab_type": "text"
      },
      "source": [
        "## Random Forest\n",
        "\n",
        "A Random Forest model takes the great parts of the Decision Tree, and removes a lot of the risk of overfitting.  \n",
        "\n",
        "The model creates a bunch of Decision Tree predictions, and the resulting prediction is the average of all of the predictions for regression and the most often (mode) predictions for classification.  \n",
        "\n",
        "[Random Forest](https://scikit-learn.org/stable/modules/generated/sklearn.ensemble.RandomForestRegressor.html) models are good for complex datasets and when you have a large amount of data."
      ]
    },
    {
      "cell_type": "markdown",
      "metadata": {
        "id": "LqIrrFEAncD2",
        "colab_type": "text"
      },
      "source": [
        "<div>\n",
        "<img src=\"https://miro.medium.com/max/2612/0*f_qQPFpdofWGLQqc.png\" width=\"500\"/>\n",
        "</div>"
      ]
    },
    {
      "cell_type": "code",
      "metadata": {
        "id": "WPN1tEF5qQ-_",
        "colab_type": "code",
        "colab": {
          "base_uri": "https://localhost:8080/",
          "height": 134
        },
        "outputId": "ee4cdeb1-a16d-404e-cdaa-890f02d2a06e"
      },
      "source": [
        "from sklearn.ensemble import RandomForestRegressor\n",
        "\n",
        "# Step 1: Instantiating the model\n",
        "rf = RandomForestRegressor(random_state=42) ####### This line is for Audience participation # ***INSTANTIATE MODEL HERE***\n",
        "\n",
        "# Step 2: Fit the model (note, we use the train set here)\n",
        "rf.fit(X_train, y_train) ####### This line is for Audience participation # ***FIT MODEL ON TRAINING DATA HERE***"
      ],
      "execution_count": null,
      "outputs": [
        {
          "output_type": "execute_result",
          "data": {
            "text/plain": [
              "RandomForestRegressor(bootstrap=True, ccp_alpha=0.0, criterion='mse',\n",
              "                      max_depth=None, max_features='auto', max_leaf_nodes=None,\n",
              "                      max_samples=None, min_impurity_decrease=0.0,\n",
              "                      min_impurity_split=None, min_samples_leaf=1,\n",
              "                      min_samples_split=2, min_weight_fraction_leaf=0.0,\n",
              "                      n_estimators=100, n_jobs=None, oob_score=False,\n",
              "                      random_state=42, verbose=0, warm_start=False)"
            ]
          },
          "metadata": {
            "tags": []
          },
          "execution_count": 20
        }
      ]
    },
    {
      "cell_type": "code",
      "metadata": {
        "id": "Dsp27CyUsFHl",
        "colab_type": "code",
        "colab": {
          "base_uri": "https://localhost:8080/",
          "height": 295
        },
        "outputId": "97fe7113-68c4-4b35-a4de-dc683baf66ce"
      },
      "source": [
        "# Step 3: Make predictions (note, we use the test set here)\n",
        "y_pred_rf = rf.predict(X_test) ####### This line is for Audience participation # ***PREDICT VALUES ON TEST DATA HERE***\n",
        "\n",
        "# Plot predicted values versus actual values\n",
        "plt.scatter(y_test, y_pred_rf)\n",
        "plt.plot([0,8e8], [0,8e8], linestyle='-', color='red')\n",
        "plt.xlabel('Actual')\n",
        "plt.ylabel('Predicted')\n",
        "plt.title('Predicted and Actual Gross Revenue - Random Forest');"
      ],
      "execution_count": null,
      "outputs": [
        {
          "output_type": "display_data",
          "data": {
            "image/png": "[encoded data removed]",
            "text/plain": [
              "<Figure size 432x288 with 1 Axes>"
            ]
          },
          "metadata": {
            "tags": [],
            "needs_background": "light"
          }
        }
      ]
    },
    {
      "cell_type": "markdown",
      "metadata": {
        "id": "lsoDaUU7iJSQ",
        "colab_type": "text"
      },
      "source": [
        "Again, the Random Forest model isn't good at predicting the higher grossing movies, but is fairly good at predicting the lower grossing movies.  Visually, it's hard to tell the difference between how the Random Forest and the Linear Regression model predicted `gross_usd`."
      ]
    },
    {
      "cell_type": "code",
      "metadata": {
        "id": "EkfrreQqsFbl",
        "colab_type": "code",
        "colab": {
          "base_uri": "https://localhost:8080/",
          "height": 67
        },
        "outputId": "23abaaf6-881e-40d2-f65a-65ca80dfc2e1"
      },
      "source": [
        "# Step 4: Evaluate the model (note, we use the test set here)\n",
        "print('Evaluating the Random Forest Model')\n",
        "rf_r2 = dt.score(X_test, y_test)\n",
        "print('R Squared: \\t\\t\\t', rf_r2)\n",
        "rf_rmse = np.sqrt(mean_squared_error(y_test, y_pred_rf))\n",
        "print('Root Mean Squared Error: \\t', rf_rmse)"
      ],
      "execution_count": null,
      "outputs": [
        {
          "output_type": "stream",
          "text": [
            "Evaluating the Random Forest Model\n",
            "R Squared: \t\t\t 0.39720785586230845\n",
            "Root Mean Squared Error: \t 42323099.09456607\n"
          ],
          "name": "stdout"
        }
      ]
    },
    {
      "cell_type": "markdown",
      "metadata": {
        "id": "aQLVM-pCkZfH",
        "colab_type": "text"
      },
      "source": [
        "This has a similar $R^2$ value as the Decision Tree, but a much lower RMSE. More on that in a minute.\n",
        "\n",
        "Random Forests are also tree-based, so use the same feature importances as Decision Trees to explain how they make predictions."
      ]
    },
    {
      "cell_type": "code",
      "metadata": {
        "id": "Cj_68aARqQ2O",
        "colab_type": "code",
        "colab": {
          "base_uri": "https://localhost:8080/",
          "height": 846
        },
        "outputId": "20ff97b6-3063-4fbd-d5da-94f59a8b3ced"
      },
      "source": [
        "# Interpreting how the model is making predictions\n",
        "# Decision trees calculate the importance of features \n",
        "#(doesn't speak to directionality)\n",
        "import_rf = pd.DataFrame(zip(X.columns, rf.feature_importances_), ####### This line is for Audience participation # ***CALCULATE FEATURE IMPORTANCES HERE***\n",
        "                         columns=['Feature Names', 'Feature Importances'])\n",
        "import_rf.sort_values('Feature Importances', ascending=False)\n"
      ],
      "execution_count": null,
      "outputs": [
        {
          "output_type": "execute_result",
          "data": {
            "text/html": [
              "<div>\n",
              "<style scoped>\n",
              "    .dataframe tbody tr th:only-of-type {\n",
              "        vertical-align: middle;\n",
              "    }\n",
              "\n",
              "    .dataframe tbody tr th {\n",
              "        vertical-align: top;\n",
              "    }\n",
              "\n",
              "    .dataframe thead th {\n",
              "        text-align: right;\n",
              "    }\n",
              "</style>\n",
              "<table border=\"1\" class=\"dataframe\">\n",
              "  <thead>\n",
              "    <tr style=\"text-align: right;\">\n",
              "      <th></th>\n",
              "      <th>Feature Names</th>\n",
              "      <th>Feature Importances</th>\n",
              "    </tr>\n",
              "  </thead>\n",
              "  <tbody>\n",
              "    <tr>\n",
              "      <th>5</th>\n",
              "      <td>num_voted_users</td>\n",
              "      <td>4.589050e-01</td>\n",
              "    </tr>\n",
              "    <tr>\n",
              "      <th>9</th>\n",
              "      <td>budget_usd</td>\n",
              "      <td>2.071092e-01</td>\n",
              "    </tr>\n",
              "    <tr>\n",
              "      <th>10</th>\n",
              "      <td>title_year</td>\n",
              "      <td>3.558404e-02</td>\n",
              "    </tr>\n",
              "    <tr>\n",
              "      <th>8</th>\n",
              "      <td>num_user_for_reviews</td>\n",
              "      <td>3.288922e-02</td>\n",
              "    </tr>\n",
              "    <tr>\n",
              "      <th>1</th>\n",
              "      <td>duration_mins</td>\n",
              "      <td>3.148756e-02</td>\n",
              "    </tr>\n",
              "    <tr>\n",
              "      <th>24</th>\n",
              "      <td>R</td>\n",
              "      <td>2.905913e-02</td>\n",
              "    </tr>\n",
              "    <tr>\n",
              "      <th>0</th>\n",
              "      <td>num_critic_for_reviews</td>\n",
              "      <td>2.761696e-02</td>\n",
              "    </tr>\n",
              "    <tr>\n",
              "      <th>12</th>\n",
              "      <td>imdb_score</td>\n",
              "      <td>2.588842e-02</td>\n",
              "    </tr>\n",
              "    <tr>\n",
              "      <th>6</th>\n",
              "      <td>cast_total_facebook_likes</td>\n",
              "      <td>2.153259e-02</td>\n",
              "    </tr>\n",
              "    <tr>\n",
              "      <th>13</th>\n",
              "      <td>movie_facebook_likes</td>\n",
              "      <td>2.063400e-02</td>\n",
              "    </tr>\n",
              "    <tr>\n",
              "      <th>11</th>\n",
              "      <td>actor_2_facebook_likes</td>\n",
              "      <td>1.954200e-02</td>\n",
              "    </tr>\n",
              "    <tr>\n",
              "      <th>21</th>\n",
              "      <td>PG</td>\n",
              "      <td>1.942786e-02</td>\n",
              "    </tr>\n",
              "    <tr>\n",
              "      <th>3</th>\n",
              "      <td>actor_3_facebook_likes</td>\n",
              "      <td>1.939548e-02</td>\n",
              "    </tr>\n",
              "    <tr>\n",
              "      <th>2</th>\n",
              "      <td>director_facebook_likes</td>\n",
              "      <td>1.829731e-02</td>\n",
              "    </tr>\n",
              "    <tr>\n",
              "      <th>4</th>\n",
              "      <td>actor_1_facebook_likes</td>\n",
              "      <td>1.515744e-02</td>\n",
              "    </tr>\n",
              "    <tr>\n",
              "      <th>7</th>\n",
              "      <td>facenumber_in_poster</td>\n",
              "      <td>8.527228e-03</td>\n",
              "    </tr>\n",
              "    <tr>\n",
              "      <th>22</th>\n",
              "      <td>PG-13</td>\n",
              "      <td>3.337669e-03</td>\n",
              "    </tr>\n",
              "    <tr>\n",
              "      <th>16</th>\n",
              "      <td>G</td>\n",
              "      <td>3.064474e-03</td>\n",
              "    </tr>\n",
              "    <tr>\n",
              "      <th>14</th>\n",
              "      <td>lead_star</td>\n",
              "      <td>2.334865e-03</td>\n",
              "    </tr>\n",
              "    <tr>\n",
              "      <th>15</th>\n",
              "      <td>Approved</td>\n",
              "      <td>1.155556e-04</td>\n",
              "    </tr>\n",
              "    <tr>\n",
              "      <th>18</th>\n",
              "      <td>M</td>\n",
              "      <td>4.220097e-05</td>\n",
              "    </tr>\n",
              "    <tr>\n",
              "      <th>20</th>\n",
              "      <td>Not Rated</td>\n",
              "      <td>2.703624e-05</td>\n",
              "    </tr>\n",
              "    <tr>\n",
              "      <th>23</th>\n",
              "      <td>Passed</td>\n",
              "      <td>1.364999e-05</td>\n",
              "    </tr>\n",
              "    <tr>\n",
              "      <th>25</th>\n",
              "      <td>Unrated</td>\n",
              "      <td>5.908549e-06</td>\n",
              "    </tr>\n",
              "    <tr>\n",
              "      <th>26</th>\n",
              "      <td>X</td>\n",
              "      <td>3.999684e-06</td>\n",
              "    </tr>\n",
              "    <tr>\n",
              "      <th>17</th>\n",
              "      <td>GP</td>\n",
              "      <td>6.264925e-07</td>\n",
              "    </tr>\n",
              "    <tr>\n",
              "      <th>19</th>\n",
              "      <td>NC-17</td>\n",
              "      <td>5.955481e-07</td>\n",
              "    </tr>\n",
              "  </tbody>\n",
              "</table>\n",
              "</div>"
            ],
            "text/plain": [
              "                Feature Names  Feature Importances\n",
              "5             num_voted_users         4.589050e-01\n",
              "9                  budget_usd         2.071092e-01\n",
              "10                 title_year         3.558404e-02\n",
              "8        num_user_for_reviews         3.288922e-02\n",
              "1               duration_mins         3.148756e-02\n",
              "24                          R         2.905913e-02\n",
              "0      num_critic_for_reviews         2.761696e-02\n",
              "12                 imdb_score         2.588842e-02\n",
              "6   cast_total_facebook_likes         2.153259e-02\n",
              "13       movie_facebook_likes         2.063400e-02\n",
              "11     actor_2_facebook_likes         1.954200e-02\n",
              "21                         PG         1.942786e-02\n",
              "3      actor_3_facebook_likes         1.939548e-02\n",
              "2     director_facebook_likes         1.829731e-02\n",
              "4      actor_1_facebook_likes         1.515744e-02\n",
              "7        facenumber_in_poster         8.527228e-03\n",
              "22                      PG-13         3.337669e-03\n",
              "16                          G         3.064474e-03\n",
              "14                  lead_star         2.334865e-03\n",
              "15                   Approved         1.155556e-04\n",
              "18                          M         4.220097e-05\n",
              "20                  Not Rated         2.703624e-05\n",
              "23                     Passed         1.364999e-05\n",
              "25                    Unrated         5.908549e-06\n",
              "26                          X         3.999684e-06\n",
              "17                         GP         6.264925e-07\n",
              "19                      NC-17         5.955481e-07"
            ]
          },
          "metadata": {
            "tags": []
          },
          "execution_count": 17
        }
      ]
    },
    {
      "cell_type": "markdown",
      "metadata": {
        "id": "xcVzUdI_uTvP",
        "colab_type": "text"
      },
      "source": [
        "Again, the `num_voted_users` feature is the most important in making predictions.  Note that the features that previously had feature importances of 0 are now no-zero because multiple Decision Trees are used in creating the Random Forest, so some trees might have used those features."
      ]
    },
    {
      "cell_type": "markdown",
      "metadata": {
        "id": "bpIhYPuklgIb",
        "colab_type": "text"
      },
      "source": [
        "## Comparing the Models\n",
        "\n",
        "Now that we've trained three different models, let's compare their predictive ability so we can decide which model to use to make our predictions."
      ]
    },
    {
      "cell_type": "code",
      "metadata": {
        "id": "Bmf2ruzAuXy0",
        "colab_type": "code",
        "colab": {
          "base_uri": "https://localhost:8080/",
          "height": 136
        },
        "outputId": "a4b24bb3-e0dc-4ad9-ce2e-08f227820bb4"
      },
      "source": [
        "# Setting up our evaluation metrics so we can compare\n",
        "r2s = [lr_r2, dt_r2, rf_r2]\n",
        "rmses = [lr_rmse, dt_rmse, rf_rmse]\n",
        "model_names = ['Linear Regression', 'Decision Tree', 'Random Forest']\n",
        "# Putting all of the metrics together\n",
        "comparison = pd.DataFrame(zip(model_names, r2s, rmses),\n",
        "                           columns=['Model', 'R-squared Score', 'RMSE'])\n",
        "comparison"
      ],
      "execution_count": null,
      "outputs": [
        {
          "output_type": "execute_result",
          "data": {
            "text/html": [
              "<div>\n",
              "<style scoped>\n",
              "    .dataframe tbody tr th:only-of-type {\n",
              "        vertical-align: middle;\n",
              "    }\n",
              "\n",
              "    .dataframe tbody tr th {\n",
              "        vertical-align: top;\n",
              "    }\n",
              "\n",
              "    .dataframe thead th {\n",
              "        text-align: right;\n",
              "    }\n",
              "</style>\n",
              "<table border=\"1\" class=\"dataframe\">\n",
              "  <thead>\n",
              "    <tr style=\"text-align: right;\">\n",
              "      <th></th>\n",
              "      <th>Model</th>\n",
              "      <th>R-squared Score</th>\n",
              "      <th>RMSE</th>\n",
              "    </tr>\n",
              "  </thead>\n",
              "  <tbody>\n",
              "    <tr>\n",
              "      <th>0</th>\n",
              "      <td>Linear Regression</td>\n",
              "      <td>0.646625</td>\n",
              "      <td>4.449548e+07</td>\n",
              "    </tr>\n",
              "    <tr>\n",
              "      <th>1</th>\n",
              "      <td>Decision Tree</td>\n",
              "      <td>0.397208</td>\n",
              "      <td>5.811411e+07</td>\n",
              "    </tr>\n",
              "    <tr>\n",
              "      <th>2</th>\n",
              "      <td>Random Forest</td>\n",
              "      <td>0.397208</td>\n",
              "      <td>4.232310e+07</td>\n",
              "    </tr>\n",
              "  </tbody>\n",
              "</table>\n",
              "</div>"
            ],
            "text/plain": [
              "               Model  R-squared Score          RMSE\n",
              "0  Linear Regression         0.646625  4.449548e+07\n",
              "1      Decision Tree         0.397208  5.811411e+07\n",
              "2      Random Forest         0.397208  4.232310e+07"
            ]
          },
          "metadata": {
            "tags": []
          },
          "execution_count": 19
        }
      ]
    },
    {
      "cell_type": "markdown",
      "metadata": {
        "id": "j-5-zDpsvlpv",
        "colab_type": "text"
      },
      "source": [
        "The Linear Regression model has the highest $R^2$ score, but the Random Forest model has the lowest RMSE.  \n",
        "\n",
        "**You be the judge:** Which model would you suggest to your boss that we should use to help make predictions about the gross revenue of a film? Why?"
      ]
    },
    {
      "cell_type": "markdown",
      "metadata": {
        "id": "0WqRnPfz82dp",
        "colab_type": "text"
      },
      "source": [
        "# Take Home Challenge\n",
        "- Drop the features that you can only determine AFTER the movie premiers, and see how that impacts your model's predictions\n",
        "- Try out different models for predicting the gross revenue of a movie \n",
        "  - Try [learning about kNN Regression](https://www.analyticsvidhya.com/blog/2018/08/k-nearest-neighbor-introduction-regression-python/) (predictions are the average of the neighbors), and seeing how [kNN Regression](https://scikit-learn.org/stable/modules/generated/sklearn.neighbors.KNeighborsRegressor.html) works for this dataset. \n",
        "- Investigate outliers and clean or drop them and see how they impact the model predictions\n",
        "- Analyze your clean data (see Thinkful's Art of Visualization workshops/webinars for additional support)\n",
        "  - Drop features that are not related to `gross_usd` and see how it changes the model performance\n",
        "- Go back and impute some of the missing data that we dropped and see how that impacts the models\n",
        "- Continue to engineer features based on what you know about the subject and see how it impacts the models\n",
        "  - Maybe the era of the film might have something to do with the gross revenue.  The [history of film](http://www.historyoffilm.net/movie-eras/history-of-cinema/) documents the movie eras we can use to create our new feature along with Pandas [`.cut`](https://pandas.pydata.org/pandas-docs/stable/reference/api/pandas.cut.html) function.\n",
        "  - Here is some starter code to get the ball rolling:\n",
        "  - Identify the era of the film\n",
        "\n",
        "    era_bins = [0, 1910, 1926, 1940, 1954, 1976, 2000, 2100]\n",
        "\n",
        "    era_labels = ['pioneer', 'silent', 'talkies', 'golden_era','changes', 'dawn_modern_film', 'modern_film']\n",
        "\n",
        "    data['era'] = pd.cut(...)\n"
      ]
    },
    {
      "cell_type": "code",
      "metadata": {
        "id": "yKI6yF3cuRZp",
        "colab_type": "code",
        "colab": {}
      },
      "source": [
        ""
      ],
      "execution_count": null,
      "outputs": []
    }
  ]
}