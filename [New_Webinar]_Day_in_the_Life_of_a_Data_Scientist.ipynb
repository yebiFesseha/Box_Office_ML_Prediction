{
  "nbformat": 4,
  "nbformat_minor": 0,
  "metadata": {
    "colab": {
      "name": "[New Webinar] Day in the Life of a Data Scientist.ipynb",
      "provenance": [],
      "collapsed_sections": [
        "pIev5BCMVqmC",
        "KnUeHfzBKkQM",
        "U2qI0Ln_7FkG",
        "a-DJJcnpoV8D"
      ],
      "include_colab_link": true
    },
    "kernelspec": {
      "name": "python3",
      "display_name": "Python 3"
    }
  },
  "cells": [
    {
      "cell_type": "markdown",
      "metadata": {
        "id": "view-in-github",
        "colab_type": "text"
      },
      "source": [
        "<a href=\"https://colab.research.google.com/github/yebiFesseha/hello-world/blob/master/%5BNew_Webinar%5D_Day_in_the_Life_of_a_Data_Scientist.ipynb\" target=\"_parent\"><img src=\"https://colab.research.google.com/assets/colab-badge.svg\" alt=\"Open In Colab\"/></a>"
      ]
    },
    {
      "cell_type": "markdown",
      "metadata": {
        "id": "AFbtkI_zq-Na",
        "colab_type": "text"
      },
      "source": [
        "# **A Day (Week) in the Life of a Data Scientist**\n"
      ]
    },
    {
      "cell_type": "code",
      "metadata": {
        "id": "k_3SVCW3rGI3",
        "colab_type": "code",
        "colab": {
          "base_uri": "https://localhost:8080/",
          "height": 34
        },
        "outputId": "7e0b02c6-e4f7-4b9b-9900-8fec7f2b107e"
      },
      "source": [
        "x = 4\n",
        "print(x)"
      ],
      "execution_count": null,
      "outputs": [
        {
          "output_type": "stream",
          "text": [
            "4\n"
          ],
          "name": "stdout"
        }
      ]
    },
    {
      "cell_type": "markdown",
      "metadata": {
        "id": "sdfYQNgn0fsV",
        "colab_type": "text"
      },
      "source": [
        "## **Monday**\n",
        "Today in our [sprint planning](https://www.atlassian.com/agile/scrum/sprint-planning) we were asked a question from one of our main stakeholders:\n",
        "\n",
        "**BIG Question:** What is the risk factor in insuring a person?\n",
        "\n",
        "> This is a big question and doesn't have a simple answer.  It will be better if we break this BIG question into smaller, more managable questions that we can answer with data.\n",
        "\n",
        "After sprint planning, we sat down with stakeholders to gather requirements and further refine the question.  Below are questions we asked stakeholders along with their answers.\n",
        "\n",
        "**Clarifying Questions to Refine Question:**\n",
        "- How do we define risk factor?\n",
        "  - We don't have a single metric that indicates risk, but we do have data about the amount of time a person takes off from work that we can use as a proxy.\n",
        "  - We will bucket the absenteeism as our risk factor.\n",
        "- Do we want to include very high risk people?\n",
        "  - That remains to be seen."
      ]
    },
    {
      "cell_type": "markdown",
      "metadata": {
        "id": "6UPGfZ-3axoq",
        "colab_type": "text"
      },
      "source": [
        "#### Importing our Data\n",
        "**The data we have is demographic, work, and behavioral information about employees from a courier company.**\n",
        "\n",
        "> Pandas can work with information from all kinds of data sources. Below, we'll import the data we need from a GitHub URL and read it into a Pandas Dataframe using the Pandas [`read_csv`](https://pandas.pydata.org/pandas-docs/stable/reference/api/pandas.read_csv.html) function."
      ]
    },
    {
      "cell_type": "code",
      "metadata": {
        "id": "6Da5HPhv0WbN",
        "colab_type": "code",
        "colab": {
          "base_uri": "https://localhost:8080/",
          "height": 70
        },
        "outputId": "bf0cfad8-b0ef-464a-f396-e6c259df0319"
      },
      "source": [
        "# data analysis packages\n",
        "import pandas as pd \n",
        "import numpy as np\n",
        "\n",
        "# plotting packages\n",
        "import matplotlib.pyplot as plt\n",
        "import seaborn as sns\n",
        "\n",
        "# machine learning\n",
        "from sklearn.model_selection import train_test_split, cross_val_score\n",
        "from sklearn.metrics import confusion_matrix"
      ],
      "execution_count": null,
      "outputs": [
        {
          "output_type": "stream",
          "text": [
            "/usr/local/lib/python3.6/dist-packages/statsmodels/tools/_testing.py:19: FutureWarning: pandas.util.testing is deprecated. Use the functions in the public API at pandas.testing instead.\n",
            "  import pandas.util.testing as tm\n"
          ],
          "name": "stderr"
        }
      ]
    },
    {
      "cell_type": "code",
      "metadata": {
        "id": "B5ptEHSXEkZn",
        "colab_type": "code",
        "colab": {}
      },
      "source": [
        "# import the data from github\n",
        "aaw = pd.read_csv('https://raw.githubusercontent.com/ephs08kmp/day_in_the_life/master/Absenteeism_at_work.csv', \n",
        "                  sep=';', index_col='ID')"
      ],
      "execution_count": null,
      "outputs": []
    },
    {
      "cell_type": "markdown",
      "metadata": {
        "id": "ijV6blKDJ-rn",
        "colab_type": "text"
      },
      "source": [
        "### Initial EDA\n",
        "EDA stands for Exploratory Data Analysis.\n",
        "- During this phase of our project, we are trying to get acquainted with our data.\n",
        "- We need to understand what structure it's currently in along with any patterns or insights that might help us answer questions and build more effective predictive models."
      ]
    },
    {
      "cell_type": "code",
      "metadata": {
        "id": "URJGik45FCX8",
        "colab_type": "code",
        "colab": {
          "base_uri": "https://localhost:8080/",
          "height": 295
        },
        "outputId": "7c1276ba-afda-42c6-b7f3-7ae8f806cdb8"
      },
      "source": [
        "# Check out the first lines of the data set\n",
        "aaw.head()"
      ],
      "execution_count": null,
      "outputs": [
        {
          "output_type": "execute_result",
          "data": {
            "text/html": [
              "<div>\n",
              "<style scoped>\n",
              "    .dataframe tbody tr th:only-of-type {\n",
              "        vertical-align: middle;\n",
              "    }\n",
              "\n",
              "    .dataframe tbody tr th {\n",
              "        vertical-align: top;\n",
              "    }\n",
              "\n",
              "    .dataframe thead th {\n",
              "        text-align: right;\n",
              "    }\n",
              "</style>\n",
              "<table border=\"1\" class=\"dataframe\">\n",
              "  <thead>\n",
              "    <tr style=\"text-align: right;\">\n",
              "      <th></th>\n",
              "      <th>Reason for absence</th>\n",
              "      <th>Month of absence</th>\n",
              "      <th>Day of the week</th>\n",
              "      <th>Seasons</th>\n",
              "      <th>Transportation expense</th>\n",
              "      <th>Distance from Residence to Work</th>\n",
              "      <th>Service time</th>\n",
              "      <th>Age</th>\n",
              "      <th>Work load Average/day</th>\n",
              "      <th>Hit target</th>\n",
              "      <th>Disciplinary failure</th>\n",
              "      <th>Education</th>\n",
              "      <th>Son</th>\n",
              "      <th>Social drinker</th>\n",
              "      <th>Social smoker</th>\n",
              "      <th>Pet</th>\n",
              "      <th>Weight</th>\n",
              "      <th>Height</th>\n",
              "      <th>Body mass index</th>\n",
              "      <th>Absenteeism time in hours</th>\n",
              "    </tr>\n",
              "    <tr>\n",
              "      <th>ID</th>\n",
              "      <th></th>\n",
              "      <th></th>\n",
              "      <th></th>\n",
              "      <th></th>\n",
              "      <th></th>\n",
              "      <th></th>\n",
              "      <th></th>\n",
              "      <th></th>\n",
              "      <th></th>\n",
              "      <th></th>\n",
              "      <th></th>\n",
              "      <th></th>\n",
              "      <th></th>\n",
              "      <th></th>\n",
              "      <th></th>\n",
              "      <th></th>\n",
              "      <th></th>\n",
              "      <th></th>\n",
              "      <th></th>\n",
              "      <th></th>\n",
              "    </tr>\n",
              "  </thead>\n",
              "  <tbody>\n",
              "    <tr>\n",
              "      <th>11</th>\n",
              "      <td>26</td>\n",
              "      <td>7</td>\n",
              "      <td>3</td>\n",
              "      <td>1</td>\n",
              "      <td>289</td>\n",
              "      <td>36</td>\n",
              "      <td>13</td>\n",
              "      <td>33</td>\n",
              "      <td>239.554</td>\n",
              "      <td>97</td>\n",
              "      <td>0</td>\n",
              "      <td>1</td>\n",
              "      <td>2</td>\n",
              "      <td>1</td>\n",
              "      <td>0</td>\n",
              "      <td>1</td>\n",
              "      <td>90</td>\n",
              "      <td>172</td>\n",
              "      <td>30</td>\n",
              "      <td>4</td>\n",
              "    </tr>\n",
              "    <tr>\n",
              "      <th>36</th>\n",
              "      <td>0</td>\n",
              "      <td>7</td>\n",
              "      <td>3</td>\n",
              "      <td>1</td>\n",
              "      <td>118</td>\n",
              "      <td>13</td>\n",
              "      <td>18</td>\n",
              "      <td>50</td>\n",
              "      <td>239.554</td>\n",
              "      <td>97</td>\n",
              "      <td>1</td>\n",
              "      <td>1</td>\n",
              "      <td>1</td>\n",
              "      <td>1</td>\n",
              "      <td>0</td>\n",
              "      <td>0</td>\n",
              "      <td>98</td>\n",
              "      <td>178</td>\n",
              "      <td>31</td>\n",
              "      <td>0</td>\n",
              "    </tr>\n",
              "    <tr>\n",
              "      <th>3</th>\n",
              "      <td>23</td>\n",
              "      <td>7</td>\n",
              "      <td>4</td>\n",
              "      <td>1</td>\n",
              "      <td>179</td>\n",
              "      <td>51</td>\n",
              "      <td>18</td>\n",
              "      <td>38</td>\n",
              "      <td>239.554</td>\n",
              "      <td>97</td>\n",
              "      <td>0</td>\n",
              "      <td>1</td>\n",
              "      <td>0</td>\n",
              "      <td>1</td>\n",
              "      <td>0</td>\n",
              "      <td>0</td>\n",
              "      <td>89</td>\n",
              "      <td>170</td>\n",
              "      <td>31</td>\n",
              "      <td>2</td>\n",
              "    </tr>\n",
              "    <tr>\n",
              "      <th>7</th>\n",
              "      <td>7</td>\n",
              "      <td>7</td>\n",
              "      <td>5</td>\n",
              "      <td>1</td>\n",
              "      <td>279</td>\n",
              "      <td>5</td>\n",
              "      <td>14</td>\n",
              "      <td>39</td>\n",
              "      <td>239.554</td>\n",
              "      <td>97</td>\n",
              "      <td>0</td>\n",
              "      <td>1</td>\n",
              "      <td>2</td>\n",
              "      <td>1</td>\n",
              "      <td>1</td>\n",
              "      <td>0</td>\n",
              "      <td>68</td>\n",
              "      <td>168</td>\n",
              "      <td>24</td>\n",
              "      <td>4</td>\n",
              "    </tr>\n",
              "    <tr>\n",
              "      <th>11</th>\n",
              "      <td>23</td>\n",
              "      <td>7</td>\n",
              "      <td>5</td>\n",
              "      <td>1</td>\n",
              "      <td>289</td>\n",
              "      <td>36</td>\n",
              "      <td>13</td>\n",
              "      <td>33</td>\n",
              "      <td>239.554</td>\n",
              "      <td>97</td>\n",
              "      <td>0</td>\n",
              "      <td>1</td>\n",
              "      <td>2</td>\n",
              "      <td>1</td>\n",
              "      <td>0</td>\n",
              "      <td>1</td>\n",
              "      <td>90</td>\n",
              "      <td>172</td>\n",
              "      <td>30</td>\n",
              "      <td>2</td>\n",
              "    </tr>\n",
              "  </tbody>\n",
              "</table>\n",
              "</div>"
            ],
            "text/plain": [
              "    Reason for absence  ...  Absenteeism time in hours\n",
              "ID                      ...                           \n",
              "11                  26  ...                          4\n",
              "36                   0  ...                          0\n",
              "3                   23  ...                          2\n",
              "7                    7  ...                          4\n",
              "11                  23  ...                          2\n",
              "\n",
              "[5 rows x 20 columns]"
            ]
          },
          "metadata": {
            "tags": []
          },
          "execution_count": 5
        }
      ]
    },
    {
      "cell_type": "code",
      "metadata": {
        "id": "rl0n9jmyIq2g",
        "colab_type": "code",
        "colab": {
          "base_uri": "https://localhost:8080/",
          "height": 34
        },
        "outputId": "5bf07a0f-a8a1-480c-a160-9504100ca5cc"
      },
      "source": [
        "# Checking the size of our data (rows, columns)\n",
        "aaw.shape"
      ],
      "execution_count": null,
      "outputs": [
        {
          "output_type": "execute_result",
          "data": {
            "text/plain": [
              "(740, 20)"
            ]
          },
          "metadata": {
            "tags": []
          },
          "execution_count": 6
        }
      ]
    },
    {
      "cell_type": "code",
      "metadata": {
        "id": "GVfFfYr5J225",
        "colab_type": "code",
        "colab": {
          "base_uri": "https://localhost:8080/",
          "height": 354
        },
        "outputId": "a21de9b1-ecb0-417e-f0e0-55eb2f1e5062"
      },
      "source": [
        "# Understand the basic statistical details of the data set\n",
        "aaw.describe()"
      ],
      "execution_count": null,
      "outputs": [
        {
          "output_type": "execute_result",
          "data": {
            "text/html": [
              "<div>\n",
              "<style scoped>\n",
              "    .dataframe tbody tr th:only-of-type {\n",
              "        vertical-align: middle;\n",
              "    }\n",
              "\n",
              "    .dataframe tbody tr th {\n",
              "        vertical-align: top;\n",
              "    }\n",
              "\n",
              "    .dataframe thead th {\n",
              "        text-align: right;\n",
              "    }\n",
              "</style>\n",
              "<table border=\"1\" class=\"dataframe\">\n",
              "  <thead>\n",
              "    <tr style=\"text-align: right;\">\n",
              "      <th></th>\n",
              "      <th>Reason for absence</th>\n",
              "      <th>Month of absence</th>\n",
              "      <th>Day of the week</th>\n",
              "      <th>Seasons</th>\n",
              "      <th>Transportation expense</th>\n",
              "      <th>Distance from Residence to Work</th>\n",
              "      <th>Service time</th>\n",
              "      <th>Age</th>\n",
              "      <th>Work load Average/day</th>\n",
              "      <th>Hit target</th>\n",
              "      <th>Disciplinary failure</th>\n",
              "      <th>Education</th>\n",
              "      <th>Son</th>\n",
              "      <th>Social drinker</th>\n",
              "      <th>Social smoker</th>\n",
              "      <th>Pet</th>\n",
              "      <th>Weight</th>\n",
              "      <th>Height</th>\n",
              "      <th>Body mass index</th>\n",
              "      <th>Absenteeism time in hours</th>\n",
              "    </tr>\n",
              "  </thead>\n",
              "  <tbody>\n",
              "    <tr>\n",
              "      <th>count</th>\n",
              "      <td>740.000000</td>\n",
              "      <td>740.000000</td>\n",
              "      <td>740.000000</td>\n",
              "      <td>740.000000</td>\n",
              "      <td>740.000000</td>\n",
              "      <td>740.000000</td>\n",
              "      <td>740.000000</td>\n",
              "      <td>740.000000</td>\n",
              "      <td>740.000000</td>\n",
              "      <td>740.000000</td>\n",
              "      <td>740.000000</td>\n",
              "      <td>740.000000</td>\n",
              "      <td>740.000000</td>\n",
              "      <td>740.000000</td>\n",
              "      <td>740.000000</td>\n",
              "      <td>740.000000</td>\n",
              "      <td>740.000000</td>\n",
              "      <td>740.000000</td>\n",
              "      <td>740.000000</td>\n",
              "      <td>740.000000</td>\n",
              "    </tr>\n",
              "    <tr>\n",
              "      <th>mean</th>\n",
              "      <td>19.216216</td>\n",
              "      <td>6.324324</td>\n",
              "      <td>3.914865</td>\n",
              "      <td>2.544595</td>\n",
              "      <td>221.329730</td>\n",
              "      <td>29.631081</td>\n",
              "      <td>12.554054</td>\n",
              "      <td>36.450000</td>\n",
              "      <td>271.490235</td>\n",
              "      <td>94.587838</td>\n",
              "      <td>0.054054</td>\n",
              "      <td>1.291892</td>\n",
              "      <td>1.018919</td>\n",
              "      <td>0.567568</td>\n",
              "      <td>0.072973</td>\n",
              "      <td>0.745946</td>\n",
              "      <td>79.035135</td>\n",
              "      <td>172.114865</td>\n",
              "      <td>26.677027</td>\n",
              "      <td>6.924324</td>\n",
              "    </tr>\n",
              "    <tr>\n",
              "      <th>std</th>\n",
              "      <td>8.433406</td>\n",
              "      <td>3.436287</td>\n",
              "      <td>1.421675</td>\n",
              "      <td>1.111831</td>\n",
              "      <td>66.952223</td>\n",
              "      <td>14.836788</td>\n",
              "      <td>4.384873</td>\n",
              "      <td>6.478772</td>\n",
              "      <td>39.058116</td>\n",
              "      <td>3.779313</td>\n",
              "      <td>0.226277</td>\n",
              "      <td>0.673238</td>\n",
              "      <td>1.098489</td>\n",
              "      <td>0.495749</td>\n",
              "      <td>0.260268</td>\n",
              "      <td>1.318258</td>\n",
              "      <td>12.883211</td>\n",
              "      <td>6.034995</td>\n",
              "      <td>4.285452</td>\n",
              "      <td>13.330998</td>\n",
              "    </tr>\n",
              "    <tr>\n",
              "      <th>min</th>\n",
              "      <td>0.000000</td>\n",
              "      <td>0.000000</td>\n",
              "      <td>2.000000</td>\n",
              "      <td>1.000000</td>\n",
              "      <td>118.000000</td>\n",
              "      <td>5.000000</td>\n",
              "      <td>1.000000</td>\n",
              "      <td>27.000000</td>\n",
              "      <td>205.917000</td>\n",
              "      <td>81.000000</td>\n",
              "      <td>0.000000</td>\n",
              "      <td>1.000000</td>\n",
              "      <td>0.000000</td>\n",
              "      <td>0.000000</td>\n",
              "      <td>0.000000</td>\n",
              "      <td>0.000000</td>\n",
              "      <td>56.000000</td>\n",
              "      <td>163.000000</td>\n",
              "      <td>19.000000</td>\n",
              "      <td>0.000000</td>\n",
              "    </tr>\n",
              "    <tr>\n",
              "      <th>25%</th>\n",
              "      <td>13.000000</td>\n",
              "      <td>3.000000</td>\n",
              "      <td>3.000000</td>\n",
              "      <td>2.000000</td>\n",
              "      <td>179.000000</td>\n",
              "      <td>16.000000</td>\n",
              "      <td>9.000000</td>\n",
              "      <td>31.000000</td>\n",
              "      <td>244.387000</td>\n",
              "      <td>93.000000</td>\n",
              "      <td>0.000000</td>\n",
              "      <td>1.000000</td>\n",
              "      <td>0.000000</td>\n",
              "      <td>0.000000</td>\n",
              "      <td>0.000000</td>\n",
              "      <td>0.000000</td>\n",
              "      <td>69.000000</td>\n",
              "      <td>169.000000</td>\n",
              "      <td>24.000000</td>\n",
              "      <td>2.000000</td>\n",
              "    </tr>\n",
              "    <tr>\n",
              "      <th>50%</th>\n",
              "      <td>23.000000</td>\n",
              "      <td>6.000000</td>\n",
              "      <td>4.000000</td>\n",
              "      <td>3.000000</td>\n",
              "      <td>225.000000</td>\n",
              "      <td>26.000000</td>\n",
              "      <td>13.000000</td>\n",
              "      <td>37.000000</td>\n",
              "      <td>264.249000</td>\n",
              "      <td>95.000000</td>\n",
              "      <td>0.000000</td>\n",
              "      <td>1.000000</td>\n",
              "      <td>1.000000</td>\n",
              "      <td>1.000000</td>\n",
              "      <td>0.000000</td>\n",
              "      <td>0.000000</td>\n",
              "      <td>83.000000</td>\n",
              "      <td>170.000000</td>\n",
              "      <td>25.000000</td>\n",
              "      <td>3.000000</td>\n",
              "    </tr>\n",
              "    <tr>\n",
              "      <th>75%</th>\n",
              "      <td>26.000000</td>\n",
              "      <td>9.000000</td>\n",
              "      <td>5.000000</td>\n",
              "      <td>4.000000</td>\n",
              "      <td>260.000000</td>\n",
              "      <td>50.000000</td>\n",
              "      <td>16.000000</td>\n",
              "      <td>40.000000</td>\n",
              "      <td>294.217000</td>\n",
              "      <td>97.000000</td>\n",
              "      <td>0.000000</td>\n",
              "      <td>1.000000</td>\n",
              "      <td>2.000000</td>\n",
              "      <td>1.000000</td>\n",
              "      <td>0.000000</td>\n",
              "      <td>1.000000</td>\n",
              "      <td>89.000000</td>\n",
              "      <td>172.000000</td>\n",
              "      <td>31.000000</td>\n",
              "      <td>8.000000</td>\n",
              "    </tr>\n",
              "    <tr>\n",
              "      <th>max</th>\n",
              "      <td>28.000000</td>\n",
              "      <td>12.000000</td>\n",
              "      <td>6.000000</td>\n",
              "      <td>4.000000</td>\n",
              "      <td>388.000000</td>\n",
              "      <td>52.000000</td>\n",
              "      <td>29.000000</td>\n",
              "      <td>58.000000</td>\n",
              "      <td>378.884000</td>\n",
              "      <td>100.000000</td>\n",
              "      <td>1.000000</td>\n",
              "      <td>4.000000</td>\n",
              "      <td>4.000000</td>\n",
              "      <td>1.000000</td>\n",
              "      <td>1.000000</td>\n",
              "      <td>8.000000</td>\n",
              "      <td>108.000000</td>\n",
              "      <td>196.000000</td>\n",
              "      <td>38.000000</td>\n",
              "      <td>120.000000</td>\n",
              "    </tr>\n",
              "  </tbody>\n",
              "</table>\n",
              "</div>"
            ],
            "text/plain": [
              "       Reason for absence  ...  Absenteeism time in hours\n",
              "count          740.000000  ...                 740.000000\n",
              "mean            19.216216  ...                   6.924324\n",
              "std              8.433406  ...                  13.330998\n",
              "min              0.000000  ...                   0.000000\n",
              "25%             13.000000  ...                   2.000000\n",
              "50%             23.000000  ...                   3.000000\n",
              "75%             26.000000  ...                   8.000000\n",
              "max             28.000000  ...                 120.000000\n",
              "\n",
              "[8 rows x 20 columns]"
            ]
          },
          "metadata": {
            "tags": []
          },
          "execution_count": 7
        }
      ]
    },
    {
      "cell_type": "code",
      "metadata": {
        "id": "SfqsgQTbdyNR",
        "colab_type": "code",
        "colab": {
          "base_uri": "https://localhost:8080/",
          "height": 370
        },
        "outputId": "aa55fea1-b198-4feb-e4b8-d928d80db842"
      },
      "source": [
        "# find percent missing values\n",
        "aaw.isna().mean()"
      ],
      "execution_count": null,
      "outputs": [
        {
          "output_type": "execute_result",
          "data": {
            "text/plain": [
              "Reason for absence                 0.0\n",
              "Month of absence                   0.0\n",
              "Day of the week                    0.0\n",
              "Seasons                            0.0\n",
              "Transportation expense             0.0\n",
              "Distance from Residence to Work    0.0\n",
              "Service time                       0.0\n",
              "Age                                0.0\n",
              "Work load Average/day              0.0\n",
              "Hit target                         0.0\n",
              "Disciplinary failure               0.0\n",
              "Education                          0.0\n",
              "Son                                0.0\n",
              "Social drinker                     0.0\n",
              "Social smoker                      0.0\n",
              "Pet                                0.0\n",
              "Weight                             0.0\n",
              "Height                             0.0\n",
              "Body mass index                    0.0\n",
              "Absenteeism time in hours          0.0\n",
              "dtype: float64"
            ]
          },
          "metadata": {
            "tags": []
          },
          "execution_count": 8
        }
      ]
    },
    {
      "cell_type": "markdown",
      "metadata": {
        "id": "9AwgNeGIdvww",
        "colab_type": "text"
      },
      "source": [
        "Based on the above, we don't have any missing values to fill in.  Let's do some deeper EDA to better understand the data and see what kinds of patterns we can find in the data."
      ]
    },
    {
      "cell_type": "markdown",
      "metadata": {
        "id": "kyuAT7jKKCBT",
        "colab_type": "text"
      },
      "source": [
        "### Deeper EDA\n",
        "During this part of EDA, we'll start to use visualizations to help answer questions for ourselves and for others."
      ]
    },
    {
      "cell_type": "code",
      "metadata": {
        "id": "4cqjEGTpJ40C",
        "colab_type": "code",
        "colab": {
          "base_uri": "https://localhost:8080/",
          "height": 266
        },
        "outputId": "3bd2bea4-136f-4169-a584-0f0174e67c81"
      },
      "source": [
        "# How is the absenteeism time distributed amongst the employees?\n",
        "plt.hist(aaw['Absenteeism time in hours']);"
      ],
      "execution_count": null,
      "outputs": [
        {
          "output_type": "display_data",
          "data": {
            "image/png": "[encoded data removed]",
            "text/plain": [
              "<Figure size 432x288 with 1 Axes>"
            ]
          },
          "metadata": {
            "tags": [],
            "needs_background": "light"
          }
        }
      ]
    },
    {
      "cell_type": "code",
      "metadata": {
        "id": "FyuOaollVhBV",
        "colab_type": "code",
        "colab": {
          "base_uri": "https://localhost:8080/",
          "height": 279
        },
        "outputId": "d1aebac0-8feb-4951-a85e-2b16acd750e6"
      },
      "source": [
        "# Boxplot of the same data to show outliers\n",
        "sns.boxplot(data=aaw, x='Absenteeism time in hours');"
      ],
      "execution_count": null,
      "outputs": [
        {
          "output_type": "display_data",
          "data": {
            "image/png": "[encoded data removed]",
            "text/plain": [
              "<Figure size 432x288 with 1 Axes>"
            ]
          },
          "metadata": {
            "tags": [],
            "needs_background": "light"
          }
        }
      ]
    },
    {
      "cell_type": "markdown",
      "metadata": {
        "id": "AqPG8cYmLMEv",
        "colab_type": "text"
      },
      "source": [
        "Most people have very few hours of absenteeism from work.  A small number have a large number of hours off of work.\n",
        "\n",
        "Based on this and the decision to bucket the risk groups, let's create 3 groups, `low` (0-8 hours off), `medium` (8-32 hours off), and `high` (32-120 hours off)."
      ]
    },
    {
      "cell_type": "code",
      "metadata": {
        "id": "-3PTJIv7Reyj",
        "colab_type": "code",
        "colab": {}
      },
      "source": [
        "# Create buckets using the pd.cut function\n",
        "bins = [0,8,32,120]\n",
        "labels = ['low',  'medium', 'high']\n",
        "aaw['risk_bucket'] = pd.cut(aaw['Absenteeism time in hours'], bins=bins, labels=labels, include_lowest=True)"
      ],
      "execution_count": null,
      "outputs": []
    },
    {
      "cell_type": "code",
      "metadata": {
        "id": "SP9S6rM6SNRG",
        "colab_type": "code",
        "colab": {
          "base_uri": "https://localhost:8080/",
          "height": 84
        },
        "outputId": "6c7f9f26-8cb5-4ef3-94e4-0baee9de6fbc"
      },
      "source": [
        "# Count the number of employees that falls in each bucket\n",
        "aaw['risk_bucket'].value_counts()"
      ],
      "execution_count": null,
      "outputs": [
        {
          "output_type": "execute_result",
          "data": {
            "text/plain": [
              "low       677\n",
              "medium     41\n",
              "high       22\n",
              "Name: risk_bucket, dtype: int64"
            ]
          },
          "metadata": {
            "tags": []
          },
          "execution_count": 12
        }
      ]
    },
    {
      "cell_type": "markdown",
      "metadata": {
        "id": "75FL9hxEOcLy",
        "colab_type": "text"
      },
      "source": [
        "> *You be the Data Scientist*: The bins that we created are one of the many subjective choices that a data scientist makes in their daily workflow. Would you use the same bin sizes? The same number of bins? Why or why not?"
      ]
    },
    {
      "cell_type": "markdown",
      "metadata": {
        "id": "jlGZTnMxfHi8",
        "colab_type": "text"
      },
      "source": [
        "We definitely have an unbalanced data set.  The large majority of employees are `low` risk.  We'll need to keep this in mind when modeling, as we'll be creating models that are really good at predicting `low` risk employees, but we also want to accurately predict `medium` and `high` risk employees."
      ]
    },
    {
      "cell_type": "code",
      "metadata": {
        "id": "9N5iqWqrK54t",
        "colab_type": "code",
        "colab": {
          "base_uri": "https://localhost:8080/",
          "height": 851
        },
        "outputId": "93affda4-c63a-4532-93a7-5a6568669a20"
      },
      "source": [
        "# Create a function that will display distributions by risk level\n",
        "def hist_by_risk(risk_level: str, color: str):\n",
        "  plt.hist(aaw[aaw['risk_bucket']==risk_level]['Absenteeism time in hours'], color=color)\n",
        "  plt.title(f'Absenteeism time for {risk_level} risk employees')\n",
        "  plt.xlabel('Absenteeism time in hours')\n",
        "  plt.ylabel('Number of employees')\n",
        "  plt.show()\n",
        "\n",
        "# Setting a color pallete for our risk buckets for consistency\n",
        "risk_colors = {'low': 'green', 'medium': 'goldenrod', 'high': 'red'}\n",
        "\n",
        "for risk, color in risk_colors.items():\n",
        "  hist_by_risk(risk, color)"
      ],
      "execution_count": null,
      "outputs": [
        {
          "output_type": "display_data",
          "data": {
            "image/png": "[encoded data removed]",
            "text/plain": [
              "<Figure size 432x288 with 1 Axes>"
            ]
          },
          "metadata": {
            "tags": [],
            "needs_background": "light"
          }
        },
        {
          "output_type": "display_data",
          "data": {
            "image/png": "[encoded data removed]",
            "text/plain": [
              "<Figure size 432x288 with 1 Axes>"
            ]
          },
          "metadata": {
            "tags": [],
            "needs_background": "light"
          }
        },
        {
          "output_type": "display_data",
          "data": {
            "image/png": "[encoded data removed]",
            "text/plain": [
              "<Figure size 432x288 with 1 Axes>"
            ]
          },
          "metadata": {
            "tags": [],
            "needs_background": "light"
          }
        }
      ]
    },
    {
      "cell_type": "markdown",
      "metadata": {
        "id": "zCiHskO0f9vJ",
        "colab_type": "text"
      },
      "source": [
        "It seems that there is a fairly even distribution of absenteeism time across the buckets.\n",
        "\n",
        "Now, let's take a look at how these buckets are distributed along with other variables."
      ]
    },
    {
      "cell_type": "code",
      "metadata": {
        "id": "sQ3o6CsnLlnQ",
        "colab_type": "code",
        "colab": {
          "base_uri": "https://localhost:8080/",
          "height": 383
        },
        "outputId": "8b3d9e01-7de3-46c8-86b2-76d1ab9d64b2"
      },
      "source": [
        "# How does the month of absence impacted by the risk level?\n",
        "sns.catplot(data=aaw, col='risk_bucket', y='Month of absence', kind='count', sharex=False, height=5, aspect=0.5, orient='v');\n"
      ],
      "execution_count": null,
      "outputs": [
        {
          "output_type": "display_data",
          "data": {
            "image/png": "[encoded data removed]",
            "text/plain": [
              "<Figure size 540x360 with 3 Axes>"
            ]
          },
          "metadata": {
            "tags": [],
            "needs_background": "light"
          }
        }
      ]
    },
    {
      "cell_type": "markdown",
      "metadata": {
        "id": "AWGSz6Lw8j_W",
        "colab_type": "text"
      },
      "source": [
        "March is the most popular month for absenteeism across risk buckets, but July and December are the highest for the `high` risk bucket.\n",
        "> Why do you think that may be? We don't have to know for sure, but it's important to try and add context to patterns you find.\n",
        "- Add your thoughts here: ___"
      ]
    },
    {
      "cell_type": "code",
      "metadata": {
        "id": "Yzyin-SYVRMR",
        "colab_type": "code",
        "colab": {
          "base_uri": "https://localhost:8080/",
          "height": 383
        },
        "outputId": "4c9097ac-3fd3-4164-bbb7-587b8c011db0"
      },
      "source": [
        "# How does the day of the absence impacted by the risk level?\n",
        "sns.catplot(data=aaw, col='risk_bucket', y='Day of the week', kind='count', sharex=False, height=5, aspect=0.5, orient='v');\n"
      ],
      "execution_count": null,
      "outputs": [
        {
          "output_type": "display_data",
          "data": {
            "image/png": "[encoded data removed]",
            "text/plain": [
              "<Figure size 540x360 with 3 Axes>"
            ]
          },
          "metadata": {
            "tags": [],
            "needs_background": "light"
          }
        }
      ]
    },
    {
      "cell_type": "markdown",
      "metadata": {
        "id": "RMYa2SBs9jgX",
        "colab_type": "text"
      },
      "source": [
        "`High` risk employees are more likely to take Mondays off, `medium` risk employees are most likely to take Wednesdays off, whereas `low` risk employees are equally as likely to take off any day."
      ]
    },
    {
      "cell_type": "code",
      "metadata": {
        "id": "P6m3H-tG9tnS",
        "colab_type": "code",
        "colab": {
          "base_uri": "https://localhost:8080/",
          "height": 283
        },
        "outputId": "9dfd92b0-67a2-4849-80a5-b759f2005dc6"
      },
      "source": [
        "# Does transportation expense impact the employee's risk of absenteeism?\n",
        "sns.boxplot(data=aaw, x='risk_bucket', y='Transportation expense', palette=risk_colors);"
      ],
      "execution_count": null,
      "outputs": [
        {
          "output_type": "display_data",
          "data": {
            "image/png": "[encoded data removed]",
            "text/plain": [
              "<Figure size 432x288 with 1 Axes>"
            ]
          },
          "metadata": {
            "tags": [],
            "needs_background": "light"
          }
        }
      ]
    },
    {
      "cell_type": "markdown",
      "metadata": {
        "id": "-JDhVXz-9i2S",
        "colab_type": "text"
      },
      "source": [
        "`Low` risk employees have the same median transportation cost as `high` risk bucket employees, so transportation costs are not stong indicators of risk."
      ]
    },
    {
      "cell_type": "code",
      "metadata": {
        "id": "8_4TWZwdAvRo",
        "colab_type": "code",
        "colab": {
          "base_uri": "https://localhost:8080/",
          "height": 282
        },
        "outputId": "2dc99ecd-c64a-452a-d800-407cadd248f6"
      },
      "source": [
        "# How does the distance the employee as to commute impact an employee's risk of absenteeism?\n",
        "sns.pointplot(data=aaw, x='risk_bucket', y='Distance from Residence to Work', palette=risk_colors);"
      ],
      "execution_count": null,
      "outputs": [
        {
          "output_type": "display_data",
          "data": {
            "image/png": "[encoded data removed]",
            "text/plain": [
              "<Figure size 432x288 with 1 Axes>"
            ]
          },
          "metadata": {
            "tags": [],
            "needs_background": "light"
          }
        }
      ]
    },
    {
      "cell_type": "markdown",
      "metadata": {
        "id": "KO-5IFTvBQf0",
        "colab_type": "text"
      },
      "source": [
        "`High` risk employees actually live closer to work on average, and `low` risk employees live farther from work."
      ]
    },
    {
      "cell_type": "code",
      "metadata": {
        "id": "ReMG04ERBNmJ",
        "colab_type": "code",
        "colab": {
          "base_uri": "https://localhost:8080/",
          "height": 280
        },
        "outputId": "406c3e2b-388b-43f8-cf13-e478bee7fb66"
      },
      "source": [
        "# Do more experienced employees take more time off of work?\n",
        "sns.pointplot(data=aaw, x='risk_bucket', y='Service time', palette=risk_colors);"
      ],
      "execution_count": null,
      "outputs": [
        {
          "output_type": "display_data",
          "data": {
            "image/png": "[encoded data removed]",
            "text/plain": [
              "<Figure size 432x288 with 1 Axes>"
            ]
          },
          "metadata": {
            "tags": [],
            "needs_background": "light"
          }
        }
      ]
    },
    {
      "cell_type": "markdown",
      "metadata": {
        "id": "bCtE8d0alGvk",
        "colab_type": "text"
      },
      "source": [
        "There's a large overlap of error bars between the three groups, so employee experience doesn't impact risk groups."
      ]
    },
    {
      "cell_type": "code",
      "metadata": {
        "id": "v52mVxKsBbyk",
        "colab_type": "code",
        "colab": {
          "base_uri": "https://localhost:8080/",
          "height": 280
        },
        "outputId": "e3cb22e4-8fb2-4501-dd73-908319649372"
      },
      "source": [
        "# Does age impact the amount of time off taken?\n",
        "sns.pointplot(data=aaw, x='risk_bucket', y='Age', palette=risk_colors);"
      ],
      "execution_count": null,
      "outputs": [
        {
          "output_type": "display_data",
          "data": {
            "image/png": "[encoded data removed]",
            "text/plain": [
              "<Figure size 432x288 with 1 Axes>"
            ]
          },
          "metadata": {
            "tags": [],
            "needs_background": "light"
          }
        }
      ]
    },
    {
      "cell_type": "markdown",
      "metadata": {
        "id": "FPJzEGmHBif7",
        "colab_type": "text"
      },
      "source": [
        "`Medium` risk bucket employees have lowest mean age, but again, the error bars are large enough that there isn't a significant difference between the three buckets."
      ]
    },
    {
      "cell_type": "code",
      "metadata": {
        "id": "5oYyaD4OBgdp",
        "colab_type": "code",
        "colab": {
          "base_uri": "https://localhost:8080/",
          "height": 280
        },
        "outputId": "b31cd7ef-7b19-4c5a-a9af-d00202060b6a"
      },
      "source": [
        "# Does the expected work load (number of packages delivered) impact the amount of time an employee takes off?\n",
        "sns.pointplot(data=aaw, x='risk_bucket', y='Work load Average/day ', palette=risk_colors);"
      ],
      "execution_count": null,
      "outputs": [
        {
          "output_type": "display_data",
          "data": {
            "image/png": "[encoded data removed]",
            "text/plain": [
              "<Figure size 432x288 with 1 Axes>"
            ]
          },
          "metadata": {
            "tags": [],
            "needs_background": "light"
          }
        }
      ]
    },
    {
      "cell_type": "markdown",
      "metadata": {
        "id": "uSjHxincCDwE",
        "colab_type": "text"
      },
      "source": [
        "The mean work load not different between `low` and `high` risk buckets, but the `medium` risk bucket has a significantly higher average work load per day than the `low` risk bucket employees. "
      ]
    },
    {
      "cell_type": "code",
      "metadata": {
        "id": "Eo0J6_BCBtbC",
        "colab_type": "code",
        "colab": {
          "base_uri": "https://localhost:8080/",
          "height": 280
        },
        "outputId": "89eb7bfb-133f-4523-847f-8d65859e310b"
      },
      "source": [
        "# Do the risk buckets have different percent of time that they hit their targets?\n",
        "sns.pointplot(data=aaw, x='risk_bucket', y='Hit target', palette=risk_colors);"
      ],
      "execution_count": null,
      "outputs": [
        {
          "output_type": "display_data",
          "data": {
            "image/png": "[encoded data removed]",
            "text/plain": [
              "<Figure size 432x288 with 1 Axes>"
            ]
          },
          "metadata": {
            "tags": [],
            "needs_background": "light"
          }
        }
      ]
    },
    {
      "cell_type": "markdown",
      "metadata": {
        "id": "9XCLeCtimt8-",
        "colab_type": "text"
      },
      "source": [
        "Again, there is a large overlap in the percent of time employees hit their targets across the three groups."
      ]
    },
    {
      "cell_type": "code",
      "metadata": {
        "id": "XpyCgI1jBz19",
        "colab_type": "code",
        "colab": {
          "base_uri": "https://localhost:8080/",
          "height": 311
        },
        "outputId": "cf3b8da8-871f-402a-931d-9eb898b35571"
      },
      "source": [
        "# Are employees with disciplinary failures at a higher risk of absenteeism?\n",
        "aaw.groupby('risk_bucket').agg({'Disciplinary failure': 'mean'}).plot(kind='bar');"
      ],
      "execution_count": null,
      "outputs": [
        {
          "output_type": "display_data",
          "data": {
            "image/png": "[encoded data removed]",
            "text/plain": [
              "<Figure size 432x288 with 1 Axes>"
            ]
          },
          "metadata": {
            "tags": [],
            "needs_background": "light"
          }
        }
      ]
    },
    {
      "cell_type": "markdown",
      "metadata": {
        "id": "iDbYttGHm_MA",
        "colab_type": "text"
      },
      "source": [
        "The `low` risk bucket is the only bucket that has employees with disciplinary failures.  The proportion of these is so low that with the small number of employees in the `medium` and `high` risk buckets there are no employees with disciplinary failures in these buckets. \n",
        "\n",
        "> **This isn't a good indicator of risk.**"
      ]
    },
    {
      "cell_type": "code",
      "metadata": {
        "id": "wN3yITxzCWFo",
        "colab_type": "code",
        "colab": {
          "base_uri": "https://localhost:8080/",
          "height": 369
        },
        "outputId": "e81c017d-7fc1-405e-d741-41023f44a9c3"
      },
      "source": [
        "# How do the level of education amongst the employees impact their risk level?\n",
        "\n",
        "# Mapping the values of education back to their meaning\n",
        "edu_map = {1:'high school', 2:'graduate', 3:'post graduate', 4:'master/doctor'}\n",
        "aaw['edu_mapped'] = aaw['Education'].map(edu_map)\n",
        "sns.catplot(data=aaw, col='risk_bucket', x='edu_mapped', kind='count', sharex=False, sharey=False);"
      ],
      "execution_count": null,
      "outputs": [
        {
          "output_type": "display_data",
          "data": {
            "image/png": "[encoded data removed]",
            "text/plain": [
              "<Figure size 1080x360 with 3 Axes>"
            ]
          },
          "metadata": {
            "tags": [],
            "needs_background": "light"
          }
        }
      ]
    },
    {
      "cell_type": "markdown",
      "metadata": {
        "id": "dS_qKt1qqDtJ",
        "colab_type": "text"
      },
      "source": [
        "All of the risk buckets have a majority of employees with a high school level education.  The `low` risk group has a slightly higher proprtion of college graduates, whereas the `high` risk group has the lowest proportion of employees that completed any post-graduate studies."
      ]
    },
    {
      "cell_type": "code",
      "metadata": {
        "id": "aBbK4F8DCZfs",
        "colab_type": "code",
        "colab": {
          "base_uri": "https://localhost:8080/",
          "height": 369
        },
        "outputId": "ea1d7bb5-da88-43b4-c53a-57ee17f2a442"
      },
      "source": [
        "# Does the riskiness of absenteeism relate to the proportion of social drinkers?\n",
        "sns.catplot(data=aaw, col='risk_bucket', x='Social drinker', kind='count', sharex=False, sharey=False);"
      ],
      "execution_count": null,
      "outputs": [
        {
          "output_type": "display_data",
          "data": {
            "image/png": "[encoded data removed]",
            "text/plain": [
              "<Figure size 1080x360 with 3 Axes>"
            ]
          },
          "metadata": {
            "tags": [],
            "needs_background": "light"
          }
        }
      ]
    },
    {
      "cell_type": "markdown",
      "metadata": {
        "id": "lvMPCF3-qrI6",
        "colab_type": "text"
      },
      "source": [
        "The `low` risk group has the highest proprotion of employees that abstain from drinking, but the `medium` and `high` groups have approximately the same proportion of social drinkers."
      ]
    },
    {
      "cell_type": "code",
      "metadata": {
        "id": "7gV_V5mCMQ6O",
        "colab_type": "code",
        "colab": {
          "base_uri": "https://localhost:8080/",
          "height": 369
        },
        "outputId": "de46dc5f-3f05-4e08-9b49-e4eb7bb20846"
      },
      "source": [
        "# Does the riskiness of absenteeism relate to the proportion of social smokers?\n",
        "sns.catplot(data=aaw, col='risk_bucket', x='Social smoker', kind='count', sharex=False, sharey=False);"
      ],
      "execution_count": null,
      "outputs": [
        {
          "output_type": "display_data",
          "data": {
            "image/png": "[encoded data removed]",
            "text/plain": [
              "<Figure size 1080x360 with 3 Axes>"
            ]
          },
          "metadata": {
            "tags": [],
            "needs_background": "light"
          }
        }
      ]
    },
    {
      "cell_type": "markdown",
      "metadata": {
        "id": "p-mgIljerDM-",
        "colab_type": "text"
      },
      "source": [
        "All risk groups have approximately the same proportion of social smokers, and the majority of employees are non-smokers."
      ]
    },
    {
      "cell_type": "code",
      "metadata": {
        "id": "eKynVqCTMe4p",
        "colab_type": "code",
        "colab": {
          "base_uri": "https://localhost:8080/",
          "height": 283
        },
        "outputId": "4a39dab0-ed81-44b1-ffeb-33291332d60f"
      },
      "source": [
        "# Do the number of children that an employee has impact their risk bucket?\n",
        "sns.pointplot(data=aaw, x='risk_bucket', y='Son', palette=risk_colors);"
      ],
      "execution_count": null,
      "outputs": [
        {
          "output_type": "display_data",
          "data": {
            "image/png": "[encoded data removed]",
            "text/plain": [
              "<Figure size 432x288 with 1 Axes>"
            ]
          },
          "metadata": {
            "tags": [],
            "needs_background": "light"
          }
        }
      ]
    },
    {
      "cell_type": "markdown",
      "metadata": {
        "id": "5wan91jYrRjQ",
        "colab_type": "text"
      },
      "source": [
        "The `low` and `medium` risk employees have approximately 1 child, whereas the `high` risk employees have an average of 1.7 children.  There is slight overlap in error bars between the `medium` and `high` risk buckets, so this is not as significant of a difference."
      ]
    },
    {
      "cell_type": "code",
      "metadata": {
        "id": "nuba1FZAaKk3",
        "colab_type": "code",
        "colab": {
          "base_uri": "https://localhost:8080/",
          "height": 280
        },
        "outputId": "0c823215-f011-48e0-a86c-3857ea22eb94"
      },
      "source": [
        "# Does the number of pets a person have relate to their riskiness?\n",
        "sns.pointplot(data=aaw, x='risk_bucket', y='Pet', palette=risk_colors);"
      ],
      "execution_count": null,
      "outputs": [
        {
          "output_type": "display_data",
          "data": {
            "image/png": "[encoded data removed]",
            "text/plain": [
              "<Figure size 432x288 with 1 Axes>"
            ]
          },
          "metadata": {
            "tags": [],
            "needs_background": "light"
          }
        }
      ]
    },
    {
      "cell_type": "markdown",
      "metadata": {
        "id": "oIJQOpJCaYVf",
        "colab_type": "text"
      },
      "source": [
        "The `low` risk bucket group has a higher average number of pets, but the large error bars means this is not significant in determining riskiness."
      ]
    },
    {
      "cell_type": "code",
      "metadata": {
        "id": "iK7RFtkaMsIz",
        "colab_type": "code",
        "colab": {
          "base_uri": "https://localhost:8080/",
          "height": 280
        },
        "outputId": "8f3031a7-5459-420d-eaf1-0ba5bc4cdc26"
      },
      "source": [
        "# Does the weight of the employee impact their risk for taking time off work?\n",
        "sns.pointplot(data=aaw, x='risk_bucket', y='Weight', palette=risk_colors);"
      ],
      "execution_count": null,
      "outputs": [
        {
          "output_type": "display_data",
          "data": {
            "image/png": "[encoded data removed]",
            "text/plain": [
              "<Figure size 432x288 with 1 Axes>"
            ]
          },
          "metadata": {
            "tags": [],
            "needs_background": "light"
          }
        }
      ]
    },
    {
      "cell_type": "markdown",
      "metadata": {
        "id": "sISpL0f4rsFv",
        "colab_type": "text"
      },
      "source": [
        "There is a large overlap of weights amongst the three groups."
      ]
    },
    {
      "cell_type": "code",
      "metadata": {
        "id": "Yfr5nA1GNFok",
        "colab_type": "code",
        "colab": {
          "base_uri": "https://localhost:8080/",
          "height": 280
        },
        "outputId": "1637c88b-f3a2-44d6-ade5-5144dadc27b2"
      },
      "source": [
        "# Does the height of the employee impact their risk for taking time off work?\n",
        "sns.pointplot(data=aaw, x='risk_bucket', y='Height', palette=risk_colors);"
      ],
      "execution_count": null,
      "outputs": [
        {
          "output_type": "display_data",
          "data": {
            "image/png": "[encoded data removed]",
            "text/plain": [
              "<Figure size 432x288 with 1 Axes>"
            ]
          },
          "metadata": {
            "tags": [],
            "needs_background": "light"
          }
        }
      ]
    },
    {
      "cell_type": "markdown",
      "metadata": {
        "id": "82ECMvfAr2Ft",
        "colab_type": "text"
      },
      "source": [
        "The `low` risk employees are shorter than the `medium` and `high` risk employees.  This suggests that shorter workers are less likely to take time off of work."
      ]
    },
    {
      "cell_type": "code",
      "metadata": {
        "id": "IuBxg6HQNHBv",
        "colab_type": "code",
        "colab": {
          "base_uri": "https://localhost:8080/",
          "height": 280
        },
        "outputId": "bfbf84dc-c753-42fe-b9f1-12d6f88adee5"
      },
      "source": [
        "# Does the BMI of the employee impact their risk for taking time off?\n",
        "sns.pointplot(data=aaw, x='risk_bucket', y='Body mass index', palette=risk_colors);"
      ],
      "execution_count": null,
      "outputs": [
        {
          "output_type": "display_data",
          "data": {
            "image/png": "[encoded data removed]",
            "text/plain": [
              "<Figure size 432x288 with 1 Axes>"
            ]
          },
          "metadata": {
            "tags": [],
            "needs_background": "light"
          }
        }
      ]
    },
    {
      "cell_type": "markdown",
      "metadata": {
        "id": "KDYdbFltsKbL",
        "colab_type": "text"
      },
      "source": [
        "While the `low` risk bucket employees are shorter, they also have a higher average BMI than the `high` risk bucket employees.  "
      ]
    },
    {
      "cell_type": "code",
      "metadata": {
        "id": "oNtYoY-K8wrC",
        "colab_type": "code",
        "colab": {}
      },
      "source": [
        "# Mapping the Reason for Absence values back to their actual reasons\n",
        "reason_map = {\n",
        "    1: 'infectious_disease',\n",
        "    2: 'neoplasms',\n",
        "    3: 'blood_disease',\n",
        "    4: 'metabolic_disease',\n",
        "    5: 'mental_health',\n",
        "    6: 'nervous_system',\n",
        "    7: 'eye_disease',\n",
        "    8: 'ear_disease',\n",
        "    9: 'circulatory',\n",
        "    10: 'respiratory',\n",
        "    11: 'digestive',\n",
        "    12: 'skin_disease',\n",
        "    13: 'musculoskeletal',\n",
        "    14: 'urological',\n",
        "    15: 'pregnancy_related',\n",
        "    16: 'perinatal',\n",
        "    17: 'genetic_diseases',\n",
        "    18: 'abnormal_labs',\n",
        "    19: 'injury',\n",
        "    20: 'external_causes',\n",
        "    21: 'health_services',\n",
        "    22: 'patient_follow-up',\n",
        "    23: 'medical_consultation',\n",
        "    24: 'blood_donation',\n",
        "    25: 'lab_exam',\n",
        "    26: 'unjustified_absence',\n",
        "    27: 'physiotherapy',\n",
        "    28: 'dental_consult'\n",
        "}\n",
        "aaw['Reason for absence'] = aaw['Reason for absence'].map(reason_map)"
      ],
      "execution_count": null,
      "outputs": []
    },
    {
      "cell_type": "code",
      "metadata": {
        "id": "ra_Otl2RNJsF",
        "colab_type": "code",
        "colab": {
          "base_uri": "https://localhost:8080/",
          "height": 743
        },
        "outputId": "aa428d1b-0882-4b96-969f-2c8c5d5c264d"
      },
      "source": [
        "# Do the different risk buckets have different reasons for their absences?\n",
        "sns.catplot(data=aaw, col='risk_bucket', y='Reason for absence', kind='count', sharex=False, height=10, aspect=0.5, orient='v');"
      ],
      "execution_count": null,
      "outputs": [
        {
          "output_type": "display_data",
          "data": {
            "image/png": "[encoded data removed]",
            "text/plain": [
              "<Figure size 1080x720 with 3 Axes>"
            ]
          },
          "metadata": {
            "tags": [],
            "needs_background": "light"
          }
        }
      ]
    },
    {
      "cell_type": "markdown",
      "metadata": {
        "id": "aAU8AH0yGThW",
        "colab_type": "text"
      },
      "source": [
        "The `low` risk bucket employees are more likely to miss work due to routine checkups, like a medical or dental consultation or a physiotherapy appointment.  The `medium` and `high` risk bucket employees are more likely to miss work due to injury of some kind. "
      ]
    },
    {
      "cell_type": "markdown",
      "metadata": {
        "id": "m2Nfb1szHMuH",
        "colab_type": "text"
      },
      "source": [
        "## **Tuesday**\n",
        "\n",
        "After doing a bunch of EDA on the different features and how they were related to the different risk buckets, we learned some patterns and trends in the data.  Now, we need to check to see how the different features relate to one another so we don't double count a feature and risk overfitting — that phenomenon is also referred to as [multicollinearity](https://www.statisticshowto.com/multicollinearity/)."
      ]
    },
    {
      "cell_type": "code",
      "metadata": {
        "id": "5ycSdfkXOLaA",
        "colab_type": "code",
        "colab": {
          "base_uri": "https://localhost:8080/",
          "height": 1000
        },
        "outputId": "f3a1a7a1-9341-4052-a1be-7bb845daa9f9"
      },
      "source": [
        "# How do the distributions of different features relate to other features?\n",
        "sns.pairplot(aaw[['Weight', 'Height', 'Body mass index','risk_bucket',\n",
        "                  'Transportation expense', 'Distance from Residence to Work',\n",
        "       'Service time', 'Age',]], hue='risk_bucket', palette=risk_colors);"
      ],
      "execution_count": null,
      "outputs": [
        {
          "output_type": "display_data",
          "data": {
            "image/png": "[encoded data removed]",
            "text/plain": [
              "<Figure size 1337x1260 with 56 Axes>"
            ]
          },
          "metadata": {
            "tags": [],
            "needs_background": "light"
          }
        }
      ]
    },
    {
      "cell_type": "markdown",
      "metadata": {
        "id": "H13CzmYRUb7a",
        "colab_type": "text"
      },
      "source": [
        "Features that appear to be highly correlated are:\n",
        "- Weight and Body mass index\n",
        "- Age and service time\n",
        "\n",
        "Let's check the correlation of all features with a heatmap."
      ]
    },
    {
      "cell_type": "code",
      "metadata": {
        "id": "r4rPe9SbToPg",
        "colab_type": "code",
        "colab": {
          "base_uri": "https://localhost:8080/",
          "height": 588
        },
        "outputId": "98b6fde2-baa9-4804-b334-d2fd12cc8cd1"
      },
      "source": [
        "# How are all features correlated to one another?\n",
        "f, ax = plt.subplots(figsize=(12, 7))\n",
        "ax = sns.heatmap(aaw.corr(), square=True, cmap='coolwarm');"
      ],
      "execution_count": null,
      "outputs": [
        {
          "output_type": "display_data",
          "data": {
            "image/png": "[encoded data removed]",
            "text/plain": [
              "<Figure size 864x504 with 2 Axes>"
            ]
          },
          "metadata": {
            "tags": [],
            "needs_background": "light"
          }
        }
      ]
    },
    {
      "cell_type": "markdown",
      "metadata": {
        "id": "V2axYLn60iB9",
        "colab_type": "text"
      },
      "source": [
        "As confirmed by the heatmap, there is a high correlation between:\n",
        "- Age and Service time\n",
        "- Body mass index and Weight\n",
        "\n",
        "We'll want to determine which one from each pair to keep for modelling. "
      ]
    },
    {
      "cell_type": "markdown",
      "metadata": {
        "id": "pIev5BCMVqmC",
        "colab_type": "text"
      },
      "source": [
        "#### Feature Selection\n",
        "\n",
        "Using the information from our EDA, we know that we'll need to eliminate the multicollinearity, so let's take a closer look at each pair to determine what our next steps should be.\n",
        "\n",
        "**Service Time and Age**"
      ]
    },
    {
      "cell_type": "code",
      "metadata": {
        "id": "j1vBanZD1bdA",
        "colab_type": "code",
        "colab": {
          "base_uri": "https://localhost:8080/",
          "height": 136
        },
        "outputId": "c80601bb-1de0-4345-dceb-216d788d5f38"
      },
      "source": [
        "# Is Service time or Age more highly correlated with Absenteeism time in hours?\n",
        "aaw[['Absenteeism time in hours', 'Service time', 'Age']].corr()"
      ],
      "execution_count": null,
      "outputs": [
        {
          "output_type": "execute_result",
          "data": {
            "text/html": [
              "<div>\n",
              "<style scoped>\n",
              "    .dataframe tbody tr th:only-of-type {\n",
              "        vertical-align: middle;\n",
              "    }\n",
              "\n",
              "    .dataframe tbody tr th {\n",
              "        vertical-align: top;\n",
              "    }\n",
              "\n",
              "    .dataframe thead th {\n",
              "        text-align: right;\n",
              "    }\n",
              "</style>\n",
              "<table border=\"1\" class=\"dataframe\">\n",
              "  <thead>\n",
              "    <tr style=\"text-align: right;\">\n",
              "      <th></th>\n",
              "      <th>Absenteeism time in hours</th>\n",
              "      <th>Service time</th>\n",
              "      <th>Age</th>\n",
              "    </tr>\n",
              "  </thead>\n",
              "  <tbody>\n",
              "    <tr>\n",
              "      <th>Absenteeism time in hours</th>\n",
              "      <td>1.000000</td>\n",
              "      <td>0.019029</td>\n",
              "      <td>0.065760</td>\n",
              "    </tr>\n",
              "    <tr>\n",
              "      <th>Service time</th>\n",
              "      <td>0.019029</td>\n",
              "      <td>1.000000</td>\n",
              "      <td>0.670979</td>\n",
              "    </tr>\n",
              "    <tr>\n",
              "      <th>Age</th>\n",
              "      <td>0.065760</td>\n",
              "      <td>0.670979</td>\n",
              "      <td>1.000000</td>\n",
              "    </tr>\n",
              "  </tbody>\n",
              "</table>\n",
              "</div>"
            ],
            "text/plain": [
              "                           Absenteeism time in hours  Service time       Age\n",
              "Absenteeism time in hours                   1.000000      0.019029  0.065760\n",
              "Service time                                0.019029      1.000000  0.670979\n",
              "Age                                         0.065760      0.670979  1.000000"
            ]
          },
          "metadata": {
            "tags": []
          },
          "execution_count": 35
        }
      ]
    },
    {
      "cell_type": "markdown",
      "metadata": {
        "id": "fHq0xD921a5v",
        "colab_type": "text"
      },
      "source": [
        "  - Analysis: Age is more highly correlated to Absenteeism time\n",
        "  - Decision: Drop `Service time` feature from dataset\n",
        "\n",
        "\n",
        "  **Body Mass Index and Weight**"
      ]
    },
    {
      "cell_type": "code",
      "metadata": {
        "id": "jRtSSKPMzf7h",
        "colab_type": "code",
        "colab": {
          "base_uri": "https://localhost:8080/",
          "height": 166
        },
        "outputId": "acb72fbe-443d-40a7-c3a8-de60d7ca0e20"
      },
      "source": [
        "# Is BMI, Height, or Weight more highly correlated with Absenteeism time in hours?\n",
        "aaw[['Absenteeism time in hours', 'Body mass index', 'Height', 'Weight']].corr()"
      ],
      "execution_count": null,
      "outputs": [
        {
          "output_type": "execute_result",
          "data": {
            "text/html": [
              "<div>\n",
              "<style scoped>\n",
              "    .dataframe tbody tr th:only-of-type {\n",
              "        vertical-align: middle;\n",
              "    }\n",
              "\n",
              "    .dataframe tbody tr th {\n",
              "        vertical-align: top;\n",
              "    }\n",
              "\n",
              "    .dataframe thead th {\n",
              "        text-align: right;\n",
              "    }\n",
              "</style>\n",
              "<table border=\"1\" class=\"dataframe\">\n",
              "  <thead>\n",
              "    <tr style=\"text-align: right;\">\n",
              "      <th></th>\n",
              "      <th>Absenteeism time in hours</th>\n",
              "      <th>Body mass index</th>\n",
              "      <th>Height</th>\n",
              "      <th>Weight</th>\n",
              "    </tr>\n",
              "  </thead>\n",
              "  <tbody>\n",
              "    <tr>\n",
              "      <th>Absenteeism time in hours</th>\n",
              "      <td>1.000000</td>\n",
              "      <td>-0.049719</td>\n",
              "      <td>0.144420</td>\n",
              "      <td>0.015789</td>\n",
              "    </tr>\n",
              "    <tr>\n",
              "      <th>Body mass index</th>\n",
              "      <td>-0.049719</td>\n",
              "      <td>1.000000</td>\n",
              "      <td>-0.121049</td>\n",
              "      <td>0.904117</td>\n",
              "    </tr>\n",
              "    <tr>\n",
              "      <th>Height</th>\n",
              "      <td>0.144420</td>\n",
              "      <td>-0.121049</td>\n",
              "      <td>1.000000</td>\n",
              "      <td>0.306802</td>\n",
              "    </tr>\n",
              "    <tr>\n",
              "      <th>Weight</th>\n",
              "      <td>0.015789</td>\n",
              "      <td>0.904117</td>\n",
              "      <td>0.306802</td>\n",
              "      <td>1.000000</td>\n",
              "    </tr>\n",
              "  </tbody>\n",
              "</table>\n",
              "</div>"
            ],
            "text/plain": [
              "                           Absenteeism time in hours  ...    Weight\n",
              "Absenteeism time in hours                   1.000000  ...  0.015789\n",
              "Body mass index                            -0.049719  ...  0.904117\n",
              "Height                                      0.144420  ...  0.306802\n",
              "Weight                                      0.015789  ...  1.000000\n",
              "\n",
              "[4 rows x 4 columns]"
            ]
          },
          "metadata": {
            "tags": []
          },
          "execution_count": 36
        }
      ]
    },
    {
      "cell_type": "markdown",
      "metadata": {
        "id": "JsmM9kKG2Dkl",
        "colab_type": "text"
      },
      "source": [
        "- Analysis: BMI takes into account height and weight, but it looks like height and weight are differently correlated to absenteeism time, so it makes more sense to keep the actual Height and Weight over BMI.\n",
        "\n",
        "- Decision: Drop `Body mass index` feature from dataset"
      ]
    },
    {
      "cell_type": "code",
      "metadata": {
        "id": "sb2B9UNv2C3x",
        "colab_type": "code",
        "colab": {}
      },
      "source": [
        "# Dropping BMI and Service time from data\n",
        "aaw.drop(labels=['Service time', 'Body mass index'], axis=1, inplace=True)"
      ],
      "execution_count": null,
      "outputs": []
    },
    {
      "cell_type": "code",
      "metadata": {
        "id": "Pw3pK_BU3KOq",
        "colab_type": "code",
        "colab": {
          "base_uri": "https://localhost:8080/",
          "height": 295
        },
        "outputId": "63ba5a91-186e-4f6a-c845-f5bb51f90865"
      },
      "source": [
        "# Checking both columns were dropped\n",
        "aaw.head()"
      ],
      "execution_count": null,
      "outputs": [
        {
          "output_type": "execute_result",
          "data": {
            "text/html": [
              "<div>\n",
              "<style scoped>\n",
              "    .dataframe tbody tr th:only-of-type {\n",
              "        vertical-align: middle;\n",
              "    }\n",
              "\n",
              "    .dataframe tbody tr th {\n",
              "        vertical-align: top;\n",
              "    }\n",
              "\n",
              "    .dataframe thead th {\n",
              "        text-align: right;\n",
              "    }\n",
              "</style>\n",
              "<table border=\"1\" class=\"dataframe\">\n",
              "  <thead>\n",
              "    <tr style=\"text-align: right;\">\n",
              "      <th></th>\n",
              "      <th>Reason for absence</th>\n",
              "      <th>Month of absence</th>\n",
              "      <th>Day of the week</th>\n",
              "      <th>Seasons</th>\n",
              "      <th>Transportation expense</th>\n",
              "      <th>Distance from Residence to Work</th>\n",
              "      <th>Age</th>\n",
              "      <th>Work load Average/day</th>\n",
              "      <th>Hit target</th>\n",
              "      <th>Disciplinary failure</th>\n",
              "      <th>Education</th>\n",
              "      <th>Son</th>\n",
              "      <th>Social drinker</th>\n",
              "      <th>Social smoker</th>\n",
              "      <th>Pet</th>\n",
              "      <th>Weight</th>\n",
              "      <th>Height</th>\n",
              "      <th>Absenteeism time in hours</th>\n",
              "      <th>risk_bucket</th>\n",
              "      <th>edu_mapped</th>\n",
              "    </tr>\n",
              "    <tr>\n",
              "      <th>ID</th>\n",
              "      <th></th>\n",
              "      <th></th>\n",
              "      <th></th>\n",
              "      <th></th>\n",
              "      <th></th>\n",
              "      <th></th>\n",
              "      <th></th>\n",
              "      <th></th>\n",
              "      <th></th>\n",
              "      <th></th>\n",
              "      <th></th>\n",
              "      <th></th>\n",
              "      <th></th>\n",
              "      <th></th>\n",
              "      <th></th>\n",
              "      <th></th>\n",
              "      <th></th>\n",
              "      <th></th>\n",
              "      <th></th>\n",
              "      <th></th>\n",
              "    </tr>\n",
              "  </thead>\n",
              "  <tbody>\n",
              "    <tr>\n",
              "      <th>11</th>\n",
              "      <td>unjustified_absence</td>\n",
              "      <td>7</td>\n",
              "      <td>3</td>\n",
              "      <td>1</td>\n",
              "      <td>289</td>\n",
              "      <td>36</td>\n",
              "      <td>33</td>\n",
              "      <td>239.554</td>\n",
              "      <td>97</td>\n",
              "      <td>0</td>\n",
              "      <td>1</td>\n",
              "      <td>2</td>\n",
              "      <td>1</td>\n",
              "      <td>0</td>\n",
              "      <td>1</td>\n",
              "      <td>90</td>\n",
              "      <td>172</td>\n",
              "      <td>4</td>\n",
              "      <td>low</td>\n",
              "      <td>high school</td>\n",
              "    </tr>\n",
              "    <tr>\n",
              "      <th>36</th>\n",
              "      <td>NaN</td>\n",
              "      <td>7</td>\n",
              "      <td>3</td>\n",
              "      <td>1</td>\n",
              "      <td>118</td>\n",
              "      <td>13</td>\n",
              "      <td>50</td>\n",
              "      <td>239.554</td>\n",
              "      <td>97</td>\n",
              "      <td>1</td>\n",
              "      <td>1</td>\n",
              "      <td>1</td>\n",
              "      <td>1</td>\n",
              "      <td>0</td>\n",
              "      <td>0</td>\n",
              "      <td>98</td>\n",
              "      <td>178</td>\n",
              "      <td>0</td>\n",
              "      <td>low</td>\n",
              "      <td>high school</td>\n",
              "    </tr>\n",
              "    <tr>\n",
              "      <th>3</th>\n",
              "      <td>medical_consultation</td>\n",
              "      <td>7</td>\n",
              "      <td>4</td>\n",
              "      <td>1</td>\n",
              "      <td>179</td>\n",
              "      <td>51</td>\n",
              "      <td>38</td>\n",
              "      <td>239.554</td>\n",
              "      <td>97</td>\n",
              "      <td>0</td>\n",
              "      <td>1</td>\n",
              "      <td>0</td>\n",
              "      <td>1</td>\n",
              "      <td>0</td>\n",
              "      <td>0</td>\n",
              "      <td>89</td>\n",
              "      <td>170</td>\n",
              "      <td>2</td>\n",
              "      <td>low</td>\n",
              "      <td>high school</td>\n",
              "    </tr>\n",
              "    <tr>\n",
              "      <th>7</th>\n",
              "      <td>eye_disease</td>\n",
              "      <td>7</td>\n",
              "      <td>5</td>\n",
              "      <td>1</td>\n",
              "      <td>279</td>\n",
              "      <td>5</td>\n",
              "      <td>39</td>\n",
              "      <td>239.554</td>\n",
              "      <td>97</td>\n",
              "      <td>0</td>\n",
              "      <td>1</td>\n",
              "      <td>2</td>\n",
              "      <td>1</td>\n",
              "      <td>1</td>\n",
              "      <td>0</td>\n",
              "      <td>68</td>\n",
              "      <td>168</td>\n",
              "      <td>4</td>\n",
              "      <td>low</td>\n",
              "      <td>high school</td>\n",
              "    </tr>\n",
              "    <tr>\n",
              "      <th>11</th>\n",
              "      <td>medical_consultation</td>\n",
              "      <td>7</td>\n",
              "      <td>5</td>\n",
              "      <td>1</td>\n",
              "      <td>289</td>\n",
              "      <td>36</td>\n",
              "      <td>33</td>\n",
              "      <td>239.554</td>\n",
              "      <td>97</td>\n",
              "      <td>0</td>\n",
              "      <td>1</td>\n",
              "      <td>2</td>\n",
              "      <td>1</td>\n",
              "      <td>0</td>\n",
              "      <td>1</td>\n",
              "      <td>90</td>\n",
              "      <td>172</td>\n",
              "      <td>2</td>\n",
              "      <td>low</td>\n",
              "      <td>high school</td>\n",
              "    </tr>\n",
              "  </tbody>\n",
              "</table>\n",
              "</div>"
            ],
            "text/plain": [
              "      Reason for absence  Month of absence  ...  risk_bucket   edu_mapped\n",
              "ID                                          ...                          \n",
              "11   unjustified_absence                 7  ...          low  high school\n",
              "36                   NaN                 7  ...          low  high school\n",
              "3   medical_consultation                 7  ...          low  high school\n",
              "7            eye_disease                 7  ...          low  high school\n",
              "11  medical_consultation                 7  ...          low  high school\n",
              "\n",
              "[5 rows x 20 columns]"
            ]
          },
          "metadata": {
            "tags": []
          },
          "execution_count": 38
        }
      ]
    },
    {
      "cell_type": "markdown",
      "metadata": {
        "id": "KnUeHfzBKkQM",
        "colab_type": "text"
      },
      "source": [
        "### Initial Findings\n",
        "\n",
        "Now that we've completed our deep dive on EDA, it's time to prepare our initial findings to update the Stakeholders on what we've learned that will support our answer to the big question: _What is the risk factor in insuring a person?_\n",
        "\n",
        "\n",
        "```\n",
        "We used an employee's absenteeism time bucketed into risk groups as a proxy for risk of insuring.  From those buckets, we learned:\n",
        "- Most people are a low insurance risk\n",
        "- High risk employees:\n",
        "  - live closer to work, \n",
        "  - are less educated, \n",
        "  - are social drinkers and smokers, \n",
        "  - have more children, \n",
        "  - are taller, \n",
        "  - and are more prone to injury\n",
        "- A higher expected work load per day contributes to a higher insurance risk\n",
        "- Factors that do not impact insurance risk: transportation expenses, age, service time, how frequently they hit their targets, or if they have pets\n",
        "```\n",
        "\n",
        "\n"
      ]
    },
    {
      "cell_type": "markdown",
      "metadata": {
        "id": "hNbex0JNKA6v",
        "colab_type": "text"
      },
      "source": [
        "## **Wednesday**\n",
        "\n",
        "After sharing our initial findings with stakeholders, we're ready to get our data ready for modeling and run some baseline models to determine the best model for this application."
      ]
    },
    {
      "cell_type": "code",
      "metadata": {
        "id": "pEQFZ2A67eZt",
        "colab_type": "code",
        "colab": {}
      },
      "source": [
        "# First encode our data that is non-numerical\n",
        "# we don't want to encode the risk bucket because we want it to be categories\n",
        "encoded = pd.get_dummies(aaw.drop(['risk_bucket'], axis=1))"
      ],
      "execution_count": null,
      "outputs": []
    },
    {
      "cell_type": "code",
      "metadata": {
        "id": "FTUtDatS7oK-",
        "colab_type": "code",
        "colab": {
          "base_uri": "https://localhost:8080/",
          "height": 295
        },
        "outputId": "213c6f4c-d16c-4a4d-e66f-48032b463820"
      },
      "source": [
        "# Check out what our data looks like after encoding\n",
        "encoded.head()"
      ],
      "execution_count": null,
      "outputs": [
        {
          "output_type": "execute_result",
          "data": {
            "text/html": [
              "<div>\n",
              "<style scoped>\n",
              "    .dataframe tbody tr th:only-of-type {\n",
              "        vertical-align: middle;\n",
              "    }\n",
              "\n",
              "    .dataframe tbody tr th {\n",
              "        vertical-align: top;\n",
              "    }\n",
              "\n",
              "    .dataframe thead th {\n",
              "        text-align: right;\n",
              "    }\n",
              "</style>\n",
              "<table border=\"1\" class=\"dataframe\">\n",
              "  <thead>\n",
              "    <tr style=\"text-align: right;\">\n",
              "      <th></th>\n",
              "      <th>Month of absence</th>\n",
              "      <th>Day of the week</th>\n",
              "      <th>Seasons</th>\n",
              "      <th>Transportation expense</th>\n",
              "      <th>Distance from Residence to Work</th>\n",
              "      <th>Age</th>\n",
              "      <th>Work load Average/day</th>\n",
              "      <th>Hit target</th>\n",
              "      <th>Disciplinary failure</th>\n",
              "      <th>Education</th>\n",
              "      <th>Son</th>\n",
              "      <th>Social drinker</th>\n",
              "      <th>Social smoker</th>\n",
              "      <th>Pet</th>\n",
              "      <th>Weight</th>\n",
              "      <th>Height</th>\n",
              "      <th>Absenteeism time in hours</th>\n",
              "      <th>Reason for absence_abnormal_labs</th>\n",
              "      <th>Reason for absence_blood_disease</th>\n",
              "      <th>Reason for absence_blood_donation</th>\n",
              "      <th>Reason for absence_circulatory</th>\n",
              "      <th>Reason for absence_dental_consult</th>\n",
              "      <th>Reason for absence_digestive</th>\n",
              "      <th>Reason for absence_ear_disease</th>\n",
              "      <th>Reason for absence_eye_disease</th>\n",
              "      <th>Reason for absence_genetic_diseases</th>\n",
              "      <th>Reason for absence_health_services</th>\n",
              "      <th>Reason for absence_infectious_disease</th>\n",
              "      <th>Reason for absence_injury</th>\n",
              "      <th>Reason for absence_lab_exam</th>\n",
              "      <th>Reason for absence_medical_consultation</th>\n",
              "      <th>Reason for absence_mental_health</th>\n",
              "      <th>Reason for absence_metabolic_disease</th>\n",
              "      <th>Reason for absence_musculoskeletal</th>\n",
              "      <th>Reason for absence_neoplasms</th>\n",
              "      <th>Reason for absence_nervous_system</th>\n",
              "      <th>Reason for absence_patient_follow-up</th>\n",
              "      <th>Reason for absence_perinatal</th>\n",
              "      <th>Reason for absence_physiotherapy</th>\n",
              "      <th>Reason for absence_pregnancy_related</th>\n",
              "      <th>Reason for absence_respiratory</th>\n",
              "      <th>Reason for absence_skin_disease</th>\n",
              "      <th>Reason for absence_unjustified_absence</th>\n",
              "      <th>Reason for absence_urological</th>\n",
              "      <th>edu_mapped_graduate</th>\n",
              "      <th>edu_mapped_high school</th>\n",
              "      <th>edu_mapped_master/doctor</th>\n",
              "      <th>edu_mapped_post graduate</th>\n",
              "    </tr>\n",
              "    <tr>\n",
              "      <th>ID</th>\n",
              "      <th></th>\n",
              "      <th></th>\n",
              "      <th></th>\n",
              "      <th></th>\n",
              "      <th></th>\n",
              "      <th></th>\n",
              "      <th></th>\n",
              "      <th></th>\n",
              "      <th></th>\n",
              "      <th></th>\n",
              "      <th></th>\n",
              "      <th></th>\n",
              "      <th></th>\n",
              "      <th></th>\n",
              "      <th></th>\n",
              "      <th></th>\n",
              "      <th></th>\n",
              "      <th></th>\n",
              "      <th></th>\n",
              "      <th></th>\n",
              "      <th></th>\n",
              "      <th></th>\n",
              "      <th></th>\n",
              "      <th></th>\n",
              "      <th></th>\n",
              "      <th></th>\n",
              "      <th></th>\n",
              "      <th></th>\n",
              "      <th></th>\n",
              "      <th></th>\n",
              "      <th></th>\n",
              "      <th></th>\n",
              "      <th></th>\n",
              "      <th></th>\n",
              "      <th></th>\n",
              "      <th></th>\n",
              "      <th></th>\n",
              "      <th></th>\n",
              "      <th></th>\n",
              "      <th></th>\n",
              "      <th></th>\n",
              "      <th></th>\n",
              "      <th></th>\n",
              "      <th></th>\n",
              "      <th></th>\n",
              "      <th></th>\n",
              "      <th></th>\n",
              "      <th></th>\n",
              "    </tr>\n",
              "  </thead>\n",
              "  <tbody>\n",
              "    <tr>\n",
              "      <th>11</th>\n",
              "      <td>7</td>\n",
              "      <td>3</td>\n",
              "      <td>1</td>\n",
              "      <td>289</td>\n",
              "      <td>36</td>\n",
              "      <td>33</td>\n",
              "      <td>239.554</td>\n",
              "      <td>97</td>\n",
              "      <td>0</td>\n",
              "      <td>1</td>\n",
              "      <td>2</td>\n",
              "      <td>1</td>\n",
              "      <td>0</td>\n",
              "      <td>1</td>\n",
              "      <td>90</td>\n",
              "      <td>172</td>\n",
              "      <td>4</td>\n",
              "      <td>0</td>\n",
              "      <td>0</td>\n",
              "      <td>0</td>\n",
              "      <td>0</td>\n",
              "      <td>0</td>\n",
              "      <td>0</td>\n",
              "      <td>0</td>\n",
              "      <td>0</td>\n",
              "      <td>0</td>\n",
              "      <td>0</td>\n",
              "      <td>0</td>\n",
              "      <td>0</td>\n",
              "      <td>0</td>\n",
              "      <td>0</td>\n",
              "      <td>0</td>\n",
              "      <td>0</td>\n",
              "      <td>0</td>\n",
              "      <td>0</td>\n",
              "      <td>0</td>\n",
              "      <td>0</td>\n",
              "      <td>0</td>\n",
              "      <td>0</td>\n",
              "      <td>0</td>\n",
              "      <td>0</td>\n",
              "      <td>0</td>\n",
              "      <td>1</td>\n",
              "      <td>0</td>\n",
              "      <td>0</td>\n",
              "      <td>1</td>\n",
              "      <td>0</td>\n",
              "      <td>0</td>\n",
              "    </tr>\n",
              "    <tr>\n",
              "      <th>36</th>\n",
              "      <td>7</td>\n",
              "      <td>3</td>\n",
              "      <td>1</td>\n",
              "      <td>118</td>\n",
              "      <td>13</td>\n",
              "      <td>50</td>\n",
              "      <td>239.554</td>\n",
              "      <td>97</td>\n",
              "      <td>1</td>\n",
              "      <td>1</td>\n",
              "      <td>1</td>\n",
              "      <td>1</td>\n",
              "      <td>0</td>\n",
              "      <td>0</td>\n",
              "      <td>98</td>\n",
              "      <td>178</td>\n",
              "      <td>0</td>\n",
              "      <td>0</td>\n",
              "      <td>0</td>\n",
              "      <td>0</td>\n",
              "      <td>0</td>\n",
              "      <td>0</td>\n",
              "      <td>0</td>\n",
              "      <td>0</td>\n",
              "      <td>0</td>\n",
              "      <td>0</td>\n",
              "      <td>0</td>\n",
              "      <td>0</td>\n",
              "      <td>0</td>\n",
              "      <td>0</td>\n",
              "      <td>0</td>\n",
              "      <td>0</td>\n",
              "      <td>0</td>\n",
              "      <td>0</td>\n",
              "      <td>0</td>\n",
              "      <td>0</td>\n",
              "      <td>0</td>\n",
              "      <td>0</td>\n",
              "      <td>0</td>\n",
              "      <td>0</td>\n",
              "      <td>0</td>\n",
              "      <td>0</td>\n",
              "      <td>0</td>\n",
              "      <td>0</td>\n",
              "      <td>0</td>\n",
              "      <td>1</td>\n",
              "      <td>0</td>\n",
              "      <td>0</td>\n",
              "    </tr>\n",
              "    <tr>\n",
              "      <th>3</th>\n",
              "      <td>7</td>\n",
              "      <td>4</td>\n",
              "      <td>1</td>\n",
              "      <td>179</td>\n",
              "      <td>51</td>\n",
              "      <td>38</td>\n",
              "      <td>239.554</td>\n",
              "      <td>97</td>\n",
              "      <td>0</td>\n",
              "      <td>1</td>\n",
              "      <td>0</td>\n",
              "      <td>1</td>\n",
              "      <td>0</td>\n",
              "      <td>0</td>\n",
              "      <td>89</td>\n",
              "      <td>170</td>\n",
              "      <td>2</td>\n",
              "      <td>0</td>\n",
              "      <td>0</td>\n",
              "      <td>0</td>\n",
              "      <td>0</td>\n",
              "      <td>0</td>\n",
              "      <td>0</td>\n",
              "      <td>0</td>\n",
              "      <td>0</td>\n",
              "      <td>0</td>\n",
              "      <td>0</td>\n",
              "      <td>0</td>\n",
              "      <td>0</td>\n",
              "      <td>0</td>\n",
              "      <td>1</td>\n",
              "      <td>0</td>\n",
              "      <td>0</td>\n",
              "      <td>0</td>\n",
              "      <td>0</td>\n",
              "      <td>0</td>\n",
              "      <td>0</td>\n",
              "      <td>0</td>\n",
              "      <td>0</td>\n",
              "      <td>0</td>\n",
              "      <td>0</td>\n",
              "      <td>0</td>\n",
              "      <td>0</td>\n",
              "      <td>0</td>\n",
              "      <td>0</td>\n",
              "      <td>1</td>\n",
              "      <td>0</td>\n",
              "      <td>0</td>\n",
              "    </tr>\n",
              "    <tr>\n",
              "      <th>7</th>\n",
              "      <td>7</td>\n",
              "      <td>5</td>\n",
              "      <td>1</td>\n",
              "      <td>279</td>\n",
              "      <td>5</td>\n",
              "      <td>39</td>\n",
              "      <td>239.554</td>\n",
              "      <td>97</td>\n",
              "      <td>0</td>\n",
              "      <td>1</td>\n",
              "      <td>2</td>\n",
              "      <td>1</td>\n",
              "      <td>1</td>\n",
              "      <td>0</td>\n",
              "      <td>68</td>\n",
              "      <td>168</td>\n",
              "      <td>4</td>\n",
              "      <td>0</td>\n",
              "      <td>0</td>\n",
              "      <td>0</td>\n",
              "      <td>0</td>\n",
              "      <td>0</td>\n",
              "      <td>0</td>\n",
              "      <td>0</td>\n",
              "      <td>1</td>\n",
              "      <td>0</td>\n",
              "      <td>0</td>\n",
              "      <td>0</td>\n",
              "      <td>0</td>\n",
              "      <td>0</td>\n",
              "      <td>0</td>\n",
              "      <td>0</td>\n",
              "      <td>0</td>\n",
              "      <td>0</td>\n",
              "      <td>0</td>\n",
              "      <td>0</td>\n",
              "      <td>0</td>\n",
              "      <td>0</td>\n",
              "      <td>0</td>\n",
              "      <td>0</td>\n",
              "      <td>0</td>\n",
              "      <td>0</td>\n",
              "      <td>0</td>\n",
              "      <td>0</td>\n",
              "      <td>0</td>\n",
              "      <td>1</td>\n",
              "      <td>0</td>\n",
              "      <td>0</td>\n",
              "    </tr>\n",
              "    <tr>\n",
              "      <th>11</th>\n",
              "      <td>7</td>\n",
              "      <td>5</td>\n",
              "      <td>1</td>\n",
              "      <td>289</td>\n",
              "      <td>36</td>\n",
              "      <td>33</td>\n",
              "      <td>239.554</td>\n",
              "      <td>97</td>\n",
              "      <td>0</td>\n",
              "      <td>1</td>\n",
              "      <td>2</td>\n",
              "      <td>1</td>\n",
              "      <td>0</td>\n",
              "      <td>1</td>\n",
              "      <td>90</td>\n",
              "      <td>172</td>\n",
              "      <td>2</td>\n",
              "      <td>0</td>\n",
              "      <td>0</td>\n",
              "      <td>0</td>\n",
              "      <td>0</td>\n",
              "      <td>0</td>\n",
              "      <td>0</td>\n",
              "      <td>0</td>\n",
              "      <td>0</td>\n",
              "      <td>0</td>\n",
              "      <td>0</td>\n",
              "      <td>0</td>\n",
              "      <td>0</td>\n",
              "      <td>0</td>\n",
              "      <td>1</td>\n",
              "      <td>0</td>\n",
              "      <td>0</td>\n",
              "      <td>0</td>\n",
              "      <td>0</td>\n",
              "      <td>0</td>\n",
              "      <td>0</td>\n",
              "      <td>0</td>\n",
              "      <td>0</td>\n",
              "      <td>0</td>\n",
              "      <td>0</td>\n",
              "      <td>0</td>\n",
              "      <td>0</td>\n",
              "      <td>0</td>\n",
              "      <td>0</td>\n",
              "      <td>1</td>\n",
              "      <td>0</td>\n",
              "      <td>0</td>\n",
              "    </tr>\n",
              "  </tbody>\n",
              "</table>\n",
              "</div>"
            ],
            "text/plain": [
              "    Month of absence  ...  edu_mapped_post graduate\n",
              "ID                    ...                          \n",
              "11                 7  ...                         0\n",
              "36                 7  ...                         0\n",
              "3                  7  ...                         0\n",
              "7                  7  ...                         0\n",
              "11                 7  ...                         0\n",
              "\n",
              "[5 rows x 48 columns]"
            ]
          },
          "metadata": {
            "tags": []
          },
          "execution_count": 40
        }
      ]
    },
    {
      "cell_type": "code",
      "metadata": {
        "id": "levk5b5Z5lvq",
        "colab_type": "code",
        "colab": {}
      },
      "source": [
        "# Identifying our inputs and target from our data\n",
        "# We remove the Absenteeism time because that's how we bucketed people in the first place\n",
        "X = encoded.drop(['Absenteeism time in hours'], axis=1)\n",
        "y = aaw['risk_bucket']\n",
        "\n",
        "# Splitting data into train and test groups for training the model and assessing it\n",
        "X_train, X_test, y_train, y_test = train_test_split(X, y, test_size=0.2, random_state=42, )"
      ],
      "execution_count": null,
      "outputs": []
    },
    {
      "cell_type": "markdown",
      "metadata": {
        "id": "U2qI0Ln_7FkG",
        "colab_type": "text"
      },
      "source": [
        "#### Choosing baseline models\n",
        "\n",
        "- We're trying to predict which of the 3 risk buckets a person will fall into, so these need to be **classification** models.\n",
        "- Since this is a small, unbalanced data set, I'll stick with tree-based models, as they can handle these unbalanced classes without creating too much bias\n",
        "\n",
        "##### Model 1: Decision Tree Classifier"
      ]
    },
    {
      "cell_type": "code",
      "metadata": {
        "id": "Fw2ERLN06-hK",
        "colab_type": "code",
        "colab": {
          "base_uri": "https://localhost:8080/",
          "height": 118
        },
        "outputId": "416bd12e-12e6-461f-e4bb-02a69b6ff207"
      },
      "source": [
        "# Import model\n",
        "from sklearn.tree import DecisionTreeClassifier\n",
        "\n",
        "# Instantiate (start up) model\n",
        "dt = DecisionTreeClassifier(random_state=42)\n",
        "# Fit model on the training data\n",
        "dt.fit(X_train, y_train)"
      ],
      "execution_count": null,
      "outputs": [
        {
          "output_type": "execute_result",
          "data": {
            "text/plain": [
              "DecisionTreeClassifier(ccp_alpha=0.0, class_weight=None, criterion='gini',\n",
              "                       max_depth=None, max_features=None, max_leaf_nodes=None,\n",
              "                       min_impurity_decrease=0.0, min_impurity_split=None,\n",
              "                       min_samples_leaf=1, min_samples_split=2,\n",
              "                       min_weight_fraction_leaf=0.0, presort='deprecated',\n",
              "                       random_state=42, splitter='best')"
            ]
          },
          "metadata": {
            "tags": []
          },
          "execution_count": 42
        }
      ]
    },
    {
      "cell_type": "code",
      "metadata": {
        "id": "DuRruDX595h9",
        "colab_type": "code",
        "colab": {
          "base_uri": "https://localhost:8080/",
          "height": 34
        },
        "outputId": "7b5c492d-ed2c-41f7-b696-6439a203c0ee"
      },
      "source": [
        "# Score the model on it's accuracy using cross validation\n",
        "dt_score = cross_val_score(dt, X_test, y_test, cv=3)\n",
        "print(f'Decision Tree score: {dt_score.mean(): .3f} +/- {2*dt_score.std(): .4f}')"
      ],
      "execution_count": null,
      "outputs": [
        {
          "output_type": "stream",
          "text": [
            "Decision Tree score:  0.852 +/-  0.0670\n"
          ],
          "name": "stdout"
        }
      ]
    },
    {
      "cell_type": "markdown",
      "metadata": {
        "id": "7Wov38eTdWft",
        "colab_type": "text"
      },
      "source": [
        "This _looks_ pretty good, but we have to remember that this is an unbalanced data set, so it'll actually be better if we look at the [confusion matrix](https://www.dataschool.io/simple-guide-to-confusion-matrix-terminology/) to see what classes we've correctly predicted."
      ]
    },
    {
      "cell_type": "code",
      "metadata": {
        "id": "mxjRYVH_kb1d",
        "colab_type": "code",
        "colab": {
          "base_uri": "https://localhost:8080/",
          "height": 279
        },
        "outputId": "db42b058-dfc6-4617-b2ba-77588480248a"
      },
      "source": [
        "# Predicting the classes from the test set\n",
        "y_pred_dt = dt.predict(X_test)\n",
        "\n",
        "# Creating a confusion matrix\n",
        "cm_dt = confusion_matrix(y_test, y_pred_dt, labels=labels)\n",
        "# Visualizing the confusion matrix as a heatmap\n",
        "sns.heatmap(cm_dt/np.sum(cm_dt), annot=True, cmap='Blues', \n",
        "            fmt='.2%', xticklabels=labels, yticklabels=labels)\n",
        "plt.ylabel('True label')\n",
        "plt.xlabel('Predicted label');"
      ],
      "execution_count": null,
      "outputs": [
        {
          "output_type": "display_data",
          "data": {
            "image/png": "[encoded data removed]",
            "text/plain": [
              "<Figure size 432x288 with 2 Axes>"
            ]
          },
          "metadata": {
            "tags": [],
            "needs_background": "light"
          }
        }
      ]
    },
    {
      "cell_type": "markdown",
      "metadata": {
        "id": "28rApQ82d1pq",
        "colab_type": "text"
      },
      "source": [
        "As expected, our model is really good at predicting the dominant bucket (`low` risk), but didn't do a good job of predicting either of the other buckets."
      ]
    },
    {
      "cell_type": "markdown",
      "metadata": {
        "id": "gnMh0E9Ahpk0",
        "colab_type": "text"
      },
      "source": [
        "##### Model 2: Random Forest Classifier"
      ]
    },
    {
      "cell_type": "code",
      "metadata": {
        "id": "6f48_2p78UYP",
        "colab_type": "code",
        "colab": {
          "base_uri": "https://localhost:8080/",
          "height": 151
        },
        "outputId": "6f155627-2da8-4511-8b38-047d54a233c9"
      },
      "source": [
        "# Import model\n",
        "from sklearn.ensemble import RandomForestClassifier\n",
        "\n",
        "# Instantiate (start up) model\n",
        "rf = RandomForestClassifier(random_state=42)\n",
        "# Fit model on the training data\n",
        "rf.fit(X_train, y_train)"
      ],
      "execution_count": null,
      "outputs": [
        {
          "output_type": "execute_result",
          "data": {
            "text/plain": [
              "RandomForestClassifier(bootstrap=True, ccp_alpha=0.0, class_weight=None,\n",
              "                       criterion='gini', max_depth=None, max_features='auto',\n",
              "                       max_leaf_nodes=None, max_samples=None,\n",
              "                       min_impurity_decrease=0.0, min_impurity_split=None,\n",
              "                       min_samples_leaf=1, min_samples_split=2,\n",
              "                       min_weight_fraction_leaf=0.0, n_estimators=100,\n",
              "                       n_jobs=None, oob_score=False, random_state=42, verbose=0,\n",
              "                       warm_start=False)"
            ]
          },
          "metadata": {
            "tags": []
          },
          "execution_count": 45
        }
      ]
    },
    {
      "cell_type": "code",
      "metadata": {
        "id": "JBSnWH4e9yDp",
        "colab_type": "code",
        "colab": {
          "base_uri": "https://localhost:8080/",
          "height": 34
        },
        "outputId": "cca52d1e-2787-43ca-c779-455b60afe913"
      },
      "source": [
        "# Score the model on it's accuracy using cross validation\n",
        "rf_score = cross_val_score(rf, X_test, y_test, cv=3)\n",
        "print(f'Random Forest score: {rf_score.mean(): .5f} +/- {2*rf_score.std(): .6f}')"
      ],
      "execution_count": null,
      "outputs": [
        {
          "output_type": "stream",
          "text": [
            "Random Forest score:  0.91905 +/-  0.031675\n"
          ],
          "name": "stdout"
        }
      ]
    },
    {
      "cell_type": "code",
      "metadata": {
        "id": "aLjoEffZljtk",
        "colab_type": "code",
        "colab": {
          "base_uri": "https://localhost:8080/",
          "height": 279
        },
        "outputId": "4f40d404-8b0b-4d2d-c147-2289b90b68c1"
      },
      "source": [
        "# Predicting the classes from the test set\n",
        "y_pred_rf = rf.predict(X_test)\n",
        "\n",
        "# Creating a confusion matrix\n",
        "cm_rf = confusion_matrix(y_test, y_pred_rf, labels=labels)\n",
        "# Visualizing the confusion matrix as a heatmap\n",
        "sns.heatmap(cm_rf/np.sum(cm_rf), annot=True, cmap='Blues',\n",
        "            fmt='.2%', xticklabels=labels, yticklabels=labels)\n",
        "plt.ylabel('True label')\n",
        "plt.xlabel('Predicted label');"
      ],
      "execution_count": null,
      "outputs": [
        {
          "output_type": "display_data",
          "data": {
            "image/png": "[encoded data removed]",
            "text/plain": [
              "<Figure size 432x288 with 2 Axes>"
            ]
          },
          "metadata": {
            "tags": [],
            "needs_background": "light"
          }
        }
      ]
    },
    {
      "cell_type": "markdown",
      "metadata": {
        "id": "CWaV-Xm4iJSR",
        "colab_type": "text"
      },
      "source": [
        "The Random Forest model is slightly better at correctly predicting the `low` risk bucket, but the majority of the other incorrect predictions were also in the `low` bucket, suggesting this model might only really be good at predicting `low` risk people."
      ]
    },
    {
      "cell_type": "markdown",
      "metadata": {
        "id": "vdH-jgd6ibWS",
        "colab_type": "text"
      },
      "source": [
        "##### Model 3: Gradient Boosting Classifier"
      ]
    },
    {
      "cell_type": "code",
      "metadata": {
        "id": "wH_rw93e8jib",
        "colab_type": "code",
        "colab": {
          "base_uri": "https://localhost:8080/",
          "height": 185
        },
        "outputId": "1db985c5-a0a0-4915-ddf7-ffd79a965cbd"
      },
      "source": [
        "# Import model\n",
        "from sklearn.ensemble import GradientBoostingClassifier\n",
        "\n",
        "# Instantiate (start up) model\n",
        "gb = GradientBoostingClassifier(random_state=42)\n",
        "# Fit model on the training data\n",
        "gb.fit(X_train, y_train)"
      ],
      "execution_count": null,
      "outputs": [
        {
          "output_type": "execute_result",
          "data": {
            "text/plain": [
              "GradientBoostingClassifier(ccp_alpha=0.0, criterion='friedman_mse', init=None,\n",
              "                           learning_rate=0.1, loss='deviance', max_depth=3,\n",
              "                           max_features=None, max_leaf_nodes=None,\n",
              "                           min_impurity_decrease=0.0, min_impurity_split=None,\n",
              "                           min_samples_leaf=1, min_samples_split=2,\n",
              "                           min_weight_fraction_leaf=0.0, n_estimators=100,\n",
              "                           n_iter_no_change=None, presort='deprecated',\n",
              "                           random_state=42, subsample=1.0, tol=0.0001,\n",
              "                           validation_fraction=0.1, verbose=0,\n",
              "                           warm_start=False)"
            ]
          },
          "metadata": {
            "tags": []
          },
          "execution_count": 48
        }
      ]
    },
    {
      "cell_type": "code",
      "metadata": {
        "id": "HUhsJ-4888rw",
        "colab_type": "code",
        "colab": {
          "base_uri": "https://localhost:8080/",
          "height": 34
        },
        "outputId": "4a418a8f-a2df-4555-a572-deaeb148fb9d"
      },
      "source": [
        "# Score the model on it's accuracy using cross validation\n",
        "gb_score = cross_val_score(gb, X_test, y_test, cv=3)\n",
        "print(f'Gradient boosting score: {gb_score.mean(): .3f} +/- {2*gb_score.std(): .4f}')"
      ],
      "execution_count": null,
      "outputs": [
        {
          "output_type": "stream",
          "text": [
            "Gradient boosting score:  0.872 +/-  0.0673\n"
          ],
          "name": "stdout"
        }
      ]
    },
    {
      "cell_type": "code",
      "metadata": {
        "id": "iyQpB8UmlpvB",
        "colab_type": "code",
        "colab": {
          "base_uri": "https://localhost:8080/",
          "height": 279
        },
        "outputId": "f129e21b-635d-4be5-981b-acec7853a465"
      },
      "source": [
        "# Predicting the classes from the test set\n",
        "y_pred_gb = gb.predict(X_test)\n",
        "\n",
        "# Creating a confusion matrix\n",
        "cm_gb = confusion_matrix(y_test, y_pred_gb, labels=labels)\n",
        "# Visualizing the confusion matrix as a heatmap\n",
        "sns.heatmap(cm_gb/np.sum(cm_gb), annot=True, cmap='Blues',\n",
        "            fmt='.2%', xticklabels=labels, yticklabels=labels)\n",
        "plt.ylabel('True label')\n",
        "plt.xlabel('Predicted label');"
      ],
      "execution_count": null,
      "outputs": [
        {
          "output_type": "display_data",
          "data": {
            "image/png": "[encoded data removed]",
            "text/plain": [
              "<Figure size 432x288 with 2 Axes>"
            ]
          },
          "metadata": {
            "tags": [],
            "needs_background": "light"
          }
        }
      ]
    },
    {
      "cell_type": "markdown",
      "metadata": {
        "id": "UTW-1Vfdi6hH",
        "colab_type": "text"
      },
      "source": [
        "Again, this is similar to the Random Forest model, where most of the predictions are for `low` risk, no matter what the true label is."
      ]
    },
    {
      "cell_type": "markdown",
      "metadata": {
        "colab_type": "text",
        "id": "TZjsQLdLjYoc"
      },
      "source": [
        "##### Model 4: Support Vector Machine Classifier"
      ]
    },
    {
      "cell_type": "code",
      "metadata": {
        "colab_type": "code",
        "id": "z5mAaeKgjYoe",
        "colab": {
          "base_uri": "https://localhost:8080/",
          "height": 84
        },
        "outputId": "c940ba16-7ce0-441d-d96a-e25ae933bd6e"
      },
      "source": [
        "# Import model\n",
        "from sklearn.svm import SVC\n",
        "\n",
        "# Instantiate (start up) model\n",
        "svc = SVC(random_state=42)\n",
        "# Fit model on the training data\n",
        "svc.fit(X_train, y_train)"
      ],
      "execution_count": null,
      "outputs": [
        {
          "output_type": "execute_result",
          "data": {
            "text/plain": [
              "SVC(C=1.0, break_ties=False, cache_size=200, class_weight=None, coef0=0.0,\n",
              "    decision_function_shape='ovr', degree=3, gamma='scale', kernel='rbf',\n",
              "    max_iter=-1, probability=False, random_state=42, shrinking=True, tol=0.001,\n",
              "    verbose=False)"
            ]
          },
          "metadata": {
            "tags": []
          },
          "execution_count": 51
        }
      ]
    },
    {
      "cell_type": "code",
      "metadata": {
        "colab_type": "code",
        "id": "K1QyInY_jYoi",
        "colab": {
          "base_uri": "https://localhost:8080/",
          "height": 34
        },
        "outputId": "62227e20-1bc1-46e2-8b47-cb6ea29711d9"
      },
      "source": [
        "# Score the model on it's accuracy using cross validation\n",
        "svc_score = cross_val_score(svc, X_test, y_test, cv=3)\n",
        "print(f'Gradient boosting score: {svc_score.mean(): .3f} +/- {2*svc_score.std(): .4f}')"
      ],
      "execution_count": null,
      "outputs": [
        {
          "output_type": "stream",
          "text": [
            "Gradient boosting score:  0.926 +/-  0.0185\n"
          ],
          "name": "stdout"
        }
      ]
    },
    {
      "cell_type": "code",
      "metadata": {
        "colab_type": "code",
        "id": "BbLu_hLljYok",
        "colab": {
          "base_uri": "https://localhost:8080/",
          "height": 279
        },
        "outputId": "4c6d3cef-31fd-4c16-800a-b21bc33750bf"
      },
      "source": [
        "# Predicting the classes from the test set\n",
        "y_pred_svc = svc.predict(X_test)\n",
        "\n",
        "# Creating a confusion matrix\n",
        "cm_svc = confusion_matrix(y_test, y_pred_svc, labels=labels)\n",
        "# Visualizing the confusion matrix as a heatmap\n",
        "sns.heatmap(cm_svc/np.sum(cm_svc), annot=True, cmap='Blues',\n",
        "            fmt='.2%', xticklabels=labels, yticklabels=labels)\n",
        "plt.ylabel('True label')\n",
        "plt.xlabel('Predicted label');"
      ],
      "execution_count": null,
      "outputs": [
        {
          "output_type": "display_data",
          "data": {
            "image/png": "[encoded data removed]",
            "text/plain": [
              "<Figure size 432x288 with 2 Axes>"
            ]
          },
          "metadata": {
            "tags": [],
            "needs_background": "light"
          }
        }
      ]
    },
    {
      "cell_type": "markdown",
      "metadata": {
        "colab_type": "text",
        "id": "a7QTlVSYjYom"
      },
      "source": [
        "This model is even worse because it predicted that 100% of the people would be in the `low` risk bucket.  "
      ]
    },
    {
      "cell_type": "markdown",
      "metadata": {
        "id": "lPmkHKj4DvWx",
        "colab_type": "text"
      },
      "source": [
        "While not great, the most accurate model without predicting too many `low` risk people is the Random Forest Classifier - let's try it with some engineered features, but first, let's take a look at the features that were important to the model's predictions."
      ]
    },
    {
      "cell_type": "code",
      "metadata": {
        "id": "Wd7QDCJtDYmj",
        "colab_type": "code",
        "colab": {
          "base_uri": "https://localhost:8080/",
          "height": 1000
        },
        "outputId": "e3344c02-a3f4-4a57-c86e-79af3c6dc48d"
      },
      "source": [
        "# Creating a DataFrame with feature importances\n",
        "impt = pd.DataFrame(zip(X_test.columns, rf.feature_importances_), columns=['Column name', 'Feature Importance'])\n",
        "impt.sort_values(by='Feature Importance', ascending=False)"
      ],
      "execution_count": null,
      "outputs": [
        {
          "output_type": "execute_result",
          "data": {
            "text/html": [
              "<div>\n",
              "<style scoped>\n",
              "    .dataframe tbody tr th:only-of-type {\n",
              "        vertical-align: middle;\n",
              "    }\n",
              "\n",
              "    .dataframe tbody tr th {\n",
              "        vertical-align: top;\n",
              "    }\n",
              "\n",
              "    .dataframe thead th {\n",
              "        text-align: right;\n",
              "    }\n",
              "</style>\n",
              "<table border=\"1\" class=\"dataframe\">\n",
              "  <thead>\n",
              "    <tr style=\"text-align: right;\">\n",
              "      <th></th>\n",
              "      <th>Column name</th>\n",
              "      <th>Feature Importance</th>\n",
              "    </tr>\n",
              "  </thead>\n",
              "  <tbody>\n",
              "    <tr>\n",
              "      <th>1</th>\n",
              "      <td>Day of the week</td>\n",
              "      <td>0.117550</td>\n",
              "    </tr>\n",
              "    <tr>\n",
              "      <th>6</th>\n",
              "      <td>Work load Average/day</td>\n",
              "      <td>0.105659</td>\n",
              "    </tr>\n",
              "    <tr>\n",
              "      <th>0</th>\n",
              "      <td>Month of absence</td>\n",
              "      <td>0.081114</td>\n",
              "    </tr>\n",
              "    <tr>\n",
              "      <th>7</th>\n",
              "      <td>Hit target</td>\n",
              "      <td>0.080744</td>\n",
              "    </tr>\n",
              "    <tr>\n",
              "      <th>27</th>\n",
              "      <td>Reason for absence_injury</td>\n",
              "      <td>0.064324</td>\n",
              "    </tr>\n",
              "    <tr>\n",
              "      <th>2</th>\n",
              "      <td>Seasons</td>\n",
              "      <td>0.051764</td>\n",
              "    </tr>\n",
              "    <tr>\n",
              "      <th>32</th>\n",
              "      <td>Reason for absence_musculoskeletal</td>\n",
              "      <td>0.050411</td>\n",
              "    </tr>\n",
              "    <tr>\n",
              "      <th>15</th>\n",
              "      <td>Height</td>\n",
              "      <td>0.044697</td>\n",
              "    </tr>\n",
              "    <tr>\n",
              "      <th>3</th>\n",
              "      <td>Transportation expense</td>\n",
              "      <td>0.041479</td>\n",
              "    </tr>\n",
              "    <tr>\n",
              "      <th>4</th>\n",
              "      <td>Distance from Residence to Work</td>\n",
              "      <td>0.038708</td>\n",
              "    </tr>\n",
              "    <tr>\n",
              "      <th>14</th>\n",
              "      <td>Weight</td>\n",
              "      <td>0.037636</td>\n",
              "    </tr>\n",
              "    <tr>\n",
              "      <th>5</th>\n",
              "      <td>Age</td>\n",
              "      <td>0.036855</td>\n",
              "    </tr>\n",
              "    <tr>\n",
              "      <th>40</th>\n",
              "      <td>Reason for absence_skin_disease</td>\n",
              "      <td>0.028047</td>\n",
              "    </tr>\n",
              "    <tr>\n",
              "      <th>10</th>\n",
              "      <td>Son</td>\n",
              "      <td>0.027232</td>\n",
              "    </tr>\n",
              "    <tr>\n",
              "      <th>19</th>\n",
              "      <td>Reason for absence_circulatory</td>\n",
              "      <td>0.025336</td>\n",
              "    </tr>\n",
              "    <tr>\n",
              "      <th>23</th>\n",
              "      <td>Reason for absence_eye_disease</td>\n",
              "      <td>0.019277</td>\n",
              "    </tr>\n",
              "    <tr>\n",
              "      <th>39</th>\n",
              "      <td>Reason for absence_respiratory</td>\n",
              "      <td>0.016264</td>\n",
              "    </tr>\n",
              "    <tr>\n",
              "      <th>13</th>\n",
              "      <td>Pet</td>\n",
              "      <td>0.014748</td>\n",
              "    </tr>\n",
              "    <tr>\n",
              "      <th>11</th>\n",
              "      <td>Social drinker</td>\n",
              "      <td>0.013799</td>\n",
              "    </tr>\n",
              "    <tr>\n",
              "      <th>20</th>\n",
              "      <td>Reason for absence_dental_consult</td>\n",
              "      <td>0.012919</td>\n",
              "    </tr>\n",
              "    <tr>\n",
              "      <th>29</th>\n",
              "      <td>Reason for absence_medical_consultation</td>\n",
              "      <td>0.012845</td>\n",
              "    </tr>\n",
              "    <tr>\n",
              "      <th>21</th>\n",
              "      <td>Reason for absence_digestive</td>\n",
              "      <td>0.010350</td>\n",
              "    </tr>\n",
              "    <tr>\n",
              "      <th>12</th>\n",
              "      <td>Social smoker</td>\n",
              "      <td>0.007096</td>\n",
              "    </tr>\n",
              "    <tr>\n",
              "      <th>41</th>\n",
              "      <td>Reason for absence_unjustified_absence</td>\n",
              "      <td>0.006822</td>\n",
              "    </tr>\n",
              "    <tr>\n",
              "      <th>42</th>\n",
              "      <td>Reason for absence_urological</td>\n",
              "      <td>0.006671</td>\n",
              "    </tr>\n",
              "    <tr>\n",
              "      <th>26</th>\n",
              "      <td>Reason for absence_infectious_disease</td>\n",
              "      <td>0.005894</td>\n",
              "    </tr>\n",
              "    <tr>\n",
              "      <th>28</th>\n",
              "      <td>Reason for absence_lab_exam</td>\n",
              "      <td>0.005813</td>\n",
              "    </tr>\n",
              "    <tr>\n",
              "      <th>46</th>\n",
              "      <td>edu_mapped_post graduate</td>\n",
              "      <td>0.005657</td>\n",
              "    </tr>\n",
              "    <tr>\n",
              "      <th>34</th>\n",
              "      <td>Reason for absence_nervous_system</td>\n",
              "      <td>0.005314</td>\n",
              "    </tr>\n",
              "    <tr>\n",
              "      <th>9</th>\n",
              "      <td>Education</td>\n",
              "      <td>0.005113</td>\n",
              "    </tr>\n",
              "    <tr>\n",
              "      <th>16</th>\n",
              "      <td>Reason for absence_abnormal_labs</td>\n",
              "      <td>0.004286</td>\n",
              "    </tr>\n",
              "    <tr>\n",
              "      <th>37</th>\n",
              "      <td>Reason for absence_physiotherapy</td>\n",
              "      <td>0.003990</td>\n",
              "    </tr>\n",
              "    <tr>\n",
              "      <th>44</th>\n",
              "      <td>edu_mapped_high school</td>\n",
              "      <td>0.003575</td>\n",
              "    </tr>\n",
              "    <tr>\n",
              "      <th>8</th>\n",
              "      <td>Disciplinary failure</td>\n",
              "      <td>0.002373</td>\n",
              "    </tr>\n",
              "    <tr>\n",
              "      <th>43</th>\n",
              "      <td>edu_mapped_graduate</td>\n",
              "      <td>0.002064</td>\n",
              "    </tr>\n",
              "    <tr>\n",
              "      <th>35</th>\n",
              "      <td>Reason for absence_patient_follow-up</td>\n",
              "      <td>0.001824</td>\n",
              "    </tr>\n",
              "    <tr>\n",
              "      <th>18</th>\n",
              "      <td>Reason for absence_blood_donation</td>\n",
              "      <td>0.001005</td>\n",
              "    </tr>\n",
              "    <tr>\n",
              "      <th>25</th>\n",
              "      <td>Reason for absence_health_services</td>\n",
              "      <td>0.000292</td>\n",
              "    </tr>\n",
              "    <tr>\n",
              "      <th>31</th>\n",
              "      <td>Reason for absence_metabolic_disease</td>\n",
              "      <td>0.000218</td>\n",
              "    </tr>\n",
              "    <tr>\n",
              "      <th>38</th>\n",
              "      <td>Reason for absence_pregnancy_related</td>\n",
              "      <td>0.000076</td>\n",
              "    </tr>\n",
              "    <tr>\n",
              "      <th>22</th>\n",
              "      <td>Reason for absence_ear_disease</td>\n",
              "      <td>0.000073</td>\n",
              "    </tr>\n",
              "    <tr>\n",
              "      <th>45</th>\n",
              "      <td>edu_mapped_master/doctor</td>\n",
              "      <td>0.000065</td>\n",
              "    </tr>\n",
              "    <tr>\n",
              "      <th>30</th>\n",
              "      <td>Reason for absence_mental_health</td>\n",
              "      <td>0.000015</td>\n",
              "    </tr>\n",
              "    <tr>\n",
              "      <th>17</th>\n",
              "      <td>Reason for absence_blood_disease</td>\n",
              "      <td>0.000003</td>\n",
              "    </tr>\n",
              "    <tr>\n",
              "      <th>36</th>\n",
              "      <td>Reason for absence_perinatal</td>\n",
              "      <td>0.000001</td>\n",
              "    </tr>\n",
              "    <tr>\n",
              "      <th>33</th>\n",
              "      <td>Reason for absence_neoplasms</td>\n",
              "      <td>0.000000</td>\n",
              "    </tr>\n",
              "    <tr>\n",
              "      <th>24</th>\n",
              "      <td>Reason for absence_genetic_diseases</td>\n",
              "      <td>0.000000</td>\n",
              "    </tr>\n",
              "  </tbody>\n",
              "</table>\n",
              "</div>"
            ],
            "text/plain": [
              "                                Column name  Feature Importance\n",
              "1                           Day of the week            0.117550\n",
              "6                    Work load Average/day             0.105659\n",
              "0                          Month of absence            0.081114\n",
              "7                                Hit target            0.080744\n",
              "27                Reason for absence_injury            0.064324\n",
              "2                                   Seasons            0.051764\n",
              "32       Reason for absence_musculoskeletal            0.050411\n",
              "15                                   Height            0.044697\n",
              "3                    Transportation expense            0.041479\n",
              "4           Distance from Residence to Work            0.038708\n",
              "14                                   Weight            0.037636\n",
              "5                                       Age            0.036855\n",
              "40          Reason for absence_skin_disease            0.028047\n",
              "10                                      Son            0.027232\n",
              "19           Reason for absence_circulatory            0.025336\n",
              "23           Reason for absence_eye_disease            0.019277\n",
              "39           Reason for absence_respiratory            0.016264\n",
              "13                                      Pet            0.014748\n",
              "11                           Social drinker            0.013799\n",
              "20        Reason for absence_dental_consult            0.012919\n",
              "29  Reason for absence_medical_consultation            0.012845\n",
              "21             Reason for absence_digestive            0.010350\n",
              "12                            Social smoker            0.007096\n",
              "41   Reason for absence_unjustified_absence            0.006822\n",
              "42            Reason for absence_urological            0.006671\n",
              "26    Reason for absence_infectious_disease            0.005894\n",
              "28              Reason for absence_lab_exam            0.005813\n",
              "46                 edu_mapped_post graduate            0.005657\n",
              "34        Reason for absence_nervous_system            0.005314\n",
              "9                                 Education            0.005113\n",
              "16         Reason for absence_abnormal_labs            0.004286\n",
              "37         Reason for absence_physiotherapy            0.003990\n",
              "44                   edu_mapped_high school            0.003575\n",
              "8                      Disciplinary failure            0.002373\n",
              "43                      edu_mapped_graduate            0.002064\n",
              "35     Reason for absence_patient_follow-up            0.001824\n",
              "18        Reason for absence_blood_donation            0.001005\n",
              "25       Reason for absence_health_services            0.000292\n",
              "31     Reason for absence_metabolic_disease            0.000218\n",
              "38     Reason for absence_pregnancy_related            0.000076\n",
              "22           Reason for absence_ear_disease            0.000073\n",
              "45                 edu_mapped_master/doctor            0.000065\n",
              "30         Reason for absence_mental_health            0.000015\n",
              "17         Reason for absence_blood_disease            0.000003\n",
              "36             Reason for absence_perinatal            0.000001\n",
              "33             Reason for absence_neoplasms            0.000000\n",
              "24      Reason for absence_genetic_diseases            0.000000"
            ]
          },
          "metadata": {
            "tags": []
          },
          "execution_count": 54
        }
      ]
    },
    {
      "cell_type": "markdown",
      "metadata": {
        "id": "goFXc0EejO5E",
        "colab_type": "text"
      },
      "source": [
        "The work load of the person has the most influence on the model's decision, followed by information about the day and month of absence, whether they hit their target or not, and the injury-related reasons for absence."
      ]
    },
    {
      "cell_type": "markdown",
      "metadata": {
        "id": "a2OeIlBtKIrn",
        "colab_type": "text"
      },
      "source": [
        "## **Thursday**\n",
        "### Feature Engineering\n",
        "Now that we've seen the performance of our baseline models, let's do some feature engineering to see if we can garner more information out of the existing features to improve our model.\n",
        "\n",
        "**Dependents**\n",
        "\n",
        "From my experience, the more dependents (pets/children) a person has, the more time they have to take off of work to care for these dependents.  Maybe a feature that combines the two would create a better overall picture of what responsibilities a person has outside of work."
      ]
    },
    {
      "cell_type": "code",
      "metadata": {
        "id": "GlwlKWxM2rvo",
        "colab_type": "code",
        "colab": {}
      },
      "source": [
        "# Creating dependents feature by adding Son and Pet\n",
        "aaw['dependents'] = aaw['Son'] + aaw['Pet']"
      ],
      "execution_count": null,
      "outputs": []
    },
    {
      "cell_type": "code",
      "metadata": {
        "id": "6H4PLxAS4ISh",
        "colab_type": "code",
        "colab": {
          "base_uri": "https://localhost:8080/",
          "height": 225
        },
        "outputId": "78f2fe68-046b-4ce1-fec8-5c283cfe0291"
      },
      "source": [
        "# Taking a look at how that worked\n",
        "aaw[['dependents', 'Son', 'Pet']].head()"
      ],
      "execution_count": null,
      "outputs": [
        {
          "output_type": "execute_result",
          "data": {
            "text/html": [
              "<div>\n",
              "<style scoped>\n",
              "    .dataframe tbody tr th:only-of-type {\n",
              "        vertical-align: middle;\n",
              "    }\n",
              "\n",
              "    .dataframe tbody tr th {\n",
              "        vertical-align: top;\n",
              "    }\n",
              "\n",
              "    .dataframe thead th {\n",
              "        text-align: right;\n",
              "    }\n",
              "</style>\n",
              "<table border=\"1\" class=\"dataframe\">\n",
              "  <thead>\n",
              "    <tr style=\"text-align: right;\">\n",
              "      <th></th>\n",
              "      <th>dependents</th>\n",
              "      <th>Son</th>\n",
              "      <th>Pet</th>\n",
              "    </tr>\n",
              "    <tr>\n",
              "      <th>ID</th>\n",
              "      <th></th>\n",
              "      <th></th>\n",
              "      <th></th>\n",
              "    </tr>\n",
              "  </thead>\n",
              "  <tbody>\n",
              "    <tr>\n",
              "      <th>11</th>\n",
              "      <td>3</td>\n",
              "      <td>2</td>\n",
              "      <td>1</td>\n",
              "    </tr>\n",
              "    <tr>\n",
              "      <th>36</th>\n",
              "      <td>1</td>\n",
              "      <td>1</td>\n",
              "      <td>0</td>\n",
              "    </tr>\n",
              "    <tr>\n",
              "      <th>3</th>\n",
              "      <td>0</td>\n",
              "      <td>0</td>\n",
              "      <td>0</td>\n",
              "    </tr>\n",
              "    <tr>\n",
              "      <th>7</th>\n",
              "      <td>2</td>\n",
              "      <td>2</td>\n",
              "      <td>0</td>\n",
              "    </tr>\n",
              "    <tr>\n",
              "      <th>11</th>\n",
              "      <td>3</td>\n",
              "      <td>2</td>\n",
              "      <td>1</td>\n",
              "    </tr>\n",
              "  </tbody>\n",
              "</table>\n",
              "</div>"
            ],
            "text/plain": [
              "    dependents  Son  Pet\n",
              "ID                      \n",
              "11           3    2    1\n",
              "36           1    1    0\n",
              "3            0    0    0\n",
              "7            2    2    0\n",
              "11           3    2    1"
            ]
          },
          "metadata": {
            "tags": []
          },
          "execution_count": 56
        }
      ]
    },
    {
      "cell_type": "code",
      "metadata": {
        "id": "CBBGwsG33Z_n",
        "colab_type": "code",
        "colab": {
          "base_uri": "https://localhost:8080/",
          "height": 168
        },
        "outputId": "e57d0097-efd8-48a6-ae79-97c28164d49e"
      },
      "source": [
        "# Checking the spread of this new field\n",
        "aaw['dependents'].describe()"
      ],
      "execution_count": null,
      "outputs": [
        {
          "output_type": "execute_result",
          "data": {
            "text/plain": [
              "count    740.000000\n",
              "mean       1.764865\n",
              "std        1.805527\n",
              "min        0.000000\n",
              "25%        0.000000\n",
              "50%        2.000000\n",
              "75%        3.000000\n",
              "max        9.000000\n",
              "Name: dependents, dtype: float64"
            ]
          },
          "metadata": {
            "tags": []
          },
          "execution_count": 57
        }
      ]
    },
    {
      "cell_type": "markdown",
      "metadata": {
        "id": "rRvtI7e_lcQ3",
        "colab_type": "text"
      },
      "source": [
        "**Transportation Expense per Km**\n",
        "\n",
        "Since we have both transportation expense and distance to work, maybe the expense per km might be helpful in predicting risk bucket."
      ]
    },
    {
      "cell_type": "code",
      "metadata": {
        "id": "sMNkChmv3ji2",
        "colab_type": "code",
        "colab": {}
      },
      "source": [
        "# Calculating expense per km\n",
        "aaw['transportation_expense_per_km'] = aaw['Transportation expense'] / aaw['Distance from Residence to Work']"
      ],
      "execution_count": null,
      "outputs": []
    },
    {
      "cell_type": "code",
      "metadata": {
        "id": "lt6e_CR54Ral",
        "colab_type": "code",
        "colab": {
          "base_uri": "https://localhost:8080/",
          "height": 225
        },
        "outputId": "5f215e1c-eecf-4ba3-fe3c-8cff9173bbe0"
      },
      "source": [
        "# Taking a look at our work\n",
        "aaw[['Transportation expense', 'Distance from Residence to Work', 'transportation_expense_per_km']].head()"
      ],
      "execution_count": null,
      "outputs": [
        {
          "output_type": "execute_result",
          "data": {
            "text/html": [
              "<div>\n",
              "<style scoped>\n",
              "    .dataframe tbody tr th:only-of-type {\n",
              "        vertical-align: middle;\n",
              "    }\n",
              "\n",
              "    .dataframe tbody tr th {\n",
              "        vertical-align: top;\n",
              "    }\n",
              "\n",
              "    .dataframe thead th {\n",
              "        text-align: right;\n",
              "    }\n",
              "</style>\n",
              "<table border=\"1\" class=\"dataframe\">\n",
              "  <thead>\n",
              "    <tr style=\"text-align: right;\">\n",
              "      <th></th>\n",
              "      <th>Transportation expense</th>\n",
              "      <th>Distance from Residence to Work</th>\n",
              "      <th>transportation_expense_per_km</th>\n",
              "    </tr>\n",
              "    <tr>\n",
              "      <th>ID</th>\n",
              "      <th></th>\n",
              "      <th></th>\n",
              "      <th></th>\n",
              "    </tr>\n",
              "  </thead>\n",
              "  <tbody>\n",
              "    <tr>\n",
              "      <th>11</th>\n",
              "      <td>289</td>\n",
              "      <td>36</td>\n",
              "      <td>8.027778</td>\n",
              "    </tr>\n",
              "    <tr>\n",
              "      <th>36</th>\n",
              "      <td>118</td>\n",
              "      <td>13</td>\n",
              "      <td>9.076923</td>\n",
              "    </tr>\n",
              "    <tr>\n",
              "      <th>3</th>\n",
              "      <td>179</td>\n",
              "      <td>51</td>\n",
              "      <td>3.509804</td>\n",
              "    </tr>\n",
              "    <tr>\n",
              "      <th>7</th>\n",
              "      <td>279</td>\n",
              "      <td>5</td>\n",
              "      <td>55.800000</td>\n",
              "    </tr>\n",
              "    <tr>\n",
              "      <th>11</th>\n",
              "      <td>289</td>\n",
              "      <td>36</td>\n",
              "      <td>8.027778</td>\n",
              "    </tr>\n",
              "  </tbody>\n",
              "</table>\n",
              "</div>"
            ],
            "text/plain": [
              "    Transportation expense  ...  transportation_expense_per_km\n",
              "ID                          ...                               \n",
              "11                     289  ...                       8.027778\n",
              "36                     118  ...                       9.076923\n",
              "3                      179  ...                       3.509804\n",
              "7                      279  ...                      55.800000\n",
              "11                     289  ...                       8.027778\n",
              "\n",
              "[5 rows x 3 columns]"
            ]
          },
          "metadata": {
            "tags": []
          },
          "execution_count": 59
        }
      ]
    },
    {
      "cell_type": "code",
      "metadata": {
        "id": "GCeSrR8-nYFE",
        "colab_type": "code",
        "colab": {
          "base_uri": "https://localhost:8080/",
          "height": 168
        },
        "outputId": "00fd956e-32c7-4e6d-9f76-aa37588f2465"
      },
      "source": [
        "# Checking out the distribution of transportation expenses\n",
        "aaw['transportation_expense_per_km'].describe()"
      ],
      "execution_count": null,
      "outputs": [
        {
          "output_type": "execute_result",
          "data": {
            "text/plain": [
              "count    740.000000\n",
              "mean       9.549425\n",
              "std        6.317286\n",
              "min        3.509804\n",
              "25%        6.393139\n",
              "50%        8.653846\n",
              "75%       11.750000\n",
              "max       55.800000\n",
              "Name: transportation_expense_per_km, dtype: float64"
            ]
          },
          "metadata": {
            "tags": []
          },
          "execution_count": 60
        }
      ]
    },
    {
      "cell_type": "markdown",
      "metadata": {
        "id": "1yFC69Rlnnqc",
        "colab_type": "text"
      },
      "source": [
        "**Social Risk**\n",
        "\n",
        "Since we have both social smoking and social drinking, they might have even more impact on risk bucket if they either do neither or both."
      ]
    },
    {
      "cell_type": "code",
      "metadata": {
        "id": "HX1siLXA4HjY",
        "colab_type": "code",
        "colab": {}
      },
      "source": [
        "# Give social drinking 1/2 point, and social smoking 2 points (riskier) - sum the two\n",
        "aaw['social_risk'] = aaw['Social drinker']/2 + aaw['Social smoker']*2"
      ],
      "execution_count": null,
      "outputs": []
    },
    {
      "cell_type": "code",
      "metadata": {
        "id": "WHs_ihyj5JWJ",
        "colab_type": "code",
        "colab": {
          "base_uri": "https://localhost:8080/",
          "height": 225
        },
        "outputId": "b899468a-dd1a-446f-9d88-014afe0066e6"
      },
      "source": [
        "# Take a look at our work\n",
        "aaw[['social_risk', 'Social drinker', 'Social smoker']].head()"
      ],
      "execution_count": null,
      "outputs": [
        {
          "output_type": "execute_result",
          "data": {
            "text/html": [
              "<div>\n",
              "<style scoped>\n",
              "    .dataframe tbody tr th:only-of-type {\n",
              "        vertical-align: middle;\n",
              "    }\n",
              "\n",
              "    .dataframe tbody tr th {\n",
              "        vertical-align: top;\n",
              "    }\n",
              "\n",
              "    .dataframe thead th {\n",
              "        text-align: right;\n",
              "    }\n",
              "</style>\n",
              "<table border=\"1\" class=\"dataframe\">\n",
              "  <thead>\n",
              "    <tr style=\"text-align: right;\">\n",
              "      <th></th>\n",
              "      <th>social_risk</th>\n",
              "      <th>Social drinker</th>\n",
              "      <th>Social smoker</th>\n",
              "    </tr>\n",
              "    <tr>\n",
              "      <th>ID</th>\n",
              "      <th></th>\n",
              "      <th></th>\n",
              "      <th></th>\n",
              "    </tr>\n",
              "  </thead>\n",
              "  <tbody>\n",
              "    <tr>\n",
              "      <th>11</th>\n",
              "      <td>0.5</td>\n",
              "      <td>1</td>\n",
              "      <td>0</td>\n",
              "    </tr>\n",
              "    <tr>\n",
              "      <th>36</th>\n",
              "      <td>0.5</td>\n",
              "      <td>1</td>\n",
              "      <td>0</td>\n",
              "    </tr>\n",
              "    <tr>\n",
              "      <th>3</th>\n",
              "      <td>0.5</td>\n",
              "      <td>1</td>\n",
              "      <td>0</td>\n",
              "    </tr>\n",
              "    <tr>\n",
              "      <th>7</th>\n",
              "      <td>2.5</td>\n",
              "      <td>1</td>\n",
              "      <td>1</td>\n",
              "    </tr>\n",
              "    <tr>\n",
              "      <th>11</th>\n",
              "      <td>0.5</td>\n",
              "      <td>1</td>\n",
              "      <td>0</td>\n",
              "    </tr>\n",
              "  </tbody>\n",
              "</table>\n",
              "</div>"
            ],
            "text/plain": [
              "    social_risk  Social drinker  Social smoker\n",
              "ID                                            \n",
              "11          0.5               1              0\n",
              "36          0.5               1              0\n",
              "3           0.5               1              0\n",
              "7           2.5               1              1\n",
              "11          0.5               1              0"
            ]
          },
          "metadata": {
            "tags": []
          },
          "execution_count": 62
        }
      ]
    },
    {
      "cell_type": "code",
      "metadata": {
        "id": "-rVlXX8P5O44",
        "colab_type": "code",
        "colab": {
          "base_uri": "https://localhost:8080/",
          "height": 284
        },
        "outputId": "ffcccdac-eab5-4a55-a48b-b24ed1033254"
      },
      "source": [
        "# Distributions of the three features\n",
        "aaw[['social_risk', 'Social drinker', 'Social smoker']].describe()"
      ],
      "execution_count": null,
      "outputs": [
        {
          "output_type": "execute_result",
          "data": {
            "text/html": [
              "<div>\n",
              "<style scoped>\n",
              "    .dataframe tbody tr th:only-of-type {\n",
              "        vertical-align: middle;\n",
              "    }\n",
              "\n",
              "    .dataframe tbody tr th {\n",
              "        vertical-align: top;\n",
              "    }\n",
              "\n",
              "    .dataframe thead th {\n",
              "        text-align: right;\n",
              "    }\n",
              "</style>\n",
              "<table border=\"1\" class=\"dataframe\">\n",
              "  <thead>\n",
              "    <tr style=\"text-align: right;\">\n",
              "      <th></th>\n",
              "      <th>social_risk</th>\n",
              "      <th>Social drinker</th>\n",
              "      <th>Social smoker</th>\n",
              "    </tr>\n",
              "  </thead>\n",
              "  <tbody>\n",
              "    <tr>\n",
              "      <th>count</th>\n",
              "      <td>740.000000</td>\n",
              "      <td>740.000000</td>\n",
              "      <td>740.000000</td>\n",
              "    </tr>\n",
              "    <tr>\n",
              "      <th>mean</th>\n",
              "      <td>0.429730</td>\n",
              "      <td>0.567568</td>\n",
              "      <td>0.072973</td>\n",
              "    </tr>\n",
              "    <tr>\n",
              "      <th>std</th>\n",
              "      <td>0.550981</td>\n",
              "      <td>0.495749</td>\n",
              "      <td>0.260268</td>\n",
              "    </tr>\n",
              "    <tr>\n",
              "      <th>min</th>\n",
              "      <td>0.000000</td>\n",
              "      <td>0.000000</td>\n",
              "      <td>0.000000</td>\n",
              "    </tr>\n",
              "    <tr>\n",
              "      <th>25%</th>\n",
              "      <td>0.000000</td>\n",
              "      <td>0.000000</td>\n",
              "      <td>0.000000</td>\n",
              "    </tr>\n",
              "    <tr>\n",
              "      <th>50%</th>\n",
              "      <td>0.500000</td>\n",
              "      <td>1.000000</td>\n",
              "      <td>0.000000</td>\n",
              "    </tr>\n",
              "    <tr>\n",
              "      <th>75%</th>\n",
              "      <td>0.500000</td>\n",
              "      <td>1.000000</td>\n",
              "      <td>0.000000</td>\n",
              "    </tr>\n",
              "    <tr>\n",
              "      <th>max</th>\n",
              "      <td>2.500000</td>\n",
              "      <td>1.000000</td>\n",
              "      <td>1.000000</td>\n",
              "    </tr>\n",
              "  </tbody>\n",
              "</table>\n",
              "</div>"
            ],
            "text/plain": [
              "       social_risk  Social drinker  Social smoker\n",
              "count   740.000000      740.000000     740.000000\n",
              "mean      0.429730        0.567568       0.072973\n",
              "std       0.550981        0.495749       0.260268\n",
              "min       0.000000        0.000000       0.000000\n",
              "25%       0.000000        0.000000       0.000000\n",
              "50%       0.500000        1.000000       0.000000\n",
              "75%       0.500000        1.000000       0.000000\n",
              "max       2.500000        1.000000       1.000000"
            ]
          },
          "metadata": {
            "tags": []
          },
          "execution_count": 63
        }
      ]
    },
    {
      "cell_type": "markdown",
      "metadata": {
        "id": "FCFT3ZFtpj-3",
        "colab_type": "text"
      },
      "source": [
        "**Reason for absence due to chronic disease**\n",
        "\n",
        "There are a bunch of different reasons for why someone might miss work, so maybe we can bucket these into chronic vs acute reasons, the thinking that excuses related to chronic diseases might relate to a higher risk individual"
      ]
    },
    {
      "cell_type": "code",
      "metadata": {
        "id": "W3HWUgEvbYDt",
        "colab_type": "code",
        "colab": {}
      },
      "source": [
        "# Identifying all reasons related to possible chronic diseases\n",
        "reason_chronic = ['eye_disease', 'infectious_disease', 'digestive', 'urological', \n",
        "                  'repspiratory', 'abnormal_labs', 'nervous_system', 'genetic_diseases',\n",
        "                  'ear_disease', 'skin_disease', 'circulatory', 'metabolic_disease', \n",
        "                  'blood_disease', 'neoplasm']\n",
        "\n",
        "# Use list comprehension to identify excuses related to chronic diseases\n",
        "aaw['reason_chronic'] = [1 if x in reason_chronic else 0 for x in aaw['Reason for absence']]"
      ],
      "execution_count": null,
      "outputs": []
    },
    {
      "cell_type": "code",
      "metadata": {
        "id": "zY2QNzEKeLmE",
        "colab_type": "code",
        "colab": {
          "base_uri": "https://localhost:8080/",
          "height": 225
        },
        "outputId": "b803afc2-4425-4beb-8a55-359d2bf843be"
      },
      "source": [
        "# Checking out our work\n",
        "aaw[['Reason for absence', 'reason_chronic']].head()"
      ],
      "execution_count": null,
      "outputs": [
        {
          "output_type": "execute_result",
          "data": {
            "text/html": [
              "<div>\n",
              "<style scoped>\n",
              "    .dataframe tbody tr th:only-of-type {\n",
              "        vertical-align: middle;\n",
              "    }\n",
              "\n",
              "    .dataframe tbody tr th {\n",
              "        vertical-align: top;\n",
              "    }\n",
              "\n",
              "    .dataframe thead th {\n",
              "        text-align: right;\n",
              "    }\n",
              "</style>\n",
              "<table border=\"1\" class=\"dataframe\">\n",
              "  <thead>\n",
              "    <tr style=\"text-align: right;\">\n",
              "      <th></th>\n",
              "      <th>Reason for absence</th>\n",
              "      <th>reason_chronic</th>\n",
              "    </tr>\n",
              "    <tr>\n",
              "      <th>ID</th>\n",
              "      <th></th>\n",
              "      <th></th>\n",
              "    </tr>\n",
              "  </thead>\n",
              "  <tbody>\n",
              "    <tr>\n",
              "      <th>11</th>\n",
              "      <td>unjustified_absence</td>\n",
              "      <td>0</td>\n",
              "    </tr>\n",
              "    <tr>\n",
              "      <th>36</th>\n",
              "      <td>NaN</td>\n",
              "      <td>0</td>\n",
              "    </tr>\n",
              "    <tr>\n",
              "      <th>3</th>\n",
              "      <td>medical_consultation</td>\n",
              "      <td>0</td>\n",
              "    </tr>\n",
              "    <tr>\n",
              "      <th>7</th>\n",
              "      <td>eye_disease</td>\n",
              "      <td>1</td>\n",
              "    </tr>\n",
              "    <tr>\n",
              "      <th>11</th>\n",
              "      <td>medical_consultation</td>\n",
              "      <td>0</td>\n",
              "    </tr>\n",
              "  </tbody>\n",
              "</table>\n",
              "</div>"
            ],
            "text/plain": [
              "      Reason for absence  reason_chronic\n",
              "ID                                      \n",
              "11   unjustified_absence               0\n",
              "36                   NaN               0\n",
              "3   medical_consultation               0\n",
              "7            eye_disease               1\n",
              "11  medical_consultation               0"
            ]
          },
          "metadata": {
            "tags": []
          },
          "execution_count": 65
        }
      ]
    },
    {
      "cell_type": "markdown",
      "metadata": {
        "id": "q_J4HRAOqRz2",
        "colab_type": "text"
      },
      "source": [
        "Now that we've engineered some features, we need to re-encode our data to get our data ready for modeling again"
      ]
    },
    {
      "cell_type": "code",
      "metadata": {
        "id": "kxxbptsI9Pi2",
        "colab_type": "code",
        "colab": {}
      },
      "source": [
        "# Encoding everything except for risk bucket (again) \n",
        "# and reason (we engineered a feature to take its place)\n",
        "encoded_fe = pd.get_dummies(aaw.drop(['risk_bucket', \n",
        "                                   'Reason for absence'\n",
        "                                   ], axis=1))"
      ],
      "execution_count": null,
      "outputs": []
    },
    {
      "cell_type": "markdown",
      "metadata": {
        "id": "E5zMB62wq3VY",
        "colab_type": "text"
      },
      "source": [
        "Let's take a look at how our new features are correlated to absenteeism time in hours to determine if these are improvements to the original features."
      ]
    },
    {
      "cell_type": "code",
      "metadata": {
        "id": "ki_KmfcF5WLv",
        "colab_type": "code",
        "colab": {
          "base_uri": "https://localhost:8080/",
          "height": 425
        },
        "outputId": "4e77277e-afd9-43f9-ff00-3d4637a73a6c"
      },
      "source": [
        "# Plotting heatmap of our original and engineered features\n",
        "sns.heatmap(encoded_fe[['Absenteeism time in hours', \n",
        "                 'dependents', 'Son', 'Pet',\n",
        "                 'social_risk', 'Social drinker', 'Social smoker', \n",
        "                 'transportation_expense_per_km', 'Transportation expense', 'Distance from Residence to Work',\n",
        "                 'reason_chronic', ]].corr());"
      ],
      "execution_count": null,
      "outputs": [
        {
          "output_type": "display_data",
          "data": {
            "image/png": "[encoded data removed]",
            "text/plain": [
              "<Figure size 432x288 with 2 Axes>"
            ]
          },
          "metadata": {
            "tags": [],
            "needs_background": "light"
          }
        }
      ]
    },
    {
      "cell_type": "markdown",
      "metadata": {
        "id": "FV0-cnOGrF2R",
        "colab_type": "text"
      },
      "source": [
        "Results:\n",
        "- Son is actually more highly correlated to absenteeism than dependent\n",
        "  - Decision: Keep Son and Pet\n",
        "- Social Risk is similar to Social drinker \n",
        "  - Decision: Try with Social Risk (might want to model with each combination and determine how impacts model)\n",
        "- Transportation expense per km is more highly correlated to absenteeism than the other two\n",
        "  - Decision: Keep expense per km\n",
        "- Reason chronic looks well correlated to absenteeism time in hours\n",
        "  - Decision: Keep Reason Chronic"
      ]
    },
    {
      "cell_type": "markdown",
      "metadata": {
        "id": "kf_vnp03Py5y",
        "colab_type": "text"
      },
      "source": [
        "> *You be the Data Scientist*: The features that we engineered are one of the most important subjective choices that a data scientist makes in their daily workflow. Can you think of combining our features in any other ways to create new ones? What would the value be?"
      ]
    },
    {
      "cell_type": "markdown",
      "metadata": {
        "id": "1JWVbFmCKS0y",
        "colab_type": "text"
      },
      "source": [
        "## **Friday**\n",
        "\n",
        "### Refined Model\n",
        "Time to test our engineered features and see how they impact the model predictions!"
      ]
    },
    {
      "cell_type": "code",
      "metadata": {
        "id": "dqkaxSvo-hFf",
        "colab_type": "code",
        "colab": {}
      },
      "source": [
        "# Identifying which columns to use as inputs\n",
        "X_fe = encoded_fe.drop(['dependents', 'Social drinker', 'Social smoker',\n",
        "                        'Transportation expense', 'Distance from Residence to Work',\n",
        "                        'Absenteeism time in hours',\n",
        "                        # Also removing columns that wouldn't be known at time of insurance\n",
        "                        'Month of absence', 'Day of the week', 'Seasons'\n",
        "                        ], axis=1)\n",
        "# Keep the risk bucket target variable\n",
        "y = aaw['risk_bucket']\n",
        "\n",
        "# Train/test split of data\n",
        "X_train_fe, X_test_fe, y_train, y_test = train_test_split(X_fe, y, test_size=0.2, random_state=42)"
      ],
      "execution_count": null,
      "outputs": []
    },
    {
      "cell_type": "code",
      "metadata": {
        "id": "qXz_9GMp-9js",
        "colab_type": "code",
        "colab": {
          "base_uri": "https://localhost:8080/",
          "height": 153
        },
        "outputId": "bc69fc50-fdfe-478c-8fc8-49026f5c7185"
      },
      "source": [
        "# Instantiating a new Random Forest Classifier\n",
        "rf_fe = RandomForestClassifier(random_state=42)\n",
        "# Fit using training data\n",
        "rf_fe.fit(X_train_fe, y_train)"
      ],
      "execution_count": null,
      "outputs": [
        {
          "output_type": "execute_result",
          "data": {
            "text/plain": [
              "RandomForestClassifier(bootstrap=True, ccp_alpha=0.0, class_weight=None,\n",
              "                       criterion='gini', max_depth=None, max_features='auto',\n",
              "                       max_leaf_nodes=None, max_samples=None,\n",
              "                       min_impurity_decrease=0.0, min_impurity_split=None,\n",
              "                       min_samples_leaf=1, min_samples_split=2,\n",
              "                       min_weight_fraction_leaf=0.0, n_estimators=100,\n",
              "                       n_jobs=None, oob_score=False, random_state=42, verbose=0,\n",
              "                       warm_start=False)"
            ]
          },
          "metadata": {
            "tags": []
          },
          "execution_count": 175
        }
      ]
    },
    {
      "cell_type": "code",
      "metadata": {
        "id": "gSRGNJ5i_SWA",
        "colab_type": "code",
        "colab": {
          "base_uri": "https://localhost:8080/",
          "height": 34
        },
        "outputId": "55244558-38d7-46e6-bdf9-186d1fd9976b"
      },
      "source": [
        "# Assess model using cross validation\n",
        "rf_score_fe = cross_val_score(rf_fe, X_test_fe, y_test, cv=3)\n",
        "print(f'Feature Engineered score: {rf_score_fe.mean(): .5f} +/- {2*rf_score_fe.std(): .6f}')"
      ],
      "execution_count": null,
      "outputs": [
        {
          "output_type": "stream",
          "text": [
            "Feature Engineered score:  0.89184 +/-  0.020272\n"
          ],
          "name": "stdout"
        }
      ]
    },
    {
      "cell_type": "code",
      "metadata": {
        "id": "D7benVvvjUJN",
        "colab_type": "code",
        "colab": {
          "base_uri": "https://localhost:8080/",
          "height": 279
        },
        "outputId": "cf030ba4-aad4-4b58-ba07-3db5de6d117b"
      },
      "source": [
        "# Predicting classes from test set\n",
        "y_pred_fe = rf_fe.predict(X_test_fe)\n",
        "# Create confusion matrix\n",
        "cm_fe = confusion_matrix(y_test, y_pred_fe, labels=labels)\n",
        "# Plot confusion matrix\n",
        "sns.heatmap(cm_fe/np.sum(cm_fe), annot=True, cmap='Blues',\n",
        "            fmt='.2%', xticklabels=labels, yticklabels=labels)\n",
        "plt.ylabel('True label')\n",
        "plt.xlabel('Predicted label');"
      ],
      "execution_count": null,
      "outputs": [
        {
          "output_type": "display_data",
          "data": {
            "image/png": "[encoded data removed]",
            "text/plain": [
              "<Figure size 432x288 with 2 Axes>"
            ]
          },
          "metadata": {
            "tags": [],
            "needs_background": "light"
          }
        }
      ]
    },
    {
      "cell_type": "markdown",
      "metadata": {
        "id": "2xcPR09guvmq",
        "colab_type": "text"
      },
      "source": [
        "Well, this isn't that much better.  We might need to re-assess some aspects about this project.\n",
        "\n",
        "First, let's check to see what features were important in the model's decisions."
      ]
    },
    {
      "cell_type": "code",
      "metadata": {
        "id": "FXwSNavj_c_V",
        "colab_type": "code",
        "colab": {
          "base_uri": "https://localhost:8080/",
          "height": 545
        },
        "outputId": "2be0a556-5816-446c-f733-a7a153d73ef0"
      },
      "source": [
        "# Check which features were important in the model\n",
        "impt_fe = pd.DataFrame(zip(X_test_fe.columns, rf_fe.feature_importances_), columns=['Column name', 'Feature Importance'])\n",
        "impt_fe.sort_values(by='Feature Importance', ascending=False)"
      ],
      "execution_count": null,
      "outputs": [
        {
          "output_type": "execute_result",
          "data": {
            "text/html": [
              "<div>\n",
              "<style scoped>\n",
              "    .dataframe tbody tr th:only-of-type {\n",
              "        vertical-align: middle;\n",
              "    }\n",
              "\n",
              "    .dataframe tbody tr th {\n",
              "        vertical-align: top;\n",
              "    }\n",
              "\n",
              "    .dataframe thead th {\n",
              "        text-align: right;\n",
              "    }\n",
              "</style>\n",
              "<table border=\"1\" class=\"dataframe\">\n",
              "  <thead>\n",
              "    <tr style=\"text-align: right;\">\n",
              "      <th></th>\n",
              "      <th>Column name</th>\n",
              "      <th>Feature Importance</th>\n",
              "    </tr>\n",
              "  </thead>\n",
              "  <tbody>\n",
              "    <tr>\n",
              "      <th>1</th>\n",
              "      <td>Work load Average/day</td>\n",
              "      <td>0.350167</td>\n",
              "    </tr>\n",
              "    <tr>\n",
              "      <th>2</th>\n",
              "      <td>Hit target</td>\n",
              "      <td>0.219976</td>\n",
              "    </tr>\n",
              "    <tr>\n",
              "      <th>11</th>\n",
              "      <td>reason_chronic</td>\n",
              "      <td>0.091368</td>\n",
              "    </tr>\n",
              "    <tr>\n",
              "      <th>7</th>\n",
              "      <td>Weight</td>\n",
              "      <td>0.064486</td>\n",
              "    </tr>\n",
              "    <tr>\n",
              "      <th>8</th>\n",
              "      <td>Height</td>\n",
              "      <td>0.061409</td>\n",
              "    </tr>\n",
              "    <tr>\n",
              "      <th>0</th>\n",
              "      <td>Age</td>\n",
              "      <td>0.056089</td>\n",
              "    </tr>\n",
              "    <tr>\n",
              "      <th>9</th>\n",
              "      <td>transportation_expense_per_km</td>\n",
              "      <td>0.056070</td>\n",
              "    </tr>\n",
              "    <tr>\n",
              "      <th>5</th>\n",
              "      <td>Son</td>\n",
              "      <td>0.034789</td>\n",
              "    </tr>\n",
              "    <tr>\n",
              "      <th>6</th>\n",
              "      <td>Pet</td>\n",
              "      <td>0.019180</td>\n",
              "    </tr>\n",
              "    <tr>\n",
              "      <th>10</th>\n",
              "      <td>social_risk</td>\n",
              "      <td>0.018500</td>\n",
              "    </tr>\n",
              "    <tr>\n",
              "      <th>4</th>\n",
              "      <td>Education</td>\n",
              "      <td>0.008906</td>\n",
              "    </tr>\n",
              "    <tr>\n",
              "      <th>3</th>\n",
              "      <td>Disciplinary failure</td>\n",
              "      <td>0.005913</td>\n",
              "    </tr>\n",
              "    <tr>\n",
              "      <th>15</th>\n",
              "      <td>edu_mapped_post graduate</td>\n",
              "      <td>0.005433</td>\n",
              "    </tr>\n",
              "    <tr>\n",
              "      <th>13</th>\n",
              "      <td>edu_mapped_high school</td>\n",
              "      <td>0.004184</td>\n",
              "    </tr>\n",
              "    <tr>\n",
              "      <th>12</th>\n",
              "      <td>edu_mapped_graduate</td>\n",
              "      <td>0.003179</td>\n",
              "    </tr>\n",
              "    <tr>\n",
              "      <th>14</th>\n",
              "      <td>edu_mapped_master/doctor</td>\n",
              "      <td>0.000350</td>\n",
              "    </tr>\n",
              "  </tbody>\n",
              "</table>\n",
              "</div>"
            ],
            "text/plain": [
              "                      Column name  Feature Importance\n",
              "1          Work load Average/day             0.350167\n",
              "2                      Hit target            0.219976\n",
              "11                 reason_chronic            0.091368\n",
              "7                          Weight            0.064486\n",
              "8                          Height            0.061409\n",
              "0                             Age            0.056089\n",
              "9   transportation_expense_per_km            0.056070\n",
              "5                             Son            0.034789\n",
              "6                             Pet            0.019180\n",
              "10                    social_risk            0.018500\n",
              "4                       Education            0.008906\n",
              "3            Disciplinary failure            0.005913\n",
              "15       edu_mapped_post graduate            0.005433\n",
              "13         edu_mapped_high school            0.004184\n",
              "12            edu_mapped_graduate            0.003179\n",
              "14       edu_mapped_master/doctor            0.000350"
            ]
          },
          "metadata": {
            "tags": []
          },
          "execution_count": 178
        }
      ]
    },
    {
      "cell_type": "markdown",
      "metadata": {
        "id": "VyQBe0pfvPJ6",
        "colab_type": "text"
      },
      "source": [
        "Seems like work load is a good indicator of a person's risk bucket, as is the proportion of time they hit their targets.  And our engineered feature of chronic reason for absence is also a good predictor of risk.\n",
        "\n",
        "We're nearing the end of our week and it's time to summarize our findings and next steps."
      ]
    },
    {
      "cell_type": "markdown",
      "metadata": {
        "id": "a-DJJcnpoV8D",
        "colab_type": "text"
      },
      "source": [
        "### Findings and Recommendations:\n",
        "- Need more data - 740 people isn't enough to create a strong model, especially with unbalanced classes\n",
        "- Try building model to predict actual Absenteeism time instead of risk buckets\n",
        "- Do more investigation into engineered features and how they are related to risk buckets and how they impact the models\n",
        "\n",
        "- Summary of findings: \n",
        "  - A higher expected work load per day contributes to a higher insurance risk\n",
        "  - Most people are a `low` insurance risk\n",
        "  - `High` risk employees:\n",
        "    - have chronic illnesses,\n",
        "    - live closer to work, \n",
        "    - are less educated, \n",
        "    - are social drinkers and smokers, \n",
        "    - have more children, \n",
        "    - are taller, \n",
        "    - and are more prone to injury\n"
      ]
    },
    {
      "cell_type": "markdown",
      "metadata": {
        "id": "NlbEwEPgQh-d",
        "colab_type": "text"
      },
      "source": [
        "> *You be the Data Scientist*: These are some of the initial findings from our \"week of work\", but what other trends or patterns do you think are important to report? Why should they be included?"
      ]
    }
  ]
}